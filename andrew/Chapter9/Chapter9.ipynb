{
 "cells": [
  {
   "cell_type": "markdown",
   "metadata": {},
   "source": [
    "## Question 1"
   ]
  },
  {
   "cell_type": "code",
   "execution_count": 1,
   "metadata": {},
   "outputs": [],
   "source": [
    "def documents_ok(passport,permanent_resident_card,drivers_license,voter_registration,under_18,report_card,doctor_record,daycare_record,school_id,social_security_card,birth_certificate):\n",
    "    ageIndependentDocs = passport or permanent_resident_card or drivers_license or school_id or voter_registration\n",
    "    return (ageIndependentDocs or under_18) and \\\n",
    "                (not under_18 or report_card or doctor_record or daycare_record or ageIndependentDocs) and \\\n",
    "                (not under_18 or social_security_card or birth_certificate or ageIndependentDocs)"
   ]
  },
  {
   "cell_type": "markdown",
   "metadata": {},
   "source": [
    "## Question 2"
   ]
  },
  {
   "cell_type": "markdown",
   "metadata": {},
   "source": [
    "a' = a\n",
    "\n",
    "b' = b\n",
    "\n",
    "c' = c XOR NOT(a AND b)\n",
    "\n",
    "\n",
    "|   a   |   b   |   c   |   a'   |    b'    |    c'    |\n",
    "|------ |:-----:|:-----:|:------:|:--------:|:--------:| \n",
    " T | T | T | T | T | T \n",
    " T | T | F | T | T | F \n",
    " T | F | T | T | F | F \n",
    " T | F | F | T | F | T\n",
    " F | T | T | F | T | F\n",
    " F | T | F | F | T | T\n",
    " F | F | T | F | F | F\n",
    " F | F | F | F | F | T"
   ]
  },
  {
   "cell_type": "markdown",
   "metadata": {},
   "source": [
    "## Question 3"
   ]
  },
  {
   "cell_type": "code",
   "execution_count": 4,
   "metadata": {},
   "outputs": [
    {
     "data": {
      "text/html": [
       "<pre style=\"word-wrap: normal;white-space: pre;line-height: 15px;\">         ┌───┐          ┌───┐          \n",
       "q1_0: |0>┤ X ├──■───────┤ X ├──────────\n",
       "         ├───┤  │       ├───┤          \n",
       "q1_1: |0>┤ X ├──■───────┤ X ├──────────\n",
       "         ├───┤  │       ├───┤          \n",
       "q1_2: |0>┤ X ├──┼────■──┤ X ├──────────\n",
       "         ├───┤  │    │  ├───┤          \n",
       "q1_3: |0>┤ X ├──┼────■──┤ X ├──────────\n",
       "         ├───┤┌─┴─┐  │  ├───┤     ┌───┐\n",
       "q1_4: |0>┤ X ├┤ X ├──┼──┤ X ├──■──┤ X ├\n",
       "         ├───┤└───┘┌─┴─┐├───┤  │  ├───┤\n",
       "q1_5: |0>┤ X ├─────┤ X ├┤ X ├──■──┤ X ├\n",
       "         ├───┤     └───┘└───┘┌─┴─┐└┬─┬┘\n",
       "q1_6: |0>┤ X ├───────────────┤ X ├─┤M├─\n",
       "         └───┘               └───┘ └╥┘ \n",
       " c1_0: 0 ═══════════════════════════╩══\n",
       "                                       </pre>"
      ],
      "text/plain": [
       "<qiskit.visualization.text.TextDrawing at 0x7f085b1fad68>"
      ]
     },
     "execution_count": 4,
     "metadata": {},
     "output_type": "execute_result"
    }
   ],
   "source": [
    "import qiskit\n",
    "qr = qiskit.QuantumRegister(7)\n",
    "cr = qiskit.ClassicalRegister(1)\n",
    "qc = qiskit.QuantumCircuit(qr, cr)\n",
    "qc.x(qr[0])\n",
    "qc.x(qr[1])\n",
    "qc.x(qr[4])\n",
    "qc.ccx(qr[0], qr[1], qr[4])\n",
    "qc.x(qr[0])\n",
    "qc.x(qr[1])\n",
    "qc.x(qr[2])\n",
    "qc.x(qr[3])\n",
    "qc.x(qr[5])\n",
    "qc.ccx(qr[2], qr[3], qr[5])\n",
    "qc.x(qr[2])\n",
    "qc.x(qr[3])\n",
    "qc.x(qr[4])\n",
    "qc.x(qr[5])\n",
    "qc.x(qr[6])\n",
    "qc.ccx(qr[4], qr[5], qr[6])\n",
    "qc.x(qr[4])\n",
    "qc.x(qr[5])\n",
    "qc.measure(qr[6], cr[0])\n",
    "qc.draw()"
   ]
  },
  {
   "cell_type": "markdown",
   "metadata": {},
   "source": [
    "## Question 4"
   ]
  },
  {
   "cell_type": "code",
   "execution_count": 5,
   "metadata": {},
   "outputs": [
    {
     "data": {
      "text/html": [
       "<pre style=\"word-wrap: normal;white-space: pre;line-height: 15px;\">                      \n",
       "q2_0: |0>───────■─────\n",
       "         ┌───┐  │     \n",
       "q2_1: |0>┤ X ├──■─────\n",
       "         └───┘┌─┴─┐┌─┐\n",
       "q2_2: |0>─────┤ X ├┤M├\n",
       "              └───┘└╥┘\n",
       " c2_0: 0 ═══════════╩═\n",
       "                      </pre>"
      ],
      "text/plain": [
       "<qiskit.visualization.text.TextDrawing at 0x7f087cb1e978>"
      ]
     },
     "execution_count": 5,
     "metadata": {},
     "output_type": "execute_result"
    }
   ],
   "source": [
    "import qiskit\n",
    "qr = qiskit.QuantumRegister(3)\n",
    "cr = qiskit.ClassicalRegister(1)\n",
    "qc = qiskit.QuantumCircuit(qr, cr)\n",
    "qc.x(qr[1])\n",
    "qc.ccx(qr[0], qr[1], qr[2])\n",
    "qc.measure(qr[2], cr[0])\n",
    "qc.draw()"
   ]
  },
  {
   "cell_type": "markdown",
   "metadata": {},
   "source": [
    "## Question 5"
   ]
  },
  {
   "cell_type": "code",
   "execution_count": 12,
   "metadata": {},
   "outputs": [
    {
     "data": {
      "text/html": [
       "<pre style=\"word-wrap: normal;white-space: pre;line-height: 15px;\">         ┌───┐     ┌───┐┌───┐                              ┌───┐\n",
       "q9_0: |0>┤ X ├──■──┤ X ├┤ X ├───────────────────────────■──┤ X ├\n",
       "         ├───┤  │  ├───┤├───┤                           │  ├───┤\n",
       "q9_1: |0>┤ X ├──■──┤ X ├┤ X ├───────────────────────────■──┤ X ├\n",
       "         └───┘  │  └───┘└───┘┌───┐          ┌───┐       │  └───┘\n",
       "q9_2: |0>───────┼─────────■──┤ X ├───────■──┤ X ├───────┼───────\n",
       "         ┌───┐┌─┴─┐┌───┐  │  ├───┤┌───┐  │  ├───┤┌───┐┌─┴─┐┌───┐\n",
       "q9_3: |0>┤ X ├┤ X ├┤ X ├──■──┤ X ├┤ X ├──■──┤ X ├┤ X ├┤ X ├┤ X ├\n",
       "         ├───┤└───┘└───┘┌─┴─┐└───┘└───┘  │  └───┘└───┘└───┘└─┬─┘\n",
       "q9_4: |0>┤ X ├──────────┤ X ├────────────┼───────────────────■──\n",
       "         ├───┤          └───┘          ┌─┴─┐                 │  \n",
       "q9_5: |0>┤ X ├─────────────────────────┤ X ├─────────────────■──\n",
       "         └───┘                         └───┘                    \n",
       " c9_0: 0 ═══════════════════════════════════════════════════════\n",
       "                                                                </pre>"
      ],
      "text/plain": [
       "<qiskit.visualization.text.TextDrawing at 0x7f085b214780>"
      ]
     },
     "execution_count": 12,
     "metadata": {},
     "output_type": "execute_result"
    }
   ],
   "source": [
    "import qiskit\n",
    "#This problem is way to long \n",
    "#Like 4-5 parenthesis too long...\n",
    "qr = qiskit.QuantumRegister(6)\n",
    "cr = qiskit.ClassicalRegister(1)\n",
    "qc = qiskit.QuantumCircuit(qr, cr)\n",
    "#First Parenthesis\n",
    "qc.x(qr[0])\n",
    "qc.x(qr[1])\n",
    "qc.x(qr[3])\n",
    "qc.ccx(qr[0], qr[1], qr[3])\n",
    "qc.x(qr[0])\n",
    "qc.x(qr[1])\n",
    "qc.x(qr[3])\n",
    "qc.x(qr[4])\n",
    "qc.ccx(qr[2], qr[3], qr[4])\n",
    "qc.x(qr[3])\n",
    "#Keep a or b in qr[3]\n",
    "########\n",
    "#Second Parenthesis\n",
    "qc.x(qr[2])\n",
    "qc.x(qr[3])\n",
    "qc.x(qr[5])\n",
    "qc.ccx(qr[2], qr[3], qr[5])\n",
    "qc.x(qr[2])\n",
    "qc.x(qr[3])\n",
    "#Reset qr[3]\n",
    "qc.x(qr[0])\n",
    "qc.x(qr[1])\n",
    "qc.x(qr[3])\n",
    "qc.ccx(qr[0], qr[1], qr[3])\n",
    "qc.x(qr[0])\n",
    "qc.x(qr[1])\n",
    "#Store qr[4] and qr[5] in qr[3]\n",
    "qc.ccx(qr[4], qr[5], qr[3])\n",
    "#Reset qr[4] and qr[5]\n",
    "#ETC\n",
    "qc.draw()"
   ]
  },
  {
   "cell_type": "markdown",
   "metadata": {},
   "source": [
    "## Question 6"
   ]
  },
  {
   "cell_type": "markdown",
   "metadata": {},
   "source": [
    "Just implement a macro that implements Tuffoli gates according to page 154, then translate Question 5 to the answer. "
   ]
  },
  {
   "cell_type": "code",
   "execution_count": null,
   "metadata": {},
   "outputs": [],
   "source": []
  }
 ],
 "metadata": {
  "kernelspec": {
   "display_name": "goombah",
   "language": "python",
   "name": "goombah"
  },
  "language_info": {
   "codemirror_mode": {
    "name": "ipython",
    "version": 3
   },
   "file_extension": ".py",
   "mimetype": "text/x-python",
   "name": "python",
   "nbconvert_exporter": "python",
   "pygments_lexer": "ipython3",
   "version": "3.6.6"
  }
 },
 "nbformat": 4,
 "nbformat_minor": 2
}
