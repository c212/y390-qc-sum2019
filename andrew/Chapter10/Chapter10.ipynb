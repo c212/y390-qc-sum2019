{
 "cells": [
  {
   "cell_type": "markdown",
   "metadata": {},
   "source": [
    "## Question 1"
   ]
  },
  {
   "cell_type": "markdown",
   "metadata": {},
   "source": [
    "Zero iterations gives a pretty even spread of probabilities across all the possible outcomes.\n",
    "\n",
    "One iteration gives the correct solution with a probability of 0.8.\n",
    "\n",
    "Two iterations gives the correct solution almost 95% of the time.\n",
    "\n",
    "Three iterations gives the correct solution with a probability of only about 0.3."
   ]
  },
  {
   "cell_type": "markdown",
   "metadata": {},
   "source": [
    "## Question 2"
   ]
  },
  {
   "cell_type": "markdown",
   "metadata": {},
   "source": [
    "I would expect the algorithm to return 101 instead of 110 as the correct solution.\n",
    "\n",
    "This is what happens you run it classically as well as with Grover's algorithm."
   ]
  },
  {
   "cell_type": "markdown",
   "metadata": {},
   "source": [
    "## Question 3"
   ]
  },
  {
   "cell_type": "code",
   "execution_count": 1,
   "metadata": {},
   "outputs": [],
   "source": [
    "def _3sat_mystery_3(qr,qc,reverse=True,full_reverse=False):\n",
    "    # w,x,y in registers 0,1,2. \n",
    "    # Everything else can be temp/results\n",
    "    # General pattern\n",
    "    # 1. setup logic (which of a,b,c are negated)\n",
    "    # 2. execute computation\n",
    "    # 3. reverse logic so that we are back to a,b,c without negations\n",
    "    # If this circuit is doing its job, should only be satisfied by 110\n",
    "\n",
    "    # (a or b or not c)\n",
    "    setup_or_teardown_logic(qr,qc,True,True,False)\n",
    "    first_clause=quantumor_3(qr,qc,0,1,2,3,4)\n",
    "    setup_or_teardown_logic(qr,qc,True,True,False)\n",
    "\n",
    "    # (a or b or c) \n",
    "    setup_or_teardown_logic(qr,qc,True,True,True)\n",
    "    second_clause=quantumor_3(qr,qc,0,1,2,5,6)\n",
    "    setup_or_teardown_logic(qr,qc,True,True,True)\n",
    "\n",
    "    #Store the and in q[7] then reverse q[3], q[4]. q[5] and q[6]\n",
    "    intermediate_and_pair1 = quantumand_2(qr, qc, first_clause, second_clause, 7)\n",
    "    #Reverse\n",
    "    setup_or_teardown_logic(qr,qc,True,True,False)\n",
    "    quantumor_3_reverse(qr,qc,0,1,2,3,4)\n",
    "    setup_or_teardown_logic(qr,qc,True,True,False)\n",
    "    setup_or_teardown_logic(qr,qc,True,True,True)\n",
    "    quantumor_3_reverse(qr,qc,0,1,2,5,6)\n",
    "    setup_or_teardown_logic(qr,qc,True,True,True)\n",
    "    \n",
    "    # (a or not b or c)\n",
    "    setup_or_teardown_logic(qr,qc,True,False,True)\n",
    "    third_clause=quantumor_3(qr,qc,0,1,2,3,4)\n",
    "    setup_or_teardown_logic(qr,qc,True,False,True)\n",
    "\n",
    "    # (a or not b or not c)\n",
    "    setup_or_teardown_logic(qr,qc,True,False,False)\n",
    "    fourth_clause=quantumor_3(qr,qc,0,1,2,5,6)\n",
    "    setup_or_teardown_logic(qr,qc,True,False,False)\n",
    "\n",
    "    #Store the and in q[8] then reverse q[3], q[4]. q[5] and q[6]\n",
    "    intermediate_and_pair2 = quantumand_2(qr, qc, third_clause, fourth_clause, 8)\n",
    "    #Reverse\n",
    "    setup_or_teardown_logic(qr,qc,True,False,True)\n",
    "    quantumor_3_reverse(qr,qc,0,1,2,3,4)\n",
    "    setup_or_teardown_logic(qr,qc,True,False,True)\n",
    "    setup_or_teardown_logic(qr,qc,True,False,False)\n",
    "    quantumor_3(qr,qc,0,1,2,5,6)\n",
    "    setup_or_teardown_logic(qr,qc,True,False,False)\n",
    "    \n",
    "    \n",
    "    # (not a or b or not c) \n",
    "    setup_or_teardown_logic(qr,qc,False,True,False)\n",
    "    fifth_clause=quantumor_3(qr,qc,0,1,2,3,4)\n",
    "    setup_or_teardown_logic(qr,qc,False,True,False)\n",
    "\n",
    "    # (not a or b or c)\n",
    "    setup_or_teardown_logic(qr,qc,False,True,True)\n",
    "    sixth_clause=quantumor_3(qr,qc,0,1,2,5,6)\n",
    "    setup_or_teardown_logic(qr,qc,False,True,True)\n",
    "    \n",
    "    #Store and in q[9]... you get the point\n",
    "    intermediate_and_pair3=quantumand_2(qr,qc,fifth_clause,sixth_clause,9)\n",
    "    setup_or_teardown_logic(qr,qc,False,True,False)\n",
    "    quantumor_3_reverse(qr,qc,0,1,2,3,4)\n",
    "    setup_or_teardown_logic(qr,qc,False,True,False)\n",
    "    setup_or_teardown_logic(qr,qc,False,True,True)\n",
    "    quantumor_3_reverse(qr,qc,0,1,2,5,6)\n",
    "    setup_or_teardown_logic(qr,qc,False,True,True)\n",
    "\n",
    "    # (not a or not b or not c) \n",
    "    setup_or_teardown_logic(qr,qc,False,False,False)\n",
    "    seventh_clause=quantumor_3(qr,qc,0,1,2,3,4)\n",
    "    setup_or_teardown_logic(qr,qc,False,False,False)\n",
    "\n",
    "\n",
    "    # Let's whittle down\n",
    "    #intermediate_and_pair1=quantumand_2(qr,qc,first_clause,second_clause,17)\n",
    "    #intermediate_and_pair2=quantumand_2(qr,qc,third_clause,fourth_clause,18)\n",
    "    #intermediate_and_pair3=quantumand_2(qr,qc,fifth_clause,sixth_clause,19)\n",
    "\n",
    "    # Now whittling down further\n",
    "    intermediate_and_pair_12=quantumand_2(qr,qc,intermediate_and_pair3,seventh_clause,5)\n",
    "    intermediate_and_pair_34=quantumand_2(qr,qc,intermediate_and_pair1,intermediate_and_pair2,6)\n",
    "\n",
    "    # Now whittling down to 1 result\n",
    "    final_result_and_pair_1234=quantumand_2(qr,qc,intermediate_and_pair_12,intermediate_and_pair_34,10)"
   ]
  },
  {
   "cell_type": "markdown",
   "metadata": {},
   "source": [
    "This code requires 11 qubits though that could be reduced to 10 if I modified the way the qubits are measured at the end and instead stored the result in q[3]. See the GroversAlgorithm notebook for quantumand/quantumor implementations."
   ]
  },
  {
   "cell_type": "markdown",
   "metadata": {},
   "source": [
    "## Question 4"
   ]
  },
  {
   "cell_type": "code",
   "execution_count": 5,
   "metadata": {},
   "outputs": [
    {
     "name": "stdout",
     "output_type": "stream",
     "text": [
      "11 ->  False\n",
      "10 ->  True\n",
      "01 ->  False\n",
      "00 ->  False\n"
     ]
    }
   ],
   "source": [
    "def _2sat(a, b):\n",
    "    return (a or b) and (not a or not b) and (a or not b)\n",
    "print(\"11 -> \", _2sat(True, True))\n",
    "print(\"10 -> \", _2sat(True, False))\n",
    "print(\"01 -> \", _2sat(False, True))\n",
    "print(\"00 -> \", _2sat(False, False))"
   ]
  },
  {
   "cell_type": "code",
   "execution_count": 6,
   "metadata": {},
   "outputs": [],
   "source": [
    "%matplotlib inline\n",
    "import qiskit\n",
    "import time\n",
    "from qiskit import IBMQ\n",
    "from qiskit import Aer\n",
    "\n",
    "# Authenticate an account and add for use during this session. Replace string\n",
    "# argument with your private token.\n",
    "IBMQ.load_accounts()"
   ]
  },
  {
   "cell_type": "code",
   "execution_count": 8,
   "metadata": {},
   "outputs": [],
   "source": [
    "import matplotlib\n",
    "from qiskit import QuantumCircuit, ClassicalRegister, QuantumRegister\n",
    "from  qiskit.tools.visualization  import circuit_drawer\n",
    "from qiskit.extensions.standard import ccx\n",
    "\n",
    "def quantumand_2(qr,qc,w,x,t1):\n",
    "    qc.ccx(qr[w],qr[x],qr[t1])\n",
    "    return t1\n",
    "\n",
    "def quantumand_3(qr,qc,w,x,y,t1,t2):\n",
    "    qc.ccx(qr[w],qr[x],qr[t1])\n",
    "    qc.ccx(qr[y],qr[t1],qr[t2])\n",
    "    return t2\n",
    "\n",
    "def quantumor_2(qr,qc,w,x,t1):\n",
    "    qc.x(qr[w])\n",
    "    qc.x(qr[x])\n",
    "    qc.x(qr[t1])\n",
    "    qc.ccx(qr[w],qr[x],qr[t1])\n",
    "    qc.x(qr[w])\n",
    "    qc.x(qr[x])\n",
    "    return t1\n",
    "\n",
    "def quantumor_2_reverse(qr,qc,w,x,t1):\n",
    "    qc.x(qr[x])\n",
    "    qc.x(qr[w])\n",
    "    qc.ccx(qr[w],qr[x],qr[t1])\n",
    "    qc.x(qr[t1])\n",
    "    qc.x(qr[x])\n",
    "    qc.x(qr[w])\n",
    "    return t1\n",
    "\n",
    "def setup_or_teardown_logic(qr,qc,is_a,is_b): \n",
    "    \"\"\"    \n",
    "    is_a,is_b,and is_c: False indicates the variable should be negated, True left as is.\n",
    "    Negation is done with the X gate.\n",
    "\n",
    "    \"\"\"    \n",
    "    if not is_a:\n",
    "        qc.x(qr[0])\n",
    "    if not is_b:\n",
    "        qc.x(qr[1])"
   ]
  },
  {
   "cell_type": "code",
   "execution_count": 9,
   "metadata": {},
   "outputs": [],
   "source": [
    "def _2sat_mystery(qr, qc):\n",
    "    \n",
    "    setup_or_teardown_logic(qr, qc, True, True)\n",
    "    first_clause = quantumor_2(qr, qc, 0, 1, 2)\n",
    "    setup_or_teardown_logic(qr, qc, True, True)\n",
    "    \n",
    "    setup_or_teardown_logic(qr, qc, False, False)\n",
    "    second_clause = quantumor_2(qr, qc, 0, 1, 3)\n",
    "    setup_or_teardown_logic(qr, qc, False, False)\n",
    "    \n",
    "    setup_or_teardown_logic(qr, qc, True, False)\n",
    "    third_clause = quantumor_2(qr, qc, 0, 1, 4)\n",
    "    setup_or_teardown_logic(qr, qc, True, False)\n",
    "    \n",
    "    final_result = quantumand_3(qr, qc, first_clause, second_clause, third_clause, 5, 6)"
   ]
  },
  {
   "cell_type": "code",
   "execution_count": 10,
   "metadata": {},
   "outputs": [],
   "source": [
    "import time\n",
    "from qiskit.tools.visualization import plot_histogram\n",
    "def try_input_combination(input_combination,shots=1):\n",
    "    \n",
    "    backend = IBMQ.get_backend('ibmq_qasm_simulator') # remote simulator\n",
    "    qr = QuantumRegister(7)\n",
    "    cr = ClassicalRegister(7)\n",
    "    qc = QuantumCircuit(qr,cr)\n",
    "    # setting up the input\n",
    "    for i in range(2):\n",
    "        if input_combination[i]:\n",
    "            qc.x(qr[i])\n",
    "    # calling the function on that input\n",
    "    _2sat_mystery(qr,qc)\n",
    "    # measuring every qubit as we will want to verify reversibility \n",
    "    for i in range(7):\n",
    "        qc.measure(qr[i],cr[i])\n",
    "\n",
    "    # Executing the job on IBM QX\n",
    "    job_exp = qiskit.execute(qc, backend=backend,shots=shots)\n",
    "    result = job_exp.result()\n",
    "    final=result.get_counts(qc)\n",
    "    if not len(final)==1:\n",
    "        print(input_combination,final)\n",
    "    else:\n",
    "        # note that due to IBM's choice the result returned is in opposite order with last register coming first \n",
    "        # and the first register coming last. For clarity we reverse the output so the first register is first\n",
    "        # and the last register is last.\n",
    "\n",
    "        result_in_order=list(final.keys())[0][::-1]\n",
    "        print(input_combination,'->',result_in_order[-1],'(measured bits: '+result_in_order+')')"
   ]
  },
  {
   "cell_type": "code",
   "execution_count": 11,
   "metadata": {},
   "outputs": [
    {
     "name": "stdout",
     "output_type": "stream",
     "text": [
      "(0, 0) -> 0 (measured bits: 0001100)\n",
      "(0, 1) -> 0 (measured bits: 0111010)\n",
      "(1, 0) -> 1 (measured bits: 1011111)\n",
      "(1, 1) -> 0 (measured bits: 1110100)\n"
     ]
    }
   ],
   "source": [
    "import itertools\n",
    "for combo in itertools.product([0,1],repeat=2):\n",
    "    try_input_combination(combo)"
   ]
  },
  {
   "cell_type": "code",
   "execution_count": 12,
   "metadata": {},
   "outputs": [],
   "source": [
    "def grovers_algorithm(checker,num_inputs,num_registers,num_iterations=None):\n",
    "    if num_iterations == None:\n",
    "        from math import floor,sqrt\n",
    "        iterations=floor(sqrt(2**num_inputs))\n",
    "    else:\n",
    "        iterations=num_iterations\n",
    "    print(\"Running Grover's algorithm for %d iterations\"%iterations)\n",
    "    qr = QuantumRegister(num_registers)\n",
    "    cr = ClassicalRegister(num_registers)\n",
    "    qc = QuantumCircuit(qr,cr)\n",
    "    # Configuring the input\n",
    "    for i in range(num_inputs):\n",
    "        qc.h(qr[i])\n",
    "    # Setting up the output of the checker function\n",
    "    qc.x(qr[num_registers-1])\n",
    "    qc.h(qr[num_registers-1])\n",
    "    \n",
    "    # Do the Grovers steps\n",
    "    for it in range(iterations):\n",
    "        checker(qr,qc)\n",
    "        mover(qr,qc,num_inputs)\n",
    "    # Measure the inputs\n",
    "    for j in range(num_inputs):\n",
    "        qc.measure(qr[j], cr[j])\n",
    "    return cr,qr,qc\n",
    "\n",
    "    \n",
    "def control_Z(qr,qc,num_inputs):\n",
    "    if num_inputs not in [2,3]:\n",
    "        raise Exception(\"currently only supports 2 or 3 inputs\")\n",
    "    if num_inputs==2:\n",
    "        qc.h(qr[1])\n",
    "        qc.cx(qr[0],qr[1])\n",
    "        qc.h(qr[1])\n",
    "    elif num_inputs==3:\n",
    "        qc.h(qr[2])\n",
    "        qc.ccx(qr[0],qr[1],qr[2])    \n",
    "        qc.h(qr[2])\n",
    "    \n",
    "def mover(qr,qc,num_inputs):\n",
    "    if num_inputs not in [2,3]:\n",
    "        raise Exception(\"currently only supports 2 or 3 inputs\")\n",
    "    for i in range(num_inputs):\n",
    "        qc.h(qr[i])\n",
    "    for i in range(num_inputs): # D matrix\n",
    "        qc.x(qr[i]) \n",
    "    control_Z(qr,qc,num_inputs)\n",
    "    for i in range(num_inputs):\n",
    "        qc.x(qr[i])\n",
    "    for i in range(num_inputs):\n",
    "        qc.h(qr[i])"
   ]
  },
  {
   "cell_type": "code",
   "execution_count": 13,
   "metadata": {},
   "outputs": [],
   "source": [
    "def run_2sat_mystery_grover_ibm_sim(num_iterations=None,backend=None):\n",
    "    if not backend:\n",
    "        backend=IBMQ.get_backend('ibmq_qasm_simulator')\n",
    "    import time\n",
    "    from qiskit.tools.visualization import plot_histogram\n",
    "    shots=50\n",
    "    cr,qr,qc = grovers_algorithm(_2sat_mystery,2,7,num_iterations=num_iterations)\n",
    "    job_exp = qiskit.execute(qc, backend=backend,shots=shots)\n",
    "    result = job_exp.result()\n",
    "    final=result.get_counts(qc)\n",
    "    print(final)\n",
    "    return final"
   ]
  },
  {
   "cell_type": "code",
   "execution_count": 18,
   "metadata": {},
   "outputs": [
    {
     "name": "stdout",
     "output_type": "stream",
     "text": [
      "Running Grover's algorithm for 2 iterations\n",
      "{'0000010': 20, '0000000': 7, '0000001': 17, '0000011': 6}\n"
     ]
    },
    {
     "data": {
      "image/png": "[encoded data removed]",
      "text/plain": [
       "<Figure size 504x360 with 1 Axes>"
      ]
     },
     "execution_count": 18,
     "metadata": {},
     "output_type": "execute_result"
    }
   ],
   "source": [
    "final=run_2sat_mystery_grover_ibm_sim()\n",
    "plot_histogram(final)"
   ]
  },
  {
   "cell_type": "code",
   "execution_count": null,
   "metadata": {},
   "outputs": [],
   "source": []
  }
 ],
 "metadata": {
  "kernelspec": {
   "display_name": "goombah",
   "language": "python",
   "name": "goombah"
  },
  "language_info": {
   "codemirror_mode": {
    "name": "ipython",
    "version": 3
   },
   "file_extension": ".py",
   "mimetype": "text/x-python",
   "name": "python",
   "nbconvert_exporter": "python",
   "pygments_lexer": "ipython3",
   "version": "3.6.6"
  }
 },
 "nbformat": 4,
 "nbformat_minor": 2
}
