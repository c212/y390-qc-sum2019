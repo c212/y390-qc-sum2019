{
 "cells": [
  {
   "cell_type": "code",
   "execution_count": 1,
   "metadata": {},
   "outputs": [],
   "source": [
    "import qiskit"
   ]
  },
  {
   "cell_type": "markdown",
   "metadata": {},
   "source": [
    "## Question 1"
   ]
  },
  {
   "cell_type": "code",
   "execution_count": 5,
   "metadata": {},
   "outputs": [
    {
     "data": {
      "text/html": [
       "<pre style=\"word-wrap: normal;white-space: pre;line-height: 15px;\">        ┌───┐┌───┐┌─────┐\n",
       "q_0: |0>┤ X ├┤ H ├┤ Sdg ├\n",
       "        └───┘└───┘└─────┘</pre>"
      ],
      "text/plain": [
       "<qiskit.visualization.text.TextDrawing at 0x7fbd43af7a58>"
      ]
     },
     "execution_count": 5,
     "metadata": {},
     "output_type": "execute_result"
    }
   ],
   "source": [
    "qasmCode = \"\"\"\n",
    "OPENQASM 2.0;\n",
    "include \"qelib1.inc\";\n",
    "\n",
    "qreg q[1];\n",
    "x q[0];\n",
    "h q[0];\n",
    "sdg q[0];\n",
    "\"\"\"\n",
    "qc = qiskit.QuantumCircuit.from_qasm_str(qasmCode)\n",
    "qc.draw()\n",
    "\n"
   ]
  },
  {
   "cell_type": "markdown",
   "metadata": {},
   "source": [
    "## Question 2"
   ]
  },
  {
   "cell_type": "code",
   "execution_count": 4,
   "metadata": {},
   "outputs": [
    {
     "data": {
      "text/html": [
       "<pre style=\"word-wrap: normal;white-space: pre;line-height: 15px;\">        ┌───┐┌───┐┌─────┐┌─┐\n",
       "q_0: |0>┤ X ├┤ H ├┤ Sdg ├┤M├\n",
       "        └───┘└───┘└─────┘└╥┘\n",
       " c_0: 0 ══════════════════╩═\n",
       "                            </pre>"
      ],
      "text/plain": [
       "<qiskit.visualization.text.TextDrawing at 0x7fbd43b0f748>"
      ]
     },
     "execution_count": 4,
     "metadata": {},
     "output_type": "execute_result"
    }
   ],
   "source": [
    "qasmCode = \"\"\"\n",
    "OPENQASM 2.0;\n",
    "include \"qelib1.inc\";\n",
    "\n",
    "qreg q[1];\n",
    "creg c[1];\n",
    "\n",
    "x q[0];\n",
    "h q[0];\n",
    "sdg q[0];\n",
    "measure q[0] -> c[0];\n",
    "\"\"\"\n",
    "qc = qiskit.QuantumCircuit.from_qasm_str(qasmCode)\n",
    "qc.draw()\n"
   ]
  },
  {
   "cell_type": "markdown",
   "metadata": {},
   "source": [
    "## Question 3"
   ]
  },
  {
   "cell_type": "markdown",
   "metadata": {},
   "source": [
    "q_0 is a qubit, and c_0 is a classical bit. Not really sure the point of this question..."
   ]
  },
  {
   "cell_type": "markdown",
   "metadata": {},
   "source": [
    "## Question 4"
   ]
  },
  {
   "cell_type": "code",
   "execution_count": 8,
   "metadata": {},
   "outputs": [
    {
     "data": {
      "text/html": [
       "<pre style=\"word-wrap: normal;white-space: pre;line-height: 15px;\">         ┌───┐┌───┐┌─────┐┌─┐\n",
       "q2_0: |0>┤ X ├┤ H ├┤ Sdg ├┤M├\n",
       "         └───┘└───┘└─────┘└╥┘\n",
       " c2_0: 0 ══════════════════╩═\n",
       "                             </pre>"
      ],
      "text/plain": [
       "<qiskit.visualization.text.TextDrawing at 0x7fbd3e2a3ef0>"
      ]
     },
     "execution_count": 8,
     "metadata": {},
     "output_type": "execute_result"
    }
   ],
   "source": [
    "qr = qiskit.QuantumRegister(1)\n",
    "cr = qiskit.ClassicalRegister(1)\n",
    "circuit = qiskit.QuantumCircuit(qr, cr)\n",
    "circuit.x(qr[0])\n",
    "circuit.h(qr[0])\n",
    "circuit.sdg(qr[0])\n",
    "circuit.measure(qr[0], cr[0])\n",
    "circuit.draw()"
   ]
  },
  {
   "cell_type": "markdown",
   "metadata": {},
   "source": [
    "## Question 5"
   ]
  },
  {
   "cell_type": "code",
   "execution_count": 11,
   "metadata": {},
   "outputs": [
    {
     "data": {
      "text/html": [
       "<pre style=\"word-wrap: normal;white-space: pre;line-height: 15px;\">         ┌───┐┌───┐┌─────┐     ┌─┐   \n",
       "q5_0: |0>┤ X ├┤ H ├┤ Sdg ├──■──┤M├───\n",
       "         └───┘└───┘└─────┘┌─┴─┐└╥┘┌─┐\n",
       "q5_1: |0>─────────────────┤ X ├─╫─┤M├\n",
       "                          └───┘ ║ └╥┘\n",
       " c5_0: 0 ═══════════════════════╩══╬═\n",
       "                                   ║ \n",
       " c5_1: 0 ══════════════════════════╩═\n",
       "                                     </pre>"
      ],
      "text/plain": [
       "<qiskit.visualization.text.TextDrawing at 0x7fbd3bbc0668>"
      ]
     },
     "execution_count": 11,
     "metadata": {},
     "output_type": "execute_result"
    }
   ],
   "source": [
    "qr = qiskit.QuantumRegister(2)\n",
    "cr = qiskit.ClassicalRegister(2)\n",
    "circuit = qiskit.QuantumCircuit(qr, cr)\n",
    "circuit.x(qr[0])\n",
    "circuit.h(qr[0])\n",
    "circuit.sdg(qr[0])\n",
    "circuit.cx(qr[0], qr[1])\n",
    "circuit.measure(qr[0], cr[0])\n",
    "circuit.measure(qr[1], cr[1])\n",
    "circuit.draw()"
   ]
  },
  {
   "cell_type": "markdown",
   "metadata": {},
   "source": [
    "## Question 6"
   ]
  },
  {
   "cell_type": "markdown",
   "metadata": {},
   "source": [
    "You can just reverese in reverse order of how the gates are applied.\n",
    "\n",
    "SO XXYSZTS+HHTS|\"+\"> can be reversed by the following sequence of gates:\n",
    "\n",
    "S+T+HHST+ZS+YXX"
   ]
  },
  {
   "cell_type": "markdown",
   "metadata": {},
   "source": [
    "## Question 7"
   ]
  },
  {
   "cell_type": "code",
   "execution_count": 14,
   "metadata": {},
   "outputs": [
    {
     "data": {
      "text/html": [
       "<pre style=\"word-wrap: normal;white-space: pre;line-height: 15px;\">              ┌───┐\n",
       "q8_0: |0>──■──┤ H ├\n",
       "         ┌─┴─┐└───┘\n",
       "q8_1: |0>┤ X ├─────\n",
       "         └───┘     </pre>"
      ],
      "text/plain": [
       "<qiskit.visualization.text.TextDrawing at 0x7fbd50c6a470>"
      ]
     },
     "execution_count": 14,
     "metadata": {},
     "output_type": "execute_result"
    }
   ],
   "source": [
    "qr = qiskit.QuantumRegister(2)\n",
    "circuit = qiskit.QuantumCircuit(qr)\n",
    "circuit.cx(qr[0], qr[1])\n",
    "circuit.h(qr[0])\n",
    "circuit.draw()"
   ]
  },
  {
   "cell_type": "markdown",
   "metadata": {},
   "source": [
    "## Question 8"
   ]
  },
  {
   "cell_type": "code",
   "execution_count": 20,
   "metadata": {},
   "outputs": [
    {
     "data": {
      "image/png": "[encoded data removed]",
      "text/plain": [
       "<Figure size 504x360 with 1 Axes>"
      ]
     },
     "execution_count": 20,
     "metadata": {},
     "output_type": "execute_result"
    }
   ],
   "source": [
    "qiskit.IBMQ.load_accounts()\n",
    "backend = qiskit.IBMQ.backends(\"ibmq_qasm_simulator\")[0]\n",
    "qr = qiskit.QuantumRegister(8)\n",
    "cr = qiskit.ClassicalRegister(8)\n",
    "circuit = qiskit.QuantumCircuit(qr, cr)\n",
    "circuit.x(qr[1])\n",
    "circuit.x(qr[3])\n",
    "circuit.x(qr[4])\n",
    "circuit.x(qr[5])\n",
    "circuit.x(qr[7])\n",
    "#My computation\n",
    "circuit.h(qr[0])\n",
    "circuit.sdg(qr[0])\n",
    "circuit.cx(qr[0], qr[1])\n",
    "#Reversing it\n",
    "circuit.cx(qr[0], qr[1])\n",
    "circuit.s(qr[0])\n",
    "circuit.h(qr[0])\n",
    "#Measuring\n",
    "circuit.measure(qr, cr)\n",
    "job_exp = qiskit.execute(circuit, backend=backend)\n",
    "from qiskit.tools.visualization import plot_histogram\n",
    "plot_histogram(job_exp.result().get_counts(circuit))"
   ]
  },
  {
   "cell_type": "code",
   "execution_count": null,
   "metadata": {},
   "outputs": [],
   "source": []
  }
 ],
 "metadata": {
  "kernelspec": {
   "display_name": "Python 3",
   "language": "python",
   "name": "python3"
  },
  "language_info": {
   "codemirror_mode": {
    "name": "ipython",
    "version": 3
   },
   "file_extension": ".py",
   "mimetype": "text/x-python",
   "name": "python",
   "nbconvert_exporter": "python",
   "pygments_lexer": "ipython3",
   "version": "3.6.6"
  }
 },
 "nbformat": 4,
 "nbformat_minor": 2
}
