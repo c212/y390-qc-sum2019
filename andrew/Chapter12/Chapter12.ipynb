{
 "cells": [
  {
   "cell_type": "markdown",
   "metadata": {},
   "source": [
    "## Question 1"
   ]
  },
  {
   "cell_type": "markdown",
   "metadata": {},
   "source": [
    "1. We chose a=9 to go with N=20\n",
    "\n",
    "2. We compute the GCD of 9 and 20. We get 1 so we keep going.\n",
    "\n",
    "3. We consider the function 9^x % 20. \n",
    "\n",
    "4. We now compute its period. The period is 2\n",
    "\n",
    "5. The period is not odd so we continue.\n",
    "\n",
    "6. The period is also not -1 % 20 so we continue.\n",
    "\n",
    "7. We have a potential answer. To get a factor we simply find the GCD of 20 and 9^(2/2) + 1 which is 10. The GCD is 2 so we have our factors. The algorithm returns 10 and 2.\n"
   ]
  },
  {
   "cell_type": "markdown",
   "metadata": {},
   "source": [
    "## Question 2"
   ]
  },
  {
   "cell_type": "markdown",
   "metadata": {},
   "source": [
    "1. We chose a=4108 to go with N=7387.\n",
    "\n",
    "2. We compute the GCD of 4108 and 7387. We get 1 so we keep going.\n",
    "\n",
    "3. We now consider the function 4108^x % 7387.\n",
    "\n",
    "4. We now compute its period. The period is 3608.\n",
    "\n",
    "5. The period is not odd so we continue.\n",
    "\n",
    "6. The period is also not -1 % 7387 so we continue.\n",
    "\n",
    "7. We have potential answer. We find the GCD of 7387 and 4108^3608/2+1. We get 89. So our factors are 89 and 7387/89 or 83. So the algorithm returns 89 and 83. "
   ]
  },
  {
   "cell_type": "markdown",
   "metadata": {},
   "source": [
    "## Question 3"
   ]
  },
  {
   "cell_type": "code",
   "execution_count": null,
   "metadata": {},
   "outputs": [],
   "source": [
    "import math\n",
    "#Circuits from Figure 4 of https://arxiv.org/pdf/1202.6614.pdf\n",
    "def shors_subroutine_period_7mod15(qr,qc,cr):\n",
    "    qc.x(qr[2])\n",
    "    qc.x(qr[4])\n",
    "    qc.x(qr[0])\n",
    "    qc.ccx(qr[0], qr[1], qr[2])\n",
    "    qc.x(qr[0])\n",
    "    qc.x(qr[1])\n",
    "    qc.ccx(qr[0], qr[1], qr[3])\n",
    "    qc.x(qr[1])\n",
    "    qc.x(qr[0])\n",
    "    qc.x(qr[1])\n",
    "    qc.ccx(qr[0], qr[1], qr[4])\n",
    "    qc.x(qr[0])\n",
    "    qc.x(qr[1])\n",
    "    qc.ccx(qr[0], qr[1], qr[5])\n",
    "    qc.measure(qr[2], cr[0])\n",
    "    qc.measure(qr[3], cr[1])\n",
    "    qc.measure(qr[4], cr[2])\n",
    "    qc.measure(qr[5], cr[3])\n",
    "\n",
    "def shors_subroutine_period_8mod15(qr, qc, cr):\n",
    "    qc.x(qr[0])\n",
    "    qc.x(qr[1])\n",
    "    qc.ccx(qr[0], qr[1], qr[2])\n",
    "    qc.x(qr[0])\n",
    "    qc.x(qr[1])\n",
    "    qc.ccx(qr[0], qr[1], qr[3])\n",
    "    qc.x(qr[0])\n",
    "    qc.ccx(qr[0], qr[1], qr[4])\n",
    "    qc.x(qr[0])\n",
    "    qc.x(qr[1])\n",
    "    qc.ccx(qr[0], qr[1], qr[5])\n",
    "    qc.x(qr[1])\n",
    "    qc.measure(qr[2], cr[0])\n",
    "    qc.measure(qr[3], cr[1])\n",
    "    qc.measure(qr[4], cr[2])\n",
    "    qc.measure(qr[5], cr[3])  \n",
    "    \n",
    "def shors_subroutine_period_11mod15(qr, qc, cr):\n",
    "    qc.x(qr[2])\n",
    "    qc.cx(qr[0], qr[3])\n",
    "    qc.cx(qr[0], qr[5])\n",
    "    qc.measure(qr[2], cr[0])\n",
    "    qc.measure(qr[3], cr[1])\n",
    "    qc.measure(qr[4], cr[2])\n",
    "    qc.measure(qr[5], cr[3])\n",
    "    \n",
    "def shors_subroutine_period_13mod15(qr, qc, cr):\n",
    "    qc.x(qr[2])\n",
    "    qc.x(qr[4])\n",
    "    qc.x(qr[0])\n",
    "    qc.ccx(qr[0], qr[1], qr[2])\n",
    "    qc.x(qr[0])\n",
    "    qc.ccx(qr[0], qr[1], qr[3])\n",
    "    qc.x(qr[0])\n",
    "    qc.x(qr[1])\n",
    "    qc.ccx(qr[0], qr[1], qr[4])\n",
    "    qc.x(qr[0])\n",
    "    qc.x(qr[1])\n",
    "    qc.x(qr[1])\n",
    "    qc.ccx(qr[0], qr[1], qr[5])\n",
    "    qc.measure(qr[2], cr[0])\n",
    "    qc.measure(qr[3], cr[1])\n",
    "    qc.measure(qr[4], cr[2])\n",
    "    qc.measure(qr[5], cr[3])    \n",
    "    \n",
    "def shors_subroutine_period_14mod15(qr, qc, cr):\n",
    "    qc.x(qr[0])\n",
    "    qc.cx(qr[0], qr[2])\n",
    "    qc.x(qr[0])\n",
    "    qc.cx(qr[0], qr[3])\n",
    "    qc.cx(qr[0], qr[4])\n",
    "    qc.cx(qr[0], qr[5])\n",
    "    qc.measure(qr[2], cr[0])\n",
    "    qc.measure(qr[3], cr[1])\n",
    "    qc.measure(qr[4], cr[2])\n",
    "    qc.measure(qr[5], cr[3])    "
   ]
  }
 ],
 "metadata": {
  "kernelspec": {
   "display_name": "goombah",
   "language": "python",
   "name": "goombah"
  },
  "language_info": {
   "codemirror_mode": {
    "name": "ipython",
    "version": 3
   },
   "file_extension": ".py",
   "mimetype": "text/x-python",
   "name": "python",
   "nbconvert_exporter": "python",
   "pygments_lexer": "ipython3",
   "version": "3.6.6"
  }
 },
 "nbformat": 4,
 "nbformat_minor": 2
}
