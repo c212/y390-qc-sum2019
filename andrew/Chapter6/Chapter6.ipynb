{
 "cells": [
  {
   "cell_type": "code",
   "execution_count": 5,
   "metadata": {},
   "outputs": [],
   "source": [
    "import qiskit\n",
    "def draw_qasm(qasm):\n",
    "    qc = qiskit.QuantumCircuit.from_qasm_str(qasm)\n",
    "    return qc.draw()\n"
   ]
  },
  {
   "cell_type": "markdown",
   "metadata": {},
   "source": [
    "## Question 1"
   ]
  },
  {
   "cell_type": "code",
   "execution_count": 7,
   "metadata": {},
   "outputs": [
    {
     "data": {
      "text/html": [
       "<pre style=\"word-wrap: normal;white-space: pre;line-height: 15px;\">        ┌───┐     ┌─┐   \n",
       "q_0: |0>┤ H ├──■──┤M├───\n",
       "        └───┘┌─┴─┐└╥┘┌─┐\n",
       "q_1: |0>─────┤ X ├─╫─┤M├\n",
       "             └───┘ ║ └╥┘\n",
       " c_0: 0 ═══════════╩══╬═\n",
       "                      ║ \n",
       " c_1: 0 ══════════════╩═\n",
       "                        </pre>"
      ],
      "text/plain": [
       "<qiskit.visualization.text.TextDrawing at 0x7f5635363e80>"
      ]
     },
     "execution_count": 7,
     "metadata": {},
     "output_type": "execute_result"
    }
   ],
   "source": [
    "qasm_code = \"\"\"\n",
    "OPENQASM 2.0;\n",
    "include \"qelib1.inc\";\n",
    "\n",
    "qreg q[2];\n",
    "creg c[2];\n",
    "\n",
    "h q[0];\n",
    "cx q[0],q[1];\n",
    "measure q[0] -> c[0];\n",
    "measure q[1] -> c[1];\n",
    "\"\"\"\n",
    "draw_qasm(qasm_code)"
   ]
  },
  {
   "cell_type": "markdown",
   "metadata": {},
   "source": [
    "## Question 2"
   ]
  },
  {
   "cell_type": "code",
   "execution_count": 12,
   "metadata": {},
   "outputs": [
    {
     "data": {
      "text/html": [
       "<pre style=\"word-wrap: normal;white-space: pre;line-height: 15px;\">        ┌───┐┌───┐┌───┐┌───┐┌───┐┌───┐┌───┐┌─────┐┌─────┐┌───┐┌───┐┌───┐\n",
       "q_0: |0>┤ X ├┤ Y ├┤ Z ├┤ S ├┤ T ├┤ H ├┤ H ├┤ Tdg ├┤ Sdg ├┤ Z ├┤ Y ├┤ X ├\n",
       "        └───┘└───┘└───┘└───┘└───┘└───┘└───┘└─────┘└─────┘└───┘└───┘└───┘</pre>"
      ],
      "text/plain": [
       "<qiskit.visualization.text.TextDrawing at 0x7f5632fb0400>"
      ]
     },
     "execution_count": 12,
     "metadata": {},
     "output_type": "execute_result"
    }
   ],
   "source": [
    "qasm_code = \"\"\"\n",
    "OPENQASM 2.0;\n",
    "include \"qelib1.inc\";\n",
    "\n",
    "qreg q[1];\n",
    "\n",
    "x q[0];\n",
    "y q[0];\n",
    "z q[0];\n",
    "s q[0];\n",
    "t q[0];\n",
    "h q[0];\n",
    "h q[0];\n",
    "tdg q[0];\n",
    "sdg q[0];\n",
    "z q[0];\n",
    "y q[0];\n",
    "x q[0];\n",
    "\"\"\"\n",
    "draw_qasm(qasm_code)"
   ]
  },
  {
   "cell_type": "markdown",
   "metadata": {},
   "source": [
    "## Question 3"
   ]
  },
  {
   "cell_type": "code",
   "execution_count": 13,
   "metadata": {},
   "outputs": [
    {
     "data": {
      "text/html": [
       "<pre style=\"word-wrap: normal;white-space: pre;line-height: 15px;\">        ┌─┐                 \n",
       "q_0: |0>┤M├─────────────────\n",
       "        └╥┘      ┌───┐┌─┐   \n",
       "q_1: |0>─╫───────┤ X ├┤M├───\n",
       "         ║ ┌─┐   └───┘└╥┘   \n",
       "q_2: |0>─╫─┤M├─────────╫────\n",
       "         ║ └╥┘   ┌───┐ ║ ┌─┐\n",
       "q_3: |0>─╫──╫────┤ X ├─╫─┤M├\n",
       "         ║  ║ ┌─┐└───┘ ║ └╥┘\n",
       "q_4: |0>─╫──╫─┤M├──────╫──╫─\n",
       "         ║  ║ └╥┘      ║  ║ \n",
       " c_0: 0 ═╩══╬══╬═══════╬══╬═\n",
       "            ║  ║       ║  ║ \n",
       " c_1: 0 ════╬══╬═══════╩══╬═\n",
       "            ║  ║          ║ \n",
       " c_2: 0 ════╩══╬══════════╬═\n",
       "               ║          ║ \n",
       " c_3: 0 ═══════╬══════════╩═\n",
       "               ║            \n",
       " c_4: 0 ═══════╩════════════\n",
       "                            </pre>"
      ],
      "text/plain": [
       "<qiskit.visualization.text.TextDrawing at 0x7f56352b7f28>"
      ]
     },
     "execution_count": 13,
     "metadata": {},
     "output_type": "execute_result"
    }
   ],
   "source": [
    "qasm_code = \"\"\"\n",
    "OPENQASM 2.0;\n",
    "include \"qelib1.inc\";\n",
    "\n",
    "qreg q[5];\n",
    "creg c[5];\n",
    "\n",
    "x q[1];\n",
    "x q[3];\n",
    "measure q[0] -> c[0];\n",
    "measure q[1] -> c[1];\n",
    "measure q[2] -> c[2];\n",
    "measure q[3] -> c[3];\n",
    "measure q[4] -> c[4];\n",
    "\"\"\"\n",
    "draw_qasm(qasm_code)"
   ]
  },
  {
   "cell_type": "markdown",
   "metadata": {},
   "source": [
    "## Question 4"
   ]
  },
  {
   "cell_type": "code",
   "execution_count": 14,
   "metadata": {},
   "outputs": [
    {
     "data": {
      "text/html": [
       "<pre style=\"word-wrap: normal;white-space: pre;line-height: 15px;\">        ┌───┐          ┌───┐┌─┐\n",
       "q_0: |0>┤ H ├──■────■──┤ H ├┤M├\n",
       "        └───┘┌─┴─┐┌─┴─┐└┬─┬┘└╥┘\n",
       "q_1: |0>─────┤ X ├┤ X ├─┤M├──╫─\n",
       "             └───┘└───┘ └╥┘  ║ \n",
       " c_0: 0 ═════════════════╬═══╩═\n",
       "                         ║     \n",
       " c_1: 0 ═════════════════╩═════\n",
       "                               </pre>"
      ],
      "text/plain": [
       "<qiskit.visualization.text.TextDrawing at 0x7f5635474748>"
      ]
     },
     "execution_count": 14,
     "metadata": {},
     "output_type": "execute_result"
    }
   ],
   "source": [
    "qasm_code = \"\"\"\n",
    "OPENQASM 2.0;\n",
    "include \"qelib1.inc\";\n",
    "\n",
    "qreg q[2];\n",
    "creg c[2];\n",
    "\n",
    "h q[0];\n",
    "cx q[0],q[1];\n",
    "cx q[0],q[1];\n",
    "h q[0];\n",
    "measure q[0] -> c[0];\n",
    "measure q[1] -> c[1];\n",
    "\"\"\"\n",
    "draw_qasm(qasm_code)"
   ]
  },
  {
   "cell_type": "markdown",
   "metadata": {},
   "source": [
    "Will always return 00"
   ]
  },
  {
   "cell_type": "code",
   "execution_count": null,
   "metadata": {},
   "outputs": [],
   "source": []
  }
 ],
 "metadata": {
  "kernelspec": {
   "display_name": "goombah",
   "language": "python",
   "name": "goombah"
  },
  "language_info": {
   "codemirror_mode": {
    "name": "ipython",
    "version": 3
   },
   "file_extension": ".py",
   "mimetype": "text/x-python",
   "name": "python",
   "nbconvert_exporter": "python",
   "pygments_lexer": "ipython3",
   "version": "3.6.6"
  }
 },
 "nbformat": 4,
 "nbformat_minor": 2
}
