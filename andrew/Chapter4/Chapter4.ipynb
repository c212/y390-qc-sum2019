{
 "cells": [
  {
   "cell_type": "markdown",
   "metadata": {},
   "source": [
    "## Question 1"
   ]
  },
  {
   "cell_type": "markdown",
   "metadata": {},
   "source": [
    "NOT and AND can trivially form a NAND gate so that is a classic universal gate set."
   ]
  },
  {
   "cell_type": "markdown",
   "metadata": {},
   "source": [
    "## Question 2"
   ]
  },
  {
   "cell_type": "markdown",
   "metadata": {},
   "source": [
    "|\"0\"> is a 2x1 vector and I is a 2x2 matrix. since the the last dimension of |\"0\"> does not match the first dimension of I this is not a legal way to multiply and python will give you an error telling you so."
   ]
  },
  {
   "cell_type": "markdown",
   "metadata": {},
   "source": [
    "## Question 3"
   ]
  },
  {
   "cell_type": "markdown",
   "metadata": {},
   "source": [
    "Applying I to a qubit doesn't change it so IIII|\"0\"> = |\"0\"> and I|\"+\"> = |\"+\">"
   ]
  },
  {
   "cell_type": "markdown",
   "metadata": {},
   "source": [
    "## Question 4"
   ]
  },
  {
   "cell_type": "markdown",
   "metadata": {},
   "source": [
    "XH|\"0\"> is equivalent to |\"+\">. One can also get to |\"+\"> by applying HX|\"1\">"
   ]
  },
  {
   "cell_type": "markdown",
   "metadata": {},
   "source": [
    "## Question 5"
   ]
  },
  {
   "cell_type": "markdown",
   "metadata": {},
   "source": [
    "To get |\"0\"> from |\"+\">:\n",
    "\n",
    "H|\"+\"> = |\"0\">\n",
    "\n",
    "To get |\"↺\"> from |\"+\">:\n",
    "\n",
    "S+|\"+\"> = |\"↺\"> "
   ]
  },
  {
   "cell_type": "markdown",
   "metadata": {},
   "source": [
    "## Question 6"
   ]
  },
  {
   "cell_type": "markdown",
   "metadata": {},
   "source": [
    "All of these gates applied twice are equivalent to the identity gate."
   ]
  },
  {
   "cell_type": "markdown",
   "metadata": {},
   "source": [
    "## Question 7"
   ]
  },
  {
   "cell_type": "markdown",
   "metadata": {},
   "source": [
    "Since S-dagger reverses S and T-dagger reverses T both of these simplify to |\"+\">"
   ]
  },
  {
   "cell_type": "markdown",
   "metadata": {},
   "source": [
    "## Question 8"
   ]
  },
  {
   "cell_type": "markdown",
   "metadata": {},
   "source": [
    "You get each possible 2 bit state at a 1/4 frequency for each.\n",
    "\n",
    "My results were this:\n",
    "\n",
    "|\"10\"> 25%\n",
    "\n",
    "|\"01\"> 24%\n",
    "\n",
    "|\"00\"> 26%\n",
    "\n",
    "|\"11\"> 26%"
   ]
  },
  {
   "cell_type": "code",
   "execution_count": null,
   "metadata": {},
   "outputs": [],
   "source": []
  }
 ],
 "metadata": {
  "kernelspec": {
   "display_name": "goombah",
   "language": "python",
   "name": "goombah"
  },
  "language_info": {
   "codemirror_mode": {
    "name": "ipython",
    "version": 3
   },
   "file_extension": ".py",
   "mimetype": "text/x-python",
   "name": "python",
   "nbconvert_exporter": "python",
   "pygments_lexer": "ipython3",
   "version": "3.6.6"
  }
 },
 "nbformat": 4,
 "nbformat_minor": 2
}
