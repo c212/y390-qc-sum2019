{
 "cells": [
  {
   "cell_type": "code",
   "execution_count": 1,
   "metadata": {},
   "outputs": [],
   "source": [
    "import qiskit\n",
    "def draw_qasm(qasm):\n",
    "    qc = qiskit.QuantumCircuit.from_qasm_str(qasm)\n",
    "    return qc.draw()\n"
   ]
  },
  {
   "cell_type": "markdown",
   "metadata": {},
   "source": [
    "## Question 1"
   ]
  },
  {
   "cell_type": "code",
   "execution_count": 4,
   "metadata": {},
   "outputs": [
    {
     "data": {
      "text/html": [
       "<pre style=\"word-wrap: normal;white-space: pre;line-height: 15px;\">                                       \n",
       "q_0: |0>───────────────────────────────\n",
       "                                       \n",
       "q_1: |0>───────────────────────────────\n",
       "                                       \n",
       "q_2: |0>───────────────────────────────\n",
       "        ┌───┐          ┌───┐     ┌─┐   \n",
       "q_3: |0>┤ H ├───────■──┤ H ├──■──┤M├───\n",
       "        ├───┤┌───┐┌─┴─┐├───┤┌─┴─┐└╥┘┌─┐\n",
       "q_4: |0>┤ X ├┤ H ├┤ X ├┤ H ├┤ X ├─╫─┤M├\n",
       "        └───┘└───┘└───┘└───┘└───┘ ║ └╥┘\n",
       " c_0: 0 ══════════════════════════╬══╬═\n",
       "                                  ║  ║ \n",
       " c_1: 0 ══════════════════════════╬══╬═\n",
       "                                  ║  ║ \n",
       " c_2: 0 ══════════════════════════╬══╬═\n",
       "                                  ║  ║ \n",
       " c_3: 0 ══════════════════════════╩══╬═\n",
       "                                     ║ \n",
       " c_4: 0 ═════════════════════════════╩═\n",
       "                                       </pre>"
      ],
      "text/plain": [
       "<qiskit.visualization.text.TextDrawing at 0x7f736322ca20>"
      ]
     },
     "execution_count": 4,
     "metadata": {},
     "output_type": "execute_result"
    }
   ],
   "source": [
    "qasm_code = \"\"\"\n",
    "OPENQASM 2.0;\n",
    "include \"qelib1.inc\";\n",
    "qreg q[5];\n",
    "creg c[5];\n",
    "x q[4];\n",
    "h q[3];\n",
    "h q[4];\n",
    "cx q[3], q[4];\n",
    "h q[3];\n",
    "h q[4];\n",
    "cx q[3], q[4];\n",
    "measure q[3] -> c[3];\n",
    "measure q[4] -> c[4];\n",
    "\"\"\"\n",
    "draw_qasm(qasm_code)"
   ]
  },
  {
   "cell_type": "markdown",
   "metadata": {},
   "source": [
    "## Question 2"
   ]
  },
  {
   "cell_type": "code",
   "execution_count": 6,
   "metadata": {},
   "outputs": [
    {
     "data": {
      "text/html": [
       "<pre style=\"word-wrap: normal;white-space: pre;line-height: 15px;\">                                       \n",
       "q_0: |0>───────────────────────────────\n",
       "                                       \n",
       "q_1: |0>───────────────────────────────\n",
       "                                       \n",
       "q_2: |0>───────────────────────────────\n",
       "        ┌───┐          ┌───┐     ┌─┐   \n",
       "q_3: |0>┤ H ├───────■──┤ H ├──■──┤M├───\n",
       "        ├───┤┌───┐┌─┴─┐├───┤┌─┴─┐└╥┘┌─┐\n",
       "q_4: |0>┤ X ├┤ H ├┤ X ├┤ H ├┤ X ├─╫─┤M├\n",
       "        └───┘└───┘└───┘└───┘└───┘ ║ └╥┘\n",
       " c_0: 0 ══════════════════════════╬══╬═\n",
       "                                  ║  ║ \n",
       " c_1: 0 ══════════════════════════╬══╬═\n",
       "                                  ║  ║ \n",
       " c_2: 0 ══════════════════════════╬══╬═\n",
       "                                  ║  ║ \n",
       " c_3: 0 ══════════════════════════╩══╬═\n",
       "                                     ║ \n",
       " c_4: 0 ═════════════════════════════╩═\n",
       "                                       </pre>"
      ],
      "text/plain": [
       "<qiskit.visualization.text.TextDrawing at 0x7f734e31dc18>"
      ]
     },
     "execution_count": 6,
     "metadata": {},
     "output_type": "execute_result"
    }
   ],
   "source": [
    "qasm_code = \"\"\"\n",
    "OPENQASM 2.0;\n",
    "include \"qelib1.inc\";\n",
    "qreg q[5];\n",
    "creg c[5];\n",
    "x q[4];\n",
    "h q[3];\n",
    "h q[4];\n",
    "cx q[3], q[4];\n",
    "h q[3];\n",
    "h q[4];\n",
    "cx q[3], q[4];\n",
    "measure q[3] -> c[3];\n",
    "measure q[4] -> c[4];\n",
    "\"\"\"\n",
    "draw_qasm(qasm_code)"
   ]
  },
  {
   "cell_type": "markdown",
   "metadata": {},
   "source": [
    "## Question 3"
   ]
  },
  {
   "cell_type": "markdown",
   "metadata": {},
   "source": [
    "If the third qubit is initialized to |\"1\"> then the second qubit is 0 1/2 the time and 1 the other half. However if the third qubit is initialized to |\"0\"> then the second qubit is always 0."
   ]
  },
  {
   "cell_type": "markdown",
   "metadata": {},
   "source": [
    "## Question 4"
   ]
  },
  {
   "cell_type": "code",
   "execution_count": 7,
   "metadata": {},
   "outputs": [
    {
     "data": {
      "text/html": [
       "<pre style=\"word-wrap: normal;white-space: pre;line-height: 15px;\">        ┌───┐┌───┐┌───┐┌───┐┌───┐┌───┐┌───┐┌─────┐┌─────┐┌───┐┌───┐┌───┐\n",
       "q_0: |0>┤ X ├┤ Y ├┤ Z ├┤ S ├┤ T ├┤ H ├┤ H ├┤ Tdg ├┤ Sdg ├┤ Z ├┤ Y ├┤ X ├\n",
       "        └───┘└───┘└───┘└───┘└───┘└───┘└───┘└─────┘└─────┘└───┘└───┘└───┘</pre>"
      ],
      "text/plain": [
       "<qiskit.visualization.text.TextDrawing at 0x7f734e316080>"
      ]
     },
     "execution_count": 7,
     "metadata": {},
     "output_type": "execute_result"
    }
   ],
   "source": [
    "qasm_code = \"\"\"\n",
    "OPENQASM 2.0;\n",
    "include \"qelib1.inc\";\n",
    "qreg q[1];\n",
    "x q[0];\n",
    "y q[0];\n",
    "z q[0];\n",
    "s q[0];\n",
    "t q[0];\n",
    "h q[0];\n",
    "h q[0];\n",
    "tdg q[0];\n",
    "sdg q[0];\n",
    "z q[0];\n",
    "y q[0];\n",
    "x q[0];\n",
    "\"\"\"\n",
    "draw_qasm(qasm_code)"
   ]
  },
  {
   "cell_type": "markdown",
   "metadata": {},
   "source": [
    "## Question 5"
   ]
  },
  {
   "cell_type": "code",
   "execution_count": 8,
   "metadata": {},
   "outputs": [
    {
     "data": {
      "text/html": [
       "<pre style=\"word-wrap: normal;white-space: pre;line-height: 15px;\">        ┌───┐┌────┐┌───┐                     ┌───┐     \n",
       "q_0: |0>┤ H ├┤ Id ├┤ H ├──────────────────■──┤ H ├─────\n",
       "        ├───┤├───┬┘├───┴┐┌───┐            │  └───┘┌───┐\n",
       "q_1: |0>┤ H ├┤ Z ├─┤ Id ├┤ H ├────────────┼────■──┤ H ├\n",
       "        └───┘└───┘ └────┘└───┘┌───┐┌───┐┌─┴─┐┌─┴─┐└┬─┬┘\n",
       "q_2: |0>──────────────────────┤ X ├┤ X ├┤ X ├┤ X ├─┤M├─\n",
       "        ┌───┐┌────┐┌───┐      └─┬─┘└─┬─┘├───┤└───┘ └╥┘ \n",
       "q_3: |0>┤ H ├┤ Id ├┤ H ├────────┼────■──┤ H ├───────╫──\n",
       "        ├───┤├───┬┘├───┴┐┌───┐  │  ┌───┐└───┘       ║  \n",
       "q_4: |0>┤ H ├┤ Z ├─┤ Id ├┤ H ├──■──┤ H ├────────────╫──\n",
       "        └───┘└───┘ └────┘└───┘     └───┘            ║  \n",
       " c_0: 0 ════════════════════════════════════════════╩══\n",
       "                                                       </pre>"
      ],
      "text/plain": [
       "<qiskit.visualization.text.TextDrawing at 0x7f734c23ce10>"
      ]
     },
     "execution_count": 8,
     "metadata": {},
     "output_type": "execute_result"
    }
   ],
   "source": [
    "qasm_code = \"\"\"\n",
    "OPENQASM 2.0;\n",
    "include \"qelib1.inc\";\n",
    "qreg q[5];\n",
    "creg c[1];\n",
    "h q[0];\n",
    "h q[1];\n",
    "h q[3];\n",
    "h q[4];\n",
    "z q[1];\n",
    "z q[4];\n",
    "id q[0];\n",
    "id q[1];\n",
    "id q[3];\n",
    "id q[4];\n",
    "h q[0];\n",
    "h q[1];\n",
    "h q[3];\n",
    "h q[4];\n",
    "cx q[4], q[2];\n",
    "cx q[3], q[2];\n",
    "cx q[0], q[2];\n",
    "cx q[1], q[2];\n",
    "h q[0];\n",
    "h q[1];\n",
    "h q[3];\n",
    "h q[4];\n",
    "measure q[2] -> c[0];\n",
    "\"\"\"\n",
    "draw_qasm(qasm_code)"
   ]
  },
  {
   "cell_type": "markdown",
   "metadata": {},
   "source": [
    "## Question 6"
   ]
  },
  {
   "cell_type": "code",
   "execution_count": 9,
   "metadata": {},
   "outputs": [
    {
     "data": {
      "text/html": [
       "<pre style=\"word-wrap: normal;white-space: pre;line-height: 15px;\">        ┌───┐                                                                  »\n",
       "q_0: |0>┤ X ├────────────────────■───────────────────────────────────────■─────»\n",
       "        ├───┤            ┌───┐   │                 ┌───┐     ┌───┐       │  ┌─┐»\n",
       "q_1: |0>┤ X ├────────■───┤ T ├───┼──────────────■──┤ H ├──■──┤ H ├──■────┼──┤M├»\n",
       "        ├───┴┐┌───┐┌─┴─┐┌┴───┴┐┌─┴─┐┌───┐┌───┐┌─┴─┐├───┤┌─┴─┐├───┤┌─┴─┐┌─┴─┐└╥┘»\n",
       "q_2: |0>┤ Id ├┤ H ├┤ X ├┤ Tdg ├┤ X ├┤ T ├┤ H ├┤ X ├┤ H ├┤ X ├┤ H ├┤ X ├┤ X ├─╫─»\n",
       "        └────┘└───┘└───┘└─────┘└───┘└───┘└───┘└───┘└───┘└───┘└───┘└───┘└───┘ ║ »\n",
       "q_3: |0>─────────────────────────────────────────────────────────────────────╫─»\n",
       "                                                                             ║ »\n",
       "q_4: |0>─────────────────────────────────────────────────────────────────────╫─»\n",
       "                                                                             ║ »\n",
       " c_0: 0 ═════════════════════════════════════════════════════════════════════╬═»\n",
       "                                                                             ║ »\n",
       " c_1: 0 ═════════════════════════════════════════════════════════════════════╩═»\n",
       "                                                                               »\n",
       " c_2: 0 ═══════════════════════════════════════════════════════════════════════»\n",
       "                                                                               »\n",
       " c_3: 0 ═══════════════════════════════════════════════════════════════════════»\n",
       "                                                                               »\n",
       " c_4: 0 ═══════════════════════════════════════════════════════════════════════»\n",
       "                                                                               »\n",
       "«      ┌───┐      ┌─┐   \n",
       "«q_0: ─┤ T ├───■──┤M├───\n",
       "«      └───┘   │  └╥┘   \n",
       "«q_1: ─────────┼───╫────\n",
       "«     ┌─────┐┌─┴─┐ ║ ┌─┐\n",
       "«q_2: ┤ Tdg ├┤ X ├─╫─┤M├\n",
       "«     └─────┘└───┘ ║ └╥┘\n",
       "«q_3: ─────────────╫──╫─\n",
       "«                  ║  ║ \n",
       "«q_4: ─────────────╫──╫─\n",
       "«                  ║  ║ \n",
       "«c_0: ═════════════╩══╬═\n",
       "«                     ║ \n",
       "«c_1: ════════════════╬═\n",
       "«                     ║ \n",
       "«c_2: ════════════════╩═\n",
       "«                       \n",
       "«c_3: ══════════════════\n",
       "«                       \n",
       "«c_4: ══════════════════\n",
       "«                       </pre>"
      ],
      "text/plain": [
       "<qiskit.visualization.text.TextDrawing at 0x7f734c1b41d0>"
      ]
     },
     "execution_count": 9,
     "metadata": {},
     "output_type": "execute_result"
    }
   ],
   "source": [
    "qasm_code =\"\"\"\n",
    "OPENQASM 2.0;\n",
    "include \"qelib1.inc\";\n",
    "qreg q[5];\n",
    "creg c[5];\n",
    "\n",
    "x q[0];\n",
    "x q[1];\n",
    "id q[2];\n",
    "h q[2];\n",
    "cx q[1], q[2];\n",
    "tdg q[2];\n",
    "cx q[0], q[2];\n",
    "t q[1];\n",
    "t q[2];\n",
    "h q[2];\n",
    "cx q[1], q[2];\n",
    "h q[1];\n",
    "h q[2];\n",
    "cx q[1], q[2];\n",
    "h q[1];\n",
    "h q[2];\n",
    "cx q[1], q[2];\n",
    "cx q[0], q[2];\n",
    "t q[0];\n",
    "tdg q[2];\n",
    "cx q[0], q[2];\n",
    "measure q[0] -> c[0];\n",
    "measure q[1] -> c[1];\n",
    "measure q[2] -> c[2];\n",
    "\"\"\"\n",
    "draw_qasm(qasm_code)"
   ]
  },
  {
   "cell_type": "code",
   "execution_count": null,
   "metadata": {},
   "outputs": [],
   "source": []
  }
 ],
 "metadata": {
  "kernelspec": {
   "display_name": "goombah",
   "language": "python",
   "name": "goombah"
  },
  "language_info": {
   "codemirror_mode": {
    "name": "ipython",
    "version": 3
   },
   "file_extension": ".py",
   "mimetype": "text/x-python",
   "name": "python",
   "nbconvert_exporter": "python",
   "pygments_lexer": "ipython3",
   "version": "3.6.6"
  }
 },
 "nbformat": 4,
 "nbformat_minor": 2
}
