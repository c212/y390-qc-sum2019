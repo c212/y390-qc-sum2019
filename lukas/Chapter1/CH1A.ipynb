{
 "cells": [
  {
   "cell_type": "markdown",
   "metadata": {},
   "source": [
    "Chapter One Answers..."
   ]
  },
  {
   "cell_type": "code",
   "execution_count": 6,
   "metadata": {},
   "outputs": [],
   "source": [
    "%matplotlib inline\n",
    "# Importing standard Qiskit libraries and configuring account\n",
    "from qiskit import QuantumCircuit, execute, Aer, IBMQ\n",
    "import qiskit\n",
    "#IBMQ.save_account(\"26852ce76edb63ffb61d3fe3963b7b8163feee401817113f9d16df4314e970bda5c26256d09264a3d9dbf42322cdb5dee9ed5af15878ba689d90965f9d82ab43\")"
   ]
  },
  {
   "cell_type": "raw",
   "metadata": {},
   "source": [
    "Problem One"
   ]
  },
  {
   "cell_type": "code",
   "execution_count": 7,
   "metadata": {},
   "outputs": [
    {
     "data": {
      "text/html": [
       "<pre style=\"word-wrap: normal;white-space: pre;line-height: 15px;\">                                               ┌───┐┌───┐┌─┐\n",
       "q_0: |0>───────────────────────────────────────┤ S ├┤ T ├┤M├\n",
       "                                  ┌───┐┌───┐┌─┐└───┘└───┘└╥┘\n",
       "q_1: |0>──────────────────────────┤ X ├┤ X ├┤M├───────────╫─\n",
       "                          ┌───┐┌─┐└───┘└───┘└╥┘           ║ \n",
       "q_2: |0>──────────────────┤ Y ├┤M├───────────╫────────────╫─\n",
       "                  ┌───┐┌─┐└───┘└╥┘           ║            ║ \n",
       "q_3: |0>──────────┤ Z ├┤M├──────╫────────────╫────────────╫─\n",
       "        ┌─────┐┌─┐└───┘└╥┘      ║            ║            ║ \n",
       "q_4: |0>┤ Tdg ├┤M├──────╫───────╫────────────╫────────────╫─\n",
       "        └─────┘└╥┘      ║       ║            ║            ║ \n",
       " c_0: 0 ════════╬═══════╬═══════╬════════════╬════════════╩═\n",
       "                ║       ║       ║            ║              \n",
       " c_1: 0 ════════╬═══════╬═══════╬════════════╩══════════════\n",
       "                ║       ║       ║                           \n",
       " c_2: 0 ════════╬═══════╬═══════╩═══════════════════════════\n",
       "                ║       ║                                   \n",
       " c_3: 0 ════════╬═══════╩═══════════════════════════════════\n",
       "                ║                                           \n",
       " c_4: 0 ════════╩═══════════════════════════════════════════\n",
       "                                                            </pre>"
      ],
      "text/plain": [
       "<qiskit.tools.visualization._text.TextDrawing at 0x7fc33cc62550>"
      ]
     },
     "execution_count": 7,
     "metadata": {},
     "output_type": "execute_result"
    }
   ],
   "source": [
    "#Here's the code for my score:\n",
    "qasmCode = \"\"\"\n",
    "OPENQASM 2.0;\n",
    "include \"qelib1.inc\";\n",
    "\n",
    "qreg q[5];\n",
    "creg c[5];\n",
    "\n",
    "s q[0];\n",
    "x q[1];\n",
    "y q[2];\n",
    "z q[3];\n",
    "tdg q[4];\n",
    "t q[0];\n",
    "x q[1];\n",
    "measure q[0] -> c[0];\n",
    "measure q[1] -> c[1];\n",
    "measure q[2] -> c[2];\n",
    "measure q[3] -> c[3];\n",
    "measure q[4] -> c[4];\n",
    "\"\"\"\n",
    "\n",
    "#And the simulated result was always 00100...\n",
    "\n",
    "qc = QuantumCircuit.from_qasm_str(qasmCode)\n",
    "qc.draw()"
   ]
  },
  {
   "cell_type": "raw",
   "metadata": {},
   "source": [
    "Problem Two"
   ]
  },
  {
   "cell_type": "markdown",
   "metadata": {},
   "source": [
    "After decreasing the register size to two, the simulated output was instead 00 all of the time. "
   ]
  },
  {
   "cell_type": "raw",
   "metadata": {},
   "source": [
    "Problem Three"
   ]
  },
  {
   "cell_type": "markdown",
   "metadata": {},
   "source": [
    "I chose to run my original score through the quantum composer. I got a distribution of results: only about 36% of trials yielded 00100. There were a couple other peaks as well: 01100, 10100, and so on. This is different from the simulation because it reflects the probabilistic nature of qubits and because of the effects of decoherence on real physical hardware."
   ]
  },
  {
   "cell_type": "markdown",
   "metadata": {},
   "source": [
    "Problem Four"
   ]
  },
  {
   "cell_type": "markdown",
   "metadata": {},
   "source": [
    "If the qubit is halfway between 0 and 1, then the states |0> and |1> are equally likely to be measured. The resulting vector on the Bloch sphere would then have to be orthogonal to the |0> and |1> vectors; so, if we take -z to represent a pure |0> state and +z to represent a pure |1> state, then our mixed state would lie on the xy axis.  "
   ]
  }
 ],
 "metadata": {
  "kernelspec": {
   "display_name": "jabberwocky",
   "language": "python",
   "name": "jabberwocky"
  },
  "language_info": {
   "codemirror_mode": {
    "name": "ipython",
    "version": 3
   },
   "file_extension": ".py",
   "mimetype": "text/x-python",
   "name": "python",
   "nbconvert_exporter": "python",
   "pygments_lexer": "ipython3",
   "version": "3.6.6"
  }
 },
 "nbformat": 4,
 "nbformat_minor": 2
}
