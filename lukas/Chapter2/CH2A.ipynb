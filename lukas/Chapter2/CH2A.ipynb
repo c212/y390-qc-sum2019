{
 "cells": [
  {
   "cell_type": "markdown",
   "metadata": {},
   "source": [
    "Chapter Two Answers...\n",
    "\n",
    "Problem One"
   ]
  },
  {
   "cell_type": "code",
   "execution_count": 1,
   "metadata": {},
   "outputs": [],
   "source": [
    "%matplotlib inline\n",
    "import numpy as np"
   ]
  },
  {
   "cell_type": "code",
   "execution_count": 2,
   "metadata": {},
   "outputs": [],
   "source": [
    "zero_qubit=np.matrix('1; 0')\n",
    "one_qubit=np.matrix('0; 1')"
   ]
  },
  {
   "cell_type": "code",
   "execution_count": 3,
   "metadata": {},
   "outputs": [],
   "source": [
    "def zero_to_one_qubit(percentage_zero,percentage_one):\n",
    "     if not percentage_zero+percentage_one==100 or percentage_zero<0 or percentage_one<0: raise Exception(\"percentages must add up to 100\\% and both be positive \")\n",
    "     return np.sqrt(percentage_zero/100.)*zero_qubit+np.sqrt(percentage_one/100.)*one_qubit"
   ]
  },
  {
   "cell_type": "code",
   "execution_count": 4,
   "metadata": {},
   "outputs": [
    {
     "name": "stdout",
     "output_type": "stream",
     "text": [
      "fifty_fifty [[0.70710678]\n",
      " [0.70710678]]\n",
      "ten_ninety [[0.31622777]\n",
      " [0.9486833 ]]\n",
      "all_zero [[0.]\n",
      " [1.]]\n",
      "all_one [[0.]\n",
      " [1.]]\n"
     ]
    }
   ],
   "source": [
    "fifty_fifty_qubit=zero_to_one_qubit(50,50)\n",
    "ten_ninety_qubit=zero_to_one_qubit(10,90)\n",
    "print(\"fifty_fifty\",fifty_fifty_qubit)\n",
    "print(\"ten_ninety\",ten_ninety_qubit)\n",
    "\n",
    "all_zero = zero_to_one_qubit(0,100)\n",
    "all_one = zero_to_one_qubit(0,100)\n",
    "\n",
    "print(\"all_zero\", all_zero)\n",
    "print(\"all_one\", all_one)"
   ]
  },
  {
   "cell_type": "markdown",
   "metadata": {},
   "source": [
    "Problem Two"
   ]
  },
  {
   "cell_type": "code",
   "execution_count": 11,
   "metadata": {},
   "outputs": [
    {
     "name": "stdout",
     "output_type": "stream",
     "text": [
      "(50.000000000000014, 50.000000000000014)\n"
     ]
    }
   ],
   "source": [
    "def qubit_to_percentages(q):\n",
    "    return (np.asscalar(100*(q[0]**2)),np.asscalar(100*(q[1]**2)))\n",
    "\n",
    "print(qubit_to_percentages(fifty_fifty_qubit))"
   ]
  },
  {
   "cell_type": "raw",
   "metadata": {},
   "source": [
    "Problem Three"
   ]
  },
  {
   "cell_type": "code",
   "execution_count": 12,
   "metadata": {},
   "outputs": [
    {
     "name": "stdout",
     "output_type": "stream",
     "text": [
      "[[0.70710678+0.j        ]\n",
      " [0.        +0.70710678j]]\n"
     ]
    }
   ],
   "source": [
    "clockwise_arrow_qubit = np.sqrt(.5)*zero_qubit + 1j * np.sqrt(.5)*one_qubit\n",
    "\n",
    "print(clockwise_arrow_qubit)"
   ]
  },
  {
   "cell_type": "raw",
   "metadata": {},
   "source": [
    "Problem Four"
   ]
  },
  {
   "cell_type": "code",
   "execution_count": 13,
   "metadata": {},
   "outputs": [],
   "source": [
    "def qubit(percentage_first,percentage_second,basis_first,basis_second):\n",
    "    if not percentage_first+percentage_second==100 or percentage_first<0 or percentage_second<0: raise Exception(\"percentages must add up to 100\\% and both be positive \")\n",
    "    return sqrt(percentage_first/100.)*basis_first+sqrt(percentage_second/100.)*basis_second"
   ]
  },
  {
   "cell_type": "code",
   "execution_count": 14,
   "metadata": {},
   "outputs": [],
   "source": [
    "plus_qubit=1/np.sqrt(2)*np.matrix('1; 1')\n",
    "minus_qubit=1/np.sqrt(2)*np.matrix('1; -1')"
   ]
  },
  {
   "cell_type": "code",
   "execution_count": 15,
   "metadata": {},
   "outputs": [],
   "source": [
    "clockwisearrow_qubit=1/np.sqrt(2)*np.matrix([[1],[np.complex(0,1)]])    \n",
    "counterclockwisearrow_qubit=1/np.sqrt(2)*np.matrix([[1],[-np.complex(0,1)]])"
   ]
  },
  {
   "cell_type": "code",
   "execution_count": 16,
   "metadata": {},
   "outputs": [],
   "source": [
    "def get_bloch_coordinates(qubit):\n",
    "    def get_x_bloch(qubit):\n",
    "        qubit_x_basis=1./np.sqrt(2)*np.matrix('1 1; 1 -1')*qubit \n",
    "        prob_zero_qubit=(qubit_x_basis.item(0)*qubit_x_basis.item(0).conjugate()).real\n",
    "        prob_one_qubit=(qubit_x_basis.item(1)*qubit_x_basis.item(1).conjugate()).real\n",
    "        return prob_zero_qubit-prob_one_qubit\n",
    "        \n",
    "    def get_y_bloch(qubit):\n",
    "        qubit_y_basis=1./np.sqrt(2)*np.matrix('1 1; 1 -1')*np.matrix([[1,0],[0,-np.complex(0,1)]])*qubit\n",
    "        prob_zero_qubit=(qubit_y_basis.item(0)*qubit_y_basis.item(0).conjugate()).real\n",
    "        prob_one_qubit=(qubit_y_basis.item(1)*qubit_y_basis.item(1).conjugate()).real\n",
    "        return prob_zero_qubit-prob_one_qubit\n",
    "    \n",
    "    def get_z_bloch(qubit):\n",
    "        qubit_z_basis=qubit\n",
    "        prob_zero_qubit=(qubit_z_basis.item(0)*qubit_z_basis.item(0).conjugate()).real\n",
    "        prob_one_qubit=(qubit_z_basis.item(1)*qubit_z_basis.item(1).conjugate()).real\n",
    "        return prob_zero_qubit-prob_one_qubit\n",
    "    return (get_x_bloch(qubit),get_y_bloch(qubit),get_z_bloch(qubit))"
   ]
  },
  {
   "cell_type": "code",
   "execution_count": 17,
   "metadata": {},
   "outputs": [
    {
     "name": "stdout",
     "output_type": "stream",
     "text": [
      "|\"0\"> coordinates are: (0.0, 0.0, 1)\n",
      "|\"1\"> coordinates are: (0.0, 0.0, -1)\n",
      "|\"+\"> coordinates are: (0.9999999999999996, 0.0, 0.0)\n",
      "|\"-\"> coordinates are: (-0.9999999999999996, 0.0, 0.0)\n",
      "|\"↻\"> coordinates are: (0.0, 0.9999999999999996, 0.0)\n",
      "|\"↺\"> coordinates are: (0.0, -0.9999999999999996, 0.0)\n"
     ]
    }
   ],
   "source": [
    "print('|\"0\"> coordinates are:',get_bloch_coordinates(zero_qubit))\n",
    "print('|\"1\"> coordinates are:',get_bloch_coordinates(one_qubit))\n",
    "print('|\"+\"> coordinates are:',get_bloch_coordinates(plus_qubit))\n",
    "print('|\"-\"> coordinates are:',get_bloch_coordinates(minus_qubit))\n",
    "print('|\"↻\"> coordinates are:',get_bloch_coordinates(clockwisearrow_qubit))\n",
    "print('|\"↺\"> coordinates are:',get_bloch_coordinates(counterclockwisearrow_qubit))\n",
    "\n",
    "#Looks good to me!"
   ]
  },
  {
   "cell_type": "markdown",
   "metadata": {},
   "source": [
    "Problem Five"
   ]
  },
  {
   "cell_type": "code",
   "execution_count": 21,
   "metadata": {},
   "outputs": [
    {
     "data": {
      "text/plain": [
       "<matplotlib.axes._subplots.Axes3DSubplot at 0x7f24ad7fa748>"
      ]
     },
     "execution_count": 21,
     "metadata": {},
     "output_type": "execute_result"
    },
    {
     "data": {
      "image/png": "[encoded data removed]",
      "text/plain": [
       "<Figure size 432x288 with 1 Axes>"
      ]
     },
     "metadata": {
      "needs_background": "light"
     },
     "output_type": "display_data"
    }
   ],
   "source": [
    "def plot_bloch(qubit,color='b',ax=None):\n",
    "    import matplotlib.pyplot as plt\n",
    "    from mpl_toolkits.mplot3d import Axes3D\n",
    "    if not ax:\n",
    "        fig = plt.figure()\n",
    "        ax = fig.add_subplot(111, projection='3d')\n",
    "        \n",
    "        # draw sphere\n",
    "        u, v = np.mgrid[0:2*np.pi:20j, 0:np.pi:10j]\n",
    "        x = np.cos(u)*np.sin(v)\n",
    "        y = np.sin(u)*np.sin(v)\n",
    "        z = np.cos(v)\n",
    "        ax.plot_wireframe(x, y, z, color=\"k\",alpha=.1)\n",
    "        ax.grid(False)\n",
    "\n",
    "    coordinates=get_bloch_coordinates(qubit)\n",
    "    ax.quiver([0],[0],[0],[coordinates[0]],[coordinates[1]],[coordinates[2]],length=1,color=color,arrow_length_ratio=0.3)\n",
    "    ax.set_xlim([-1,1])\n",
    "    ax.set_ylim([-1,1])\n",
    "    ax.set_zlim([-1,1])\n",
    "    ax.set_xlabel('x: |\"-\"> to |\"+\">')\n",
    "    ax.set_ylabel('y: |\"↺\"> to |\"↻\">')\n",
    "    ax.set_zlabel('z: |\"1\"> to |\"0\">')\n",
    "    ax.view_init(azim=20)\n",
    "    return ax\n",
    "\n",
    "# Plotting all of our basis qubits, colors and orientation match the textbook figure\n",
    "ax=plot_bloch(zero_qubit,color='xkcd:red')\n",
    "plot_bloch(one_qubit,color='xkcd:orange',ax=ax)\n",
    "plot_bloch(plus_qubit,color='xkcd:yellow',ax=ax)\n",
    "plot_bloch(minus_qubit,color='xkcd:green',ax=ax)\n",
    "plot_bloch(clockwisearrow_qubit,color='xkcd:blue',ax=ax)\n",
    "plot_bloch(counterclockwisearrow_qubit,color='xkcd:purple',ax=ax)\n",
    "\n",
    "# Now plotting a qubit that is 10% |\"0\"> and 90% |\"1\"> in turquoise\n",
    "plot_bloch(zero_to_one_qubit(10,90),color=\"xkcd:turquoise\",ax=ax)\n"
   ]
  },
  {
   "cell_type": "code",
   "execution_count": 19,
   "metadata": {},
   "outputs": [
    {
     "ename": "TypeError",
     "evalue": "zero_to_one_qubit() got an unexpected keyword argument 'firstPositive'",
     "output_type": "error",
     "traceback": [
      "\u001b[0;31m---------------------------------------------------------------------------\u001b[0m",
      "\u001b[0;31mTypeError\u001b[0m                                 Traceback (most recent call last)",
      "\u001b[0;32m<ipython-input-19-f66d7fabca5c>\u001b[0m in \u001b[0;36m<module>\u001b[0;34m\u001b[0m\n\u001b[0;32m----> 1\u001b[0;31m \u001b[0mplot_bloch\u001b[0m\u001b[0;34m(\u001b[0m\u001b[0mzero_to_one_qubit\u001b[0m\u001b[0;34m(\u001b[0m\u001b[0;36m50\u001b[0m\u001b[0;34m,\u001b[0m \u001b[0;36m50\u001b[0m\u001b[0;34m,\u001b[0m \u001b[0mfirstPositive\u001b[0m\u001b[0;34m=\u001b[0m\u001b[0;32mTrue\u001b[0m\u001b[0;34m,\u001b[0m \u001b[0msecondPositive\u001b[0m\u001b[0;34m=\u001b[0m\u001b[0;32mTrue\u001b[0m\u001b[0;34m)\u001b[0m\u001b[0;34m)\u001b[0m\u001b[0;34m\u001b[0m\u001b[0m\n\u001b[0m\u001b[1;32m      2\u001b[0m \u001b[0mplot_bloch\u001b[0m\u001b[0;34m(\u001b[0m\u001b[0mzero_to_one_qubit\u001b[0m\u001b[0;34m(\u001b[0m\u001b[0;36m50\u001b[0m\u001b[0;34m,\u001b[0m \u001b[0;36m50\u001b[0m\u001b[0;34m,\u001b[0m \u001b[0mfirstPositive\u001b[0m\u001b[0;34m=\u001b[0m\u001b[0;32mTrue\u001b[0m\u001b[0;34m,\u001b[0m \u001b[0msecondPositive\u001b[0m\u001b[0;34m=\u001b[0m\u001b[0;32mFalse\u001b[0m\u001b[0;34m)\u001b[0m\u001b[0;34m)\u001b[0m\u001b[0;34m\u001b[0m\u001b[0m\n\u001b[1;32m      3\u001b[0m \u001b[0mplot_bloch\u001b[0m\u001b[0;34m(\u001b[0m\u001b[0mzero_to_one_qubit\u001b[0m\u001b[0;34m(\u001b[0m\u001b[0;36m50\u001b[0m\u001b[0;34m,\u001b[0m \u001b[0;36m50\u001b[0m\u001b[0;34m,\u001b[0m \u001b[0mfirstPositive\u001b[0m\u001b[0;34m=\u001b[0m\u001b[0;32mFalse\u001b[0m\u001b[0;34m,\u001b[0m \u001b[0msecondPositive\u001b[0m\u001b[0;34m=\u001b[0m\u001b[0;32mTrue\u001b[0m\u001b[0;34m)\u001b[0m\u001b[0;34m)\u001b[0m\u001b[0;34m\u001b[0m\u001b[0m\n\u001b[1;32m      4\u001b[0m \u001b[0mplot_bloch\u001b[0m\u001b[0;34m(\u001b[0m\u001b[0mzero_to_one_qubit\u001b[0m\u001b[0;34m(\u001b[0m\u001b[0;36m50\u001b[0m\u001b[0;34m,\u001b[0m \u001b[0;36m50\u001b[0m\u001b[0;34m,\u001b[0m \u001b[0mfirstPositive\u001b[0m\u001b[0;34m=\u001b[0m\u001b[0;32mFalse\u001b[0m\u001b[0;34m,\u001b[0m \u001b[0msecondPositive\u001b[0m\u001b[0;34m=\u001b[0m\u001b[0;32mFalse\u001b[0m\u001b[0;34m)\u001b[0m\u001b[0;34m)\u001b[0m\u001b[0;34m\u001b[0m\u001b[0m\n",
      "\u001b[0;31mTypeError\u001b[0m: zero_to_one_qubit() got an unexpected keyword argument 'firstPositive'"
     ]
    }
   ],
   "source": [
    "#Stuck on the second part of this question; will revisit if time permits."
   ]
  },
  {
   "cell_type": "markdown",
   "metadata": {},
   "source": [
    "Problem Six"
   ]
  },
  {
   "cell_type": "markdown",
   "metadata": {},
   "source": [
    "Recall  |+> + |-> = |0>\n",
    "        |+> - |-> = |1>\n",
    "    and |↻> = (|0> + i|1>)/sqrt(2)\n",
    "    \n",
    "Hence:\n",
    "    |↻> = {(1+i)|+> + (1-i)|->}/sqrt(2)\n",
    "Similarly:\n",
    "    |↺> = {(1-i)|+> + (1+i)|->}/sqrt(2)"
   ]
  },
  {
   "cell_type": "markdown",
   "metadata": {},
   "source": [
    "Problem Seven"
   ]
  },
  {
   "cell_type": "code",
   "execution_count": null,
   "metadata": {},
   "outputs": [],
   "source": [
    "#Andrew answered this question perfectly. "
   ]
  }
 ],
 "metadata": {
  "kernelspec": {
   "display_name": "jabberwocky",
   "language": "python",
   "name": "jabberwocky"
  },
  "language_info": {
   "codemirror_mode": {
    "name": "ipython",
    "version": 3
   },
   "file_extension": ".py",
   "mimetype": "text/x-python",
   "name": "python",
   "nbconvert_exporter": "python",
   "pygments_lexer": "ipython3",
   "version": "3.6.6"
  }
 },
 "nbformat": 4,
 "nbformat_minor": 2
}
