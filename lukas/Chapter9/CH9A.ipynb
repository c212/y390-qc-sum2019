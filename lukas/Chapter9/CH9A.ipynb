{
 "cells": [
  {
   "cell_type": "markdown",
   "metadata": {},
   "source": [
    "Chapter Nine Solutions..."
   ]
  },
  {
   "cell_type": "markdown",
   "metadata": {},
   "source": [
    "# Problem One"
   ]
  },
  {
   "cell_type": "code",
   "execution_count": 2,
   "metadata": {},
   "outputs": [],
   "source": [
    "def documents_ok(passport,permanent_resident_card,drivers_license,voter_registration,under_18,report_card,doctor_record,daycare_record,school_id,social_security_card,birth_certificate):\n",
    "    return (passport or permanent_resident_card) or \\\n",
    "            ((drivers_license or school_id or voter_registration) or \\\n",
    "                (under_18 and \\\n",
    "                (report_card or doctor_record or daycare_record)) and \\\n",
    "            (social_security_card or birth_certificate))\n",
    "\n",
    "# This is the original function, but I'm not quite sure how to approach this problem. It doesn't seem like the\n",
    "# book provides a procedure for this kind operation, or at the very least it was too subtle for me to notice. "
   ]
  },
  {
   "cell_type": "markdown",
   "metadata": {},
   "source": [
    "# Problem Two"
   ]
  },
  {
   "cell_type": "markdown",
   "metadata": {},
   "source": [
    "Loosely speaking, for a reversible NAND gate, we need the gate to be bijective as a function; that is to say each input yields a unique output. With the simplest NAND gate have four possible inputs:\n",
    "\n",
    "00|01|10|11\n",
    "\n",
    "but only two possible outputs:\n",
    "\n",
    "1 | 0| 0| 0|\n",
    "\n",
    "So this is clearly not reversible. \n",
    "\n",
    "To introduce reversibility we could introduce two additional bits that store the original input, as so:\n",
    "\n",
    "IN   000|001|010|011|100|101|111\n",
    "OUT  001|000|010|011|100|101|111\n",
    "\n",
    "Where the first two bits store the original information (the two bits of the simplest NAND gate) and a third bit gets flipped whenever the NAND gate is 'activated,' so to speak. Clearly, each output is unique; the function is bijective, and so it's reversible. "
   ]
  },
  {
   "cell_type": "markdown",
   "metadata": {},
   "source": [
    "# Problem Three"
   ]
  },
  {
   "cell_type": "code",
   "execution_count": 5,
   "metadata": {},
   "outputs": [
    {
     "data": {
      "text/html": [
       "<pre style=\"word-wrap: normal;white-space: pre;line-height: 15px;\">                                                           ┌───┐               »\n",
       "q4_0: |0>──────────────────────────────────────────────────┤ X ├──■────────────»\n",
       "                                                      ┌───┐└───┘  │            »\n",
       "q4_1: |0>─────────────────────────────────────────────┤ X ├───────■────────────»\n",
       "                             ┌───┐               ┌───┐└───┘       │            »\n",
       "q4_2: |0>────────────────────┤ X ├──■────────────┤ X ├────────────┼────────────»\n",
       "                        ┌───┐└───┘  │       ┌───┐└───┘            │            »\n",
       "q4_3: |0>───────────────┤ X ├───────■───────┤ X ├─────────────────┼────────────»\n",
       "                   ┌───┐└───┘       │       └───┘               ┌─┴─┐┌───┐     »\n",
       "q4_4: |0>──────────┤ X ├────────────┼───────────────────────────┤ X ├┤ X ├──■──»\n",
       "              ┌───┐└───┘          ┌─┴─┐┌───┐                    └───┘└───┘  │  »\n",
       "q4_5: |0>─────┤ X ├───────────────┤ X ├┤ X ├────────────────────────────────■──»\n",
       "         ┌───┐└───┘               └───┘└───┘                              ┌─┴─┐»\n",
       "q4_6: |0>┤ X ├────────────────────────────────────────────────────────────┤ X ├»\n",
       "         └───┘                                                            └───┘»\n",
       " c4_0: 0 ══════════════════════════════════════════════════════════════════════»\n",
       "                                                                               »\n",
       "«              ┌───┐\n",
       "«q4_0: ────────┤ X ├\n",
       "«         ┌───┐└───┘\n",
       "«q4_1: ───┤ X ├─────\n",
       "«         └───┘     \n",
       "«q4_2: ─────────────\n",
       "«                   \n",
       "«q4_3: ─────────────\n",
       "«                   \n",
       "«q4_4: ─────────────\n",
       "«                   \n",
       "«q4_5: ─────────────\n",
       "«      ┌─┐          \n",
       "«q4_6: ┤M├──────────\n",
       "«      └╥┘          \n",
       "«c4_0: ═╩═══════════\n",
       "«                   </pre>"
      ],
      "text/plain": [
       "<qiskit.tools.visualization._text.TextDrawing at 0x7fe21c6560f0>"
      ]
     },
     "execution_count": 5,
     "metadata": {},
     "output_type": "execute_result"
    }
   ],
   "source": [
    "import qiskit as q\n",
    "\n",
    "qr = q.QuantumRegister(7)\n",
    "cr = q.ClassicalRegister(1)\n",
    "\n",
    "qc = q.QuantumCircuit(qr, cr)\n",
    "\n",
    "qc.x(qr[0])\n",
    "qc.x(qr[1])\n",
    "qc.x(qr[2])\n",
    "qc.x(qr[3])\n",
    "qc.x(qr[4])\n",
    "qc.x(qr[5])\n",
    "qc.x(qr[6])\n",
    "\n",
    "qc.ccx(qr[0], qr[1], qr[4])\n",
    "qc.ccx(qr[2], qr[3], qr[5])\n",
    "\n",
    "qc.x(qr[0])\n",
    "qc.x(qr[1])\n",
    "qc.x(qr[2])\n",
    "qc.x(qr[3])\n",
    "qc.x(qr[4])\n",
    "qc.x(qr[5])\n",
    "\n",
    "qc.ccx(qr[4], qr[5], qr[6])\n",
    "\n",
    "\n",
    "\n",
    "qc.measure(qr[6], cr[0])\n",
    "\n",
    "qc.draw()"
   ]
  },
  {
   "cell_type": "markdown",
   "metadata": {},
   "source": [
    "# Problem Four"
   ]
  },
  {
   "cell_type": "code",
   "execution_count": 7,
   "metadata": {},
   "outputs": [
    {
     "data": {
      "text/html": [
       "<pre style=\"word-wrap: normal;white-space: pre;line-height: 15px;\">                      \n",
       "q6_0: |0>───────■─────\n",
       "         ┌───┐  │     \n",
       "q6_1: |0>┤ X ├──■─────\n",
       "         └───┘┌─┴─┐┌─┐\n",
       "q6_2: |0>─────┤ X ├┤M├\n",
       "              └───┘└╥┘\n",
       " c6_0: 0 ═══════════╩═\n",
       "                      </pre>"
      ],
      "text/plain": [
       "<qiskit.tools.visualization._text.TextDrawing at 0x7fe21cbe5e10>"
      ]
     },
     "execution_count": 7,
     "metadata": {},
     "output_type": "execute_result"
    }
   ],
   "source": [
    "qr = q.QuantumRegister(3)\n",
    "cr = q.ClassicalRegister(1)\n",
    "\n",
    "qc = q.QuantumCircuit(qr, cr)\n",
    "\n",
    "# NOT B\n",
    "\n",
    "qc.x(qr[1])\n",
    "\n",
    "# A AND NOT B\n",
    "\n",
    "qc.ccx(qr[0],qr[1],qr[2])\n",
    "\n",
    "qc.measure(qr[2],cr[0])\n",
    "\n",
    "qc.draw()"
   ]
  },
  {
   "cell_type": "markdown",
   "metadata": {},
   "source": [
    "# Problem Five"
   ]
  },
  {
   "cell_type": "markdown",
   "metadata": {},
   "source": [
    "I looked over Andrew's solution and don't have much to add; the temporary helper qubits can be reset once their values have been used by just reapplying the Quantum OR gates that were first used to populate them. Other than this it's just an exercise to go through each parenthesis piece by piece and trim the fat where possible. "
   ]
  },
  {
   "cell_type": "markdown",
   "metadata": {},
   "source": [
    "# Problem Six\n",
    "\n",
    "The procedure would be simple, but the implementation would be tedious, so in the interest of time I will leave it at that. "
   ]
  }
 ],
 "metadata": {
  "kernelspec": {
   "display_name": "jabberwocky",
   "language": "python",
   "name": "jabberwocky"
  },
  "language_info": {
   "codemirror_mode": {
    "name": "ipython",
    "version": 3
   },
   "file_extension": ".py",
   "mimetype": "text/x-python",
   "name": "python",
   "nbconvert_exporter": "python",
   "pygments_lexer": "ipython3",
   "version": "3.6.6"
  }
 },
 "nbformat": 4,
 "nbformat_minor": 2
}
