{
 "cells": [
  {
   "cell_type": "markdown",
   "metadata": {},
   "source": [
    "Chapter Seven Answers..."
   ]
  },
  {
   "cell_type": "code",
   "execution_count": 1,
   "metadata": {},
   "outputs": [],
   "source": [
    "import qiskit\n",
    "def draw_qasm(qasm):\n",
    "    qc = qiskit.QuantumCircuit.from_qasm_str(qasm)\n",
    "    return qc.draw()"
   ]
  },
  {
   "cell_type": "markdown",
   "metadata": {},
   "source": [
    "# Problem 1"
   ]
  },
  {
   "cell_type": "code",
   "execution_count": 2,
   "metadata": {},
   "outputs": [
    {
     "data": {
      "text/html": [
       "<pre style=\"word-wrap: normal;white-space: pre;line-height: 15px;\">                                                 \n",
       "q_0: |0>─────────────────────────────────────────\n",
       "                                                 \n",
       "q_1: |0>─────────────────────────────────────────\n",
       "                                                 \n",
       "q_2: |0>─────────────────────────────────────────\n",
       "                  ┌───┐     ┌───┐          ┌─┐   \n",
       "q_3: |0>──────────┤ H ├──■──┤ H ├───────■──┤M├───\n",
       "        ┌───┐┌───┐└───┘┌─┴─┐└───┘┌───┐┌─┴─┐└╥┘┌─┐\n",
       "q_4: |0>┤ X ├┤ H ├─────┤ X ├─────┤ H ├┤ X ├─╫─┤M├\n",
       "        └───┘└───┘     └───┘     └───┘└───┘ ║ └╥┘\n",
       " c_0: 0 ════════════════════════════════════╬══╬═\n",
       "                                            ║  ║ \n",
       " c_1: 0 ════════════════════════════════════╬══╬═\n",
       "                                            ║  ║ \n",
       " c_2: 0 ════════════════════════════════════╬══╬═\n",
       "                                            ║  ║ \n",
       " c_3: 0 ════════════════════════════════════╩══╬═\n",
       "                                               ║ \n",
       " c_4: 0 ═══════════════════════════════════════╩═\n",
       "                                                 </pre>"
      ],
      "text/plain": [
       "<qiskit.tools.visualization._text.TextDrawing at 0x7f70d453e588>"
      ]
     },
     "execution_count": 2,
     "metadata": {},
     "output_type": "execute_result"
    }
   ],
   "source": [
    "code = \"\"\"\n",
    "OPENQASM 2.0;\n",
    "include \"qelib1.inc\";\n",
    "\n",
    "qreg q[5];\n",
    "creg c[5];\n",
    "\n",
    "x q[4];\n",
    "h q[3];\n",
    "h q[4];\n",
    "cx q[3], q[4];\n",
    "h q[3];\n",
    "h q[4];\n",
    "cx q[3], q[4];\n",
    "\n",
    "measure q[3] -> c[3];\n",
    "measure q[4] -> c[4];\n",
    "\"\"\"\n",
    "\n",
    "draw_qasm(code)"
   ]
  },
  {
   "cell_type": "markdown",
   "metadata": {},
   "source": [
    "# Problem 2"
   ]
  },
  {
   "cell_type": "code",
   "execution_count": 3,
   "metadata": {},
   "outputs": [
    {
     "data": {
      "text/html": [
       "<pre style=\"word-wrap: normal;white-space: pre;line-height: 15px;\">                                                 \n",
       "q_0: |0>─────────────────────────────────────────\n",
       "                                                 \n",
       "q_1: |0>─────────────────────────────────────────\n",
       "                                                 \n",
       "q_2: |0>─────────────────────────────────────────\n",
       "                  ┌───┐     ┌───┐          ┌─┐   \n",
       "q_3: |0>──────────┤ H ├──■──┤ H ├───────■──┤M├───\n",
       "        ┌───┐┌───┐└───┘┌─┴─┐└───┘┌───┐┌─┴─┐└╥┘┌─┐\n",
       "q_4: |0>┤ X ├┤ H ├─────┤ X ├─────┤ H ├┤ X ├─╫─┤M├\n",
       "        └───┘└───┘     └───┘     └───┘└───┘ ║ └╥┘\n",
       " c_0: 0 ════════════════════════════════════╬══╬═\n",
       "                                            ║  ║ \n",
       " c_1: 0 ════════════════════════════════════╬══╬═\n",
       "                                            ║  ║ \n",
       " c_2: 0 ════════════════════════════════════╬══╬═\n",
       "                                            ║  ║ \n",
       " c_3: 0 ════════════════════════════════════╩══╬═\n",
       "                                               ║ \n",
       " c_4: 0 ═══════════════════════════════════════╩═\n",
       "                                                 </pre>"
      ],
      "text/plain": [
       "<qiskit.tools.visualization._text.TextDrawing at 0x7f70d659efd0>"
      ]
     },
     "execution_count": 3,
     "metadata": {},
     "output_type": "execute_result"
    }
   ],
   "source": [
    "p2code = \"\"\"\n",
    "\n",
    "OPENQASM 2.0;\n",
    "include \"qelib1.inc\";\n",
    "\n",
    "qreg q[5];\n",
    "creg c[5];\n",
    "\n",
    "x q[4];\n",
    "h q[3];\n",
    "h q[4];\n",
    "cx q[3], q[4];\n",
    "h q[3];\n",
    "h q[4];\n",
    "cx q[3], q[4];\n",
    "\n",
    "measure q[3] -> c[3];\n",
    "measure q[4] -> c[4];\n",
    "\"\"\"\n",
    "\n",
    "draw_qasm(p2code)"
   ]
  },
  {
   "cell_type": "markdown",
   "metadata": {},
   "source": [
    "# Problem Three"
   ]
  },
  {
   "cell_type": "markdown",
   "metadata": {},
   "source": [
    "Since the third qubit is the control for the cx gates it affects whether the second qubit ends up in a pure |0> state or if it ends up as a superposition (almost fifty-fifty) of the one and zero state. "
   ]
  },
  {
   "cell_type": "markdown",
   "metadata": {},
   "source": [
    "# Problem Four"
   ]
  },
  {
   "cell_type": "code",
   "execution_count": 14,
   "metadata": {
    "scrolled": true
   },
   "outputs": [
    {
     "data": {
      "text/html": [
       "<pre style=\"word-wrap: normal;white-space: pre;line-height: 15px;\">        ┌───┐┌───┐┌───┐┌─────┐┌─────┐┌───┐┌───┐┌───┐┌───┐┌───┐┌───┐┌───┐┌─┐\n",
       "q_0: |0>┤ X ├┤ Y ├┤ Z ├┤ Sdg ├┤ Tdg ├┤ H ├┤ H ├┤ T ├┤ S ├┤ Z ├┤ Y ├┤ X ├┤M├\n",
       "        └───┘└───┘└───┘└─────┘└─────┘└───┘└───┘└───┘└───┘└───┘└───┘└───┘└╥┘\n",
       " c_0: 0 ═════════════════════════════════════════════════════════════════╩═\n",
       "                                                                           </pre>"
      ],
      "text/plain": [
       "<qiskit.tools.visualization._text.TextDrawing at 0x7f6e899cceb8>"
      ]
     },
     "execution_count": 14,
     "metadata": {},
     "output_type": "execute_result"
    }
   ],
   "source": [
    "p4code = \"\"\"\n",
    "OPENQASM 2.0;\n",
    "include \"qelib1.inc\";\n",
    "\n",
    "qreg q[1];\n",
    "creg c[1];\n",
    "\n",
    "x q[0];\n",
    "y q[0];\n",
    "z q[0];\n",
    "sdg q[0];\n",
    "tdg q[0];\n",
    "h q[0];\n",
    "h q[0];\n",
    "t q[0];\n",
    "s q[0];\n",
    "z q[0];\n",
    "y q[0];\n",
    "x q[0];\n",
    "\n",
    "measure q[0] -> c[0];\n",
    "\"\"\"\n",
    "\n",
    "draw_qasm(p4code)"
   ]
  },
  {
   "cell_type": "code",
   "execution_count": 15,
   "metadata": {},
   "outputs": [
    {
     "name": "stdout",
     "output_type": "stream",
     "text": [
      "Or more simply:\n"
     ]
    },
    {
     "data": {
      "text/html": [
       "<pre style=\"word-wrap: normal;white-space: pre;line-height: 15px;\">        ┌─┐\n",
       "q_0: |0>┤M├\n",
       "        └╥┘\n",
       " c_0: 0 ═╩═\n",
       "           </pre>"
      ],
      "text/plain": [
       "<qiskit.tools.visualization._text.TextDrawing at 0x7f6e89d07320>"
      ]
     },
     "execution_count": 15,
     "metadata": {},
     "output_type": "execute_result"
    }
   ],
   "source": [
    "print(\"Or more simply:\")\n",
    "\n",
    "draw_qasm(\"\"\"\n",
    "OPENQASM 2.0;\n",
    "include \"qelib1.inc\";\n",
    "\n",
    "qreg q[1];\n",
    "creg c[1];\n",
    "\n",
    "measure q[0] -> c[0];\n",
    "\"\"\")"
   ]
  },
  {
   "cell_type": "markdown",
   "metadata": {},
   "source": [
    "# Problem Five"
   ]
  },
  {
   "cell_type": "code",
   "execution_count": 20,
   "metadata": {},
   "outputs": [
    {
     "data": {
      "text/html": [
       "<pre style=\"word-wrap: normal;white-space: pre;line-height: 15px;\">                                                                           »\n",
       "q_0: |0>───────────────────────────────────────────────────────────────────»\n",
       "                                                                 ┌───┐┌───┐»\n",
       "q_1: |0>─────────────────────────────────────────────────────────┤ H ├┤ Z ├»\n",
       "                                             ┌───┐┌───┐          └───┘└───┘»\n",
       "q_2: |0>─────────────────────────────────────┤ X ├┤ X ├────────────────────»\n",
       "                             ┌───┐┌────┐┌───┐└─┬─┘└─┬─┘┌───┐               »\n",
       "q_3: |0>─────────────────────┤ H ├┤ Id ├┤ H ├──┼────■──┤ H ├───────────────»\n",
       "        ┌───┐┌───┐┌────┐┌───┐└───┘└────┘└───┘  │       └───┘┌───┐          »\n",
       "q_4: |0>┤ H ├┤ Z ├┤ Id ├┤ H ├──────────────────■────────────┤ H ├──────────»\n",
       "        └───┘└───┘└────┘└───┘                               └───┘          »\n",
       " c_0: 0 ═══════════════════════════════════════════════════════════════════»\n",
       "                                                                           »\n",
       " c_1: 0 ═══════════════════════════════════════════════════════════════════»\n",
       "                                                                           »\n",
       " c_2: 0 ═══════════════════════════════════════════════════════════════════»\n",
       "                                                                           »\n",
       " c_3: 0 ═══════════════════════════════════════════════════════════════════»\n",
       "                                                                           »\n",
       " c_4: 0 ═══════════════════════════════════════════════════════════════════»\n",
       "                                                                           »\n",
       "«                ┌───┐┌────┐┌───┐                  ┌───┐\n",
       "«q_0: ───────────┤ H ├┤ Id ├┤ H ├──■───────────────┤ H ├\n",
       "«     ┌────┐┌───┐└───┘└────┘└───┘  │       ┌───┐   └───┘\n",
       "«q_1: ┤ Id ├┤ H ├──────────────────┼────■──┤ H ├────────\n",
       "«     └────┘└───┘                ┌─┴─┐┌─┴─┐└───┘┌─┐     \n",
       "«q_2: ───────────────────────────┤ X ├┤ X ├─────┤M├─────\n",
       "«                                └───┘└───┘     └╥┘     \n",
       "«q_3: ───────────────────────────────────────────╫──────\n",
       "«                                                ║      \n",
       "«q_4: ───────────────────────────────────────────╫──────\n",
       "«                                                ║      \n",
       "«c_0: ═══════════════════════════════════════════╬══════\n",
       "«                                                ║      \n",
       "«c_1: ═══════════════════════════════════════════╬══════\n",
       "«                                                ║      \n",
       "«c_2: ═══════════════════════════════════════════╩══════\n",
       "«                                                       \n",
       "«c_3: ══════════════════════════════════════════════════\n",
       "«                                                       \n",
       "«c_4: ══════════════════════════════════════════════════\n",
       "«                                                       </pre>"
      ],
      "text/plain": [
       "<qiskit.tools.visualization._text.TextDrawing at 0x7f6e89c68c50>"
      ]
     },
     "execution_count": 20,
     "metadata": {},
     "output_type": "execute_result"
    }
   ],
   "source": [
    "p5code = \"\"\"\n",
    "OPENQASM 2.0;\n",
    "include \"qelib1.inc\";\n",
    "\n",
    "qreg q[5];\n",
    "creg c[5];\n",
    "\n",
    "h q[0];\n",
    "h q[1];\n",
    "h q[3];\n",
    "h q[4];\n",
    "\n",
    "z q[1];\n",
    "z q[4];\n",
    "\n",
    "id q[0];\n",
    "id q[1];\n",
    "id q[3];\n",
    "id q[4];\n",
    "\n",
    "h q[0];\n",
    "h q[1];\n",
    "h q[3];\n",
    "h q[4];\n",
    "\n",
    "cx q[4], q[2];\n",
    "cx q[3], q[2];\n",
    "cx q[0], q[2];\n",
    "cx q[1], q[2];\n",
    "\n",
    "h q[0];\n",
    "h q[1];\n",
    "h q[3];\n",
    "h q[4];\n",
    "\n",
    "measure q[2] -> c[2];\n",
    "\"\"\"\n",
    "\n",
    "draw_qasm(p5code)"
   ]
  },
  {
   "cell_type": "markdown",
   "metadata": {},
   "source": [
    "# Question Six"
   ]
  },
  {
   "cell_type": "code",
   "execution_count": 21,
   "metadata": {},
   "outputs": [
    {
     "data": {
      "text/html": [
       "<pre style=\"word-wrap: normal;white-space: pre;line-height: 15px;\">                                         ┌───┐                              »\n",
       "q_0: |0>─────────────────────────────────┤ X ├──■───────────────────────────»\n",
       "                   ┌───┐            ┌───┐└───┘  │                 ┌───┐     »\n",
       "q_1: |0>───────────┤ X ├──■─────────┤ T ├───────┼──────────────■──┤ H ├─────»\n",
       "        ┌────┐┌───┐└───┘┌─┴─┐┌─────┐└───┘     ┌─┴─┐┌───┐┌───┐┌─┴─┐└───┘┌───┐»\n",
       "q_2: |0>┤ Id ├┤ H ├─────┤ X ├┤ Tdg ├──────────┤ X ├┤ T ├┤ H ├┤ X ├─────┤ H ├»\n",
       "        └────┘└───┘     └───┘└─────┘          └───┘└───┘└───┘└───┘     └───┘»\n",
       "q_3: |0>────────────────────────────────────────────────────────────────────»\n",
       "                                                                            »\n",
       "q_4: |0>────────────────────────────────────────────────────────────────────»\n",
       "                                                                            »\n",
       " c_0: 0 ════════════════════════════════════════════════════════════════════»\n",
       "                                                                            »\n",
       " c_1: 0 ════════════════════════════════════════════════════════════════════»\n",
       "                                                                            »\n",
       " c_2: 0 ════════════════════════════════════════════════════════════════════»\n",
       "                                                                            »\n",
       " c_3: 0 ════════════════════════════════════════════════════════════════════»\n",
       "                                                                            »\n",
       " c_4: 0 ════════════════════════════════════════════════════════════════════»\n",
       "                                                                            »\n",
       "«                              ┌───┐            ┌─┐      \n",
       "«q_0: ──────────────────────■──┤ T ├─────────■──┤M├──────\n",
       "«          ┌───┐            │  └───┘         │  └╥┘   ┌─┐\n",
       "«q_1: ──■──┤ H ├───────■────┼────────────────┼───╫────┤M├\n",
       "«     ┌─┴─┐└───┘┌───┐┌─┴─┐┌─┴─┐     ┌─────┐┌─┴─┐ ║ ┌─┐└╥┘\n",
       "«q_2: ┤ X ├─────┤ H ├┤ X ├┤ X ├─────┤ Tdg ├┤ X ├─╫─┤M├─╫─\n",
       "«     └───┘     └───┘└───┘└───┘     └─────┘└───┘ ║ └╥┘ ║ \n",
       "«q_3: ───────────────────────────────────────────╫──╫──╫─\n",
       "«                                                ║  ║  ║ \n",
       "«q_4: ───────────────────────────────────────────╫──╫──╫─\n",
       "«                                                ║  ║  ║ \n",
       "«c_0: ═══════════════════════════════════════════╩══╬══╬═\n",
       "«                                                   ║  ║ \n",
       "«c_1: ══════════════════════════════════════════════╬══╩═\n",
       "«                                                   ║    \n",
       "«c_2: ══════════════════════════════════════════════╩════\n",
       "«                                                        \n",
       "«c_3: ═══════════════════════════════════════════════════\n",
       "«                                                        \n",
       "«c_4: ═══════════════════════════════════════════════════\n",
       "«                                                        </pre>"
      ],
      "text/plain": [
       "<qiskit.tools.visualization._text.TextDrawing at 0x7f6e89beba58>"
      ]
     },
     "execution_count": 21,
     "metadata": {},
     "output_type": "execute_result"
    }
   ],
   "source": [
    "p6code = \"\"\"\n",
    "OPENQASM 2.0;\n",
    "include \"qelib1.inc\";\n",
    "\n",
    "qreg q[5];\n",
    "creg c[5];\n",
    "\n",
    "x q[0];\n",
    "x q[1];\n",
    "id q[2];\n",
    "h q[2];\n",
    "cx q[1], q[2];\n",
    "tdg q[2];\n",
    "cx q[0], q[2];\n",
    "t q[1];\n",
    "t q[2];\n",
    "h q[2];\n",
    "cx q[1], q[2];\n",
    "h q[1];\n",
    "h q[2];\n",
    "cx q[1], q[2];\n",
    "h q[1];\n",
    "h q[2];\n",
    "cx q[1], q[2];\n",
    "cx q[0], q[2];\n",
    "t q[0];\n",
    "tdg q[2];\n",
    "cx q[0], q[2];\n",
    "measure q[0] -> c[0];\n",
    "measure q[1] -> c[1];\n",
    "measure q[2] -> c[2];\n",
    "\"\"\"\n",
    "\n",
    "draw_qasm(p6code)"
   ]
  }
 ],
 "metadata": {
  "kernelspec": {
   "display_name": "jabberwocky",
   "language": "python",
   "name": "jabberwocky"
  },
  "language_info": {
   "codemirror_mode": {
    "name": "ipython",
    "version": 3
   },
   "file_extension": ".py",
   "mimetype": "text/x-python",
   "name": "python",
   "nbconvert_exporter": "python",
   "pygments_lexer": "ipython3",
   "version": "3.6.6"
  }
 },
 "nbformat": 4,
 "nbformat_minor": 2
}
