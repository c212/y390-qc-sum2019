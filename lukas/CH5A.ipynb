{
 "cells": [
  {
   "cell_type": "markdown",
   "metadata": {},
   "source": [
    "Chapter Five Answers...\n",
    "\n",
    "Problem one through three in agreement with Andrew. Also not sure about the point of problem three; maybe it's misphrased? \n",
    "\n",
    "Problem Four."
   ]
  },
  {
   "cell_type": "code",
   "execution_count": 20,
   "metadata": {},
   "outputs": [],
   "source": [
    "import qiskit as q"
   ]
  },
  {
   "cell_type": "code",
   "execution_count": 21,
   "metadata": {},
   "outputs": [
    {
     "data": {
      "text/html": [
       "<pre style=\"word-wrap: normal;white-space: pre;line-height: 15px;\">          ┌─────┐┌─┐\n",
       "q14_0: |0>┤ Sdg ├┤M├\n",
       "          └─────┘└╥┘\n",
       " c14_0: 0 ════════╩═\n",
       "                    </pre>"
      ],
      "text/plain": [
       "<qiskit.tools.visualization._text.TextDrawing at 0x7f9a82946588>"
      ]
     },
     "execution_count": 21,
     "metadata": {},
     "output_type": "execute_result"
    }
   ],
   "source": [
    "qr = q.QuantumRegister(1)\n",
    "cr = q.ClassicalRegister(1)\n",
    "\n",
    "circuit = q.QuantumCircuit(qr, cr)\n",
    "circuit.sdg(qr[0])\n",
    "circuit.measure(qr[0], cr[0])\n",
    "\n",
    "circuit.draw()"
   ]
  },
  {
   "cell_type": "markdown",
   "metadata": {},
   "source": [
    "Problem Five."
   ]
  },
  {
   "cell_type": "code",
   "execution_count": 22,
   "metadata": {},
   "outputs": [
    {
     "data": {
      "text/html": [
       "<pre style=\"word-wrap: normal;white-space: pre;line-height: 15px;\">          ┌─────┐        ┌─┐\n",
       "q15_0: |0>┤ Sdg ├──■─────┤M├\n",
       "          └─────┘┌─┴─┐┌─┐└╥┘\n",
       "q15_1: |0>───────┤ X ├┤M├─╫─\n",
       "                 └───┘└╥┘ ║ \n",
       " c15_0: 0 ═════════════╬══╩═\n",
       "                       ║    \n",
       " c15_1: 0 ═════════════╩════\n",
       "                            </pre>"
      ],
      "text/plain": [
       "<qiskit.tools.visualization._text.TextDrawing at 0x7f9a828e5080>"
      ]
     },
     "execution_count": 22,
     "metadata": {},
     "output_type": "execute_result"
    }
   ],
   "source": [
    "qr = q.QuantumRegister(2)\n",
    "cr = q.ClassicalRegister(2)\n",
    "\n",
    "circuit = q.QuantumCircuit(qr, cr)\n",
    "circuit.sdg(qr[0])\n",
    "circuit.cx(qr[0], qr[1])\n",
    "circuit.measure(qr[0], cr[0])\n",
    "circuit.measure(qr[1], cr[1])\n",
    "\n",
    "circuit.draw()"
   ]
  },
  {
   "cell_type": "markdown",
   "metadata": {},
   "source": [
    "Problem Six.\n",
    " \n",
    "The reverse would be SdTdHHSTdZSdYXX|x>, where |x> is the result of the initial computation. SdTdHHSTdZSdYXX|x> = |+>"
   ]
  },
  {
   "cell_type": "markdown",
   "metadata": {},
   "source": [
    "Problem Seven."
   ]
  },
  {
   "cell_type": "code",
   "execution_count": 23,
   "metadata": {},
   "outputs": [
    {
     "data": {
      "text/html": [
       "<pre style=\"word-wrap: normal;white-space: pre;line-height: 15px;\">          ┌───┐          ┌───┐\n",
       "q15_0: |0>┤ H ├──■────■──┤ H ├\n",
       "          └───┘┌─┴─┐┌─┴─┐└───┘\n",
       "q15_1: |0>─────┤ X ├┤ X ├─────\n",
       "               └───┘└───┘     \n",
       " c15_0: 0 ════════════════════\n",
       "                              \n",
       " c15_1: 0 ════════════════════\n",
       "                              </pre>"
      ],
      "text/plain": [
       "<qiskit.tools.visualization._text.TextDrawing at 0x7f9a82946cc0>"
      ]
     },
     "execution_count": 23,
     "metadata": {},
     "output_type": "execute_result"
    }
   ],
   "source": [
    "circuit = q.QuantumCircuit(qr, cr)\n",
    "circuit.h(qr[0])\n",
    "circuit.cx(qr[0], qr[1])\n",
    "circuit.cx(qr[0], qr[1])\n",
    "circuit.h(qr[0])\n",
    "\n",
    "circuit.draw()"
   ]
  },
  {
   "cell_type": "markdown",
   "metadata": {},
   "source": [
    "Problem Eight."
   ]
  },
  {
   "cell_type": "code",
   "execution_count": 24,
   "metadata": {},
   "outputs": [
    {
     "data": {
      "text/html": [
       "<pre style=\"word-wrap: normal;white-space: pre;line-height: 15px;\">                                                                     \n",
       "q16_0: |0>───────────────────────────────────────────────────────────\n",
       "                                                                ┌───┐\n",
       "q16_1: |0>──────────────────────────────────────────────────────┤ X ├\n",
       "                                                                └───┘\n",
       "q16_2: |0>───────────────────────────────────────────────────────────\n",
       "                                                           ┌───┐     \n",
       "q16_3: |0>─────────────────────────────────────────────────┤ X ├─────\n",
       "                           ┌───┐┌───┐                 ┌───┐└───┘     \n",
       "q16_4: |0>─────────────────┤ X ├┤ H ├──■────■─────────┤ H ├──────────\n",
       "               ┌───┐┌─────┐└───┘└───┘┌─┴─┐┌─┴─┐┌─────┐└───┘          \n",
       "q16_5: |0>─────┤ X ├┤ Sdg ├──────────┤ X ├┤ X ├┤ Sdg ├───────────────\n",
       "               └───┘└─────┘          └───┘└───┘└─────┘               \n",
       "q16_6: |0>───────────────────────────────────────────────────────────\n",
       "          ┌───┐                                                      \n",
       "q16_7: |0>┤ X ├──────────────────────────────────────────────────────\n",
       "          └───┘                                                      \n",
       " c16_0: 0 ═══════════════════════════════════════════════════════════\n",
       "                                                                     \n",
       " c16_1: 0 ═══════════════════════════════════════════════════════════\n",
       "                                                                     \n",
       " c16_2: 0 ═══════════════════════════════════════════════════════════\n",
       "                                                                     \n",
       " c16_3: 0 ═══════════════════════════════════════════════════════════\n",
       "                                                                     \n",
       " c16_4: 0 ═══════════════════════════════════════════════════════════\n",
       "                                                                     \n",
       " c16_5: 0 ═══════════════════════════════════════════════════════════\n",
       "                                                                     \n",
       " c16_6: 0 ═══════════════════════════════════════════════════════════\n",
       "                                                                     \n",
       " c16_7: 0 ═══════════════════════════════════════════════════════════\n",
       "                                                                     </pre>"
      ],
      "text/plain": [
       "<qiskit.tools.visualization._text.TextDrawing at 0x7f9a828e5fd0>"
      ]
     },
     "execution_count": 24,
     "metadata": {},
     "output_type": "execute_result"
    }
   ],
   "source": [
    "qr = q.QuantumRegister(8)\n",
    "cr = q.ClassicalRegister(8)\n",
    "\n",
    "circuit = q.QuantumCircuit(qr, cr)\n",
    "\n",
    "# Preparing 01011101 state...\n",
    "\n",
    "circuit.x(qr[1])\n",
    "circuit.x(qr[3])\n",
    "circuit.x(qr[4])\n",
    "circuit.x(qr[5])\n",
    "circuit.x(qr[7])\n",
    "\n",
    "# Performing some computation...\n",
    "\n",
    "circuit.h(qr[4])\n",
    "circuit.sdg(qr[5])\n",
    "circuit.cx(qr[4], qr[5])\n",
    "\n",
    "# Reversing the computation...\n",
    "\n",
    "circuit.cx(qr[4], qr[5])\n",
    "circuit.h(qr[4])\n",
    "circuit.sdg(qr[5])\n",
    "\n",
    "circuit.draw()\n",
    "\n",
    "#Measurement would always yield 01011101 since all computations (except for preparation) have been reversed."
   ]
  }
 ],
 "metadata": {
  "kernelspec": {
   "display_name": "jabberwocky",
   "language": "python",
   "name": "jabberwocky"
  },
  "language_info": {
   "codemirror_mode": {
    "name": "ipython",
    "version": 3
   },
   "file_extension": ".py",
   "mimetype": "text/x-python",
   "name": "python",
   "nbconvert_exporter": "python",
   "pygments_lexer": "ipython3",
   "version": "3.6.6"
  }
 },
 "nbformat": 4,
 "nbformat_minor": 2
}
