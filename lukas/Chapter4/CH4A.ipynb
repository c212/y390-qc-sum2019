{
 "cells": [
  {
   "cell_type": "markdown",
   "metadata": {},
   "source": [
    "Chapter Four Answers"
   ]
  },
  {
   "cell_type": "markdown",
   "metadata": {},
   "source": [
    "Question One.\n",
    "\n",
    "We can create a NAND by putting together (XOR) OR (NOR);\n",
    "This is clunky and probably suboptimal, but it means that XOR, OR, and NOR form a classical universal gate set. "
   ]
  },
  {
   "cell_type": "markdown",
   "metadata": {},
   "source": [
    "Question Two.\n",
    "\n",
    "I will refer to Andrew on this one; the operation is illegal because you cannot multiply matrices of mismatching size because of the way that matrix multiplication is defined.  "
   ]
  },
  {
   "cell_type": "markdown",
   "metadata": {},
   "source": [
    "Question Three.\n",
    "\n",
    "You can apply the identity however many times you like. IIII...IIII|0> = |0> no matter how many I's, and I|+> = |+>."
   ]
  },
  {
   "cell_type": "markdown",
   "metadata": {},
   "source": [
    "Question Four.\n",
    "\n",
    "I differ from Andrew here.\n",
    "\n",
    "H of |0> is |+>, and X of |+> is |->.\n",
    "\n",
    "So XH of |0> is |->.\n",
    "\n",
    "To get there from |1>, simply apply H:\n",
    "\n",
    "H|1> = |->\n"
   ]
  },
  {
   "cell_type": "markdown",
   "metadata": {},
   "source": [
    "Question Five.\n",
    "\n",
    "Since H|0> = |+>, H|+> = |0>\n",
    "\n",
    "For |CounterClockwise>, recall S|+> = |Clockwise> and Z|Clockwise> = |CounterClockwise>;\n",
    "so ZS|+> = |CounterClockwise>."
   ]
  },
  {
   "cell_type": "markdown",
   "metadata": {},
   "source": [
    "Question Six\n",
    "\n",
    "The gates are their own inverses, so XX = YY = ZZ = I"
   ]
  },
  {
   "cell_type": "markdown",
   "metadata": {},
   "source": [
    "Question Seven\n",
    "\n",
    "As above, they would both yield |+>"
   ]
  },
  {
   "cell_type": "markdown",
   "metadata": {},
   "source": [
    "Question Eight\n",
    "\n",
    "The control qubit would be split 50/50 between one and zero, so if we just measured the control cubit we'd have something like |0+>, |1+>, the + being a placeholder for and the actual value of the unmeasured qubit. \n",
    "Of course, + is also halfway, so we'd finally end up with an even distribution of |00> |01> |10> and |11> if we measured both qubits. "
   ]
  }
 ],
 "metadata": {
  "kernelspec": {
   "display_name": "jabberwocky",
   "language": "python",
   "name": "jabberwocky"
  },
  "language_info": {
   "codemirror_mode": {
    "name": "ipython",
    "version": 3
   },
   "file_extension": ".py",
   "mimetype": "text/x-python",
   "name": "python",
   "nbconvert_exporter": "python",
   "pygments_lexer": "ipython3",
   "version": "3.6.6"
  }
 },
 "nbformat": 4,
 "nbformat_minor": 2
}
