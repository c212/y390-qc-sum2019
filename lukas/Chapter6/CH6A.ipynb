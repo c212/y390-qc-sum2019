{
 "cells": [
  {
   "cell_type": "markdown",
   "metadata": {},
   "source": [
    "Chapter Six Answers...\n",
    "\n",
    "Suffice it to say that my QASM code for problems 1-3 was identical to Andrew's. The one thing I noticed was that the circuit for problem two would be simplified to I|0> or even just |0>, since the operations are reversed. "
   ]
  },
  {
   "cell_type": "markdown",
   "metadata": {},
   "source": [
    "# Problem Four"
   ]
  },
  {
   "cell_type": "code",
   "execution_count": 3,
   "metadata": {},
   "outputs": [],
   "source": [
    "import qiskit\n",
    "def draw_qasm(qasm):\n",
    "    qc = qiskit.QuantumCircuit.from_qasm_str(qasm)\n",
    "    return qc.draw()"
   ]
  },
  {
   "cell_type": "code",
   "execution_count": 9,
   "metadata": {},
   "outputs": [
    {
     "data": {
      "text/html": [
       "<pre style=\"word-wrap: normal;white-space: pre;line-height: 15px;\">        ┌───┐             \n",
       "q_0: |0>┤ X ├──■──────────\n",
       "        └───┘┌─┴─┐┌───┐┌─┐\n",
       "q_1: |0>─────┤ X ├┤ X ├┤M├\n",
       "             └───┘└───┘└╥┘\n",
       " c_0: 0 ════════════════╩═\n",
       "                          </pre>"
      ],
      "text/plain": [
       "<qiskit.tools.visualization._text.TextDrawing at 0x7fa42b7f2c18>"
      ]
     },
     "execution_count": 9,
     "metadata": {},
     "output_type": "execute_result"
    }
   ],
   "source": [
    "qasm_code = \"\"\"\n",
    "OPENQASM 2.0;\n",
    "include \"qelib1.inc\";\n",
    "\n",
    "qreg q[2];\n",
    "creg c[1];\n",
    "\n",
    "x q[0];\n",
    "cx q[0],q[1];\n",
    "x q[1];\n",
    "\n",
    "measure q[1] -> c[0];\n",
    "\"\"\"\n",
    "draw_qasm(qasm_code)\n",
    "\n",
    "# should result in 0 100% of the time!"
   ]
  }
 ],
 "metadata": {
  "kernelspec": {
   "display_name": "jabberwocky",
   "language": "python",
   "name": "jabberwocky"
  },
  "language_info": {
   "codemirror_mode": {
    "name": "ipython",
    "version": 3
   },
   "file_extension": ".py",
   "mimetype": "text/x-python",
   "name": "python",
   "nbconvert_exporter": "python",
   "pygments_lexer": "ipython3",
   "version": "3.6.6"
  }
 },
 "nbformat": 4,
 "nbformat_minor": 2
}
