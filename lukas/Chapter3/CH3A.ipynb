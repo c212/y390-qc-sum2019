{
 "cells": [
  {
   "cell_type": "markdown",
   "metadata": {},
   "source": [
    "Chapter Three Answers\n",
    "\n",
    "Problem One"
   ]
  },
  {
   "cell_type": "code",
   "execution_count": 1,
   "metadata": {},
   "outputs": [
    {
     "name": "stdout",
     "output_type": "stream",
     "text": [
      "|\"10011\">\n"
     ]
    }
   ],
   "source": [
    "%matplotlib inline\n",
    "import numpy as np\n",
    "from functools import reduce\n",
    "from math import log\n",
    "import itertools\n",
    "\n",
    "zero_qubit=np.matrix('1; 0')\n",
    "one_qubit=np.matrix('0; 1')\n",
    "plus_qubit=1/np.sqrt(2)*np.matrix('1; 1')\n",
    "minus_qubit=1/np.sqrt(2)*np.matrix('1; -1')\n",
    "clockwisearrow_qubit=1/np.sqrt(2)*np.matrix([[1],[np.complex(0,1)]])    \n",
    "counterclockwisearrow_qubit=1/np.sqrt(2)*np.matrix([[1],[-np.complex(0,1)]])\n",
    "\n",
    "def create_quantum_state(qubits):\n",
    "    return reduce(lambda x,y:np.kron(x,y),qubits)\n",
    "\n",
    "register_01=create_quantum_state([zero_qubit,one_qubit])\n",
    "\n",
    "def get_nqubits_quantum_state(state):\n",
    "    return int(log(state.size,2))\n",
    "\n",
    "def measure_in_01_basis(state):\n",
    "    from random import random\n",
    "    n_qubits=int(log(state.shape[0],2))\n",
    "    probabilities=[(coeff*coeff.conjugate()).real for coeff in state.flat]\n",
    "    rand=random()\n",
    "    for idx,state_desc in enumerate([''.join(map(str,state_desc)) for state_desc in itertools.product([0, 1], repeat=n_qubits)]):\n",
    "        if rand < sum(probabilities[0:(idx+1)]):\n",
    "            return '|\"%s\">' % state_desc\n",
    "    \n",
    "print(measure_in_01_basis(create_quantum_state([one_qubit,zero_qubit,zero_qubit,one_qubit,one_qubit])))"
   ]
  },
  {
   "cell_type": "code",
   "execution_count": 2,
   "metadata": {},
   "outputs": [
    {
     "name": "stdout",
     "output_type": "stream",
     "text": [
      "|\"00\">\n",
      "|\"00\">\n",
      "|\"00\">\n",
      "|\"00\">\n",
      "|\"00\">\n",
      "|\"11\">\n",
      "|\"00\">\n",
      "|\"00\">\n",
      "|\"00\">\n",
      "|\"00\">\n"
     ]
    }
   ],
   "source": [
    "for i in range(10):\n",
    "    bell_state_phi_plus=(create_quantum_state([zero_qubit,zero_qubit])+create_quantum_state([one_qubit,one_qubit]))/np.sqrt(2)\n",
    "    print(measure_in_01_basis(bell_state_phi_plus))"
   ]
  },
  {
   "cell_type": "code",
   "execution_count": 3,
   "metadata": {},
   "outputs": [],
   "source": [
    "def get_qubits_from_state(state):\n",
    "    basis_states=[zero_qubit,one_qubit,plus_qubit,minus_qubit,clockwisearrow_qubit,counterclockwisearrow_qubit]\n",
    "    for separated_state in itertools.product(basis_states, repeat=get_nqubits_quantum_state(state)):\n",
    "        candidate_state=create_quantum_state(separated_state)\n",
    "        if np.allclose(candidate_state,state):\n",
    "            return separated_state"
   ]
  },
  {
   "cell_type": "code",
   "execution_count": 4,
   "metadata": {},
   "outputs": [
    {
     "data": {
      "text/plain": [
       "(matrix([[0],\n",
       "         [1]]), matrix([[1],\n",
       "         [0]]), matrix([[1],\n",
       "         [0]]), matrix([[0],\n",
       "         [1]]), matrix([[0],\n",
       "         [1]]))"
      ]
     },
     "execution_count": 4,
     "metadata": {},
     "output_type": "execute_result"
    }
   ],
   "source": [
    "register_10011=create_quantum_state([one_qubit,zero_qubit,zero_qubit,one_qubit,one_qubit])\n",
    "get_qubits_from_state(register_01)\n",
    "get_qubits_from_state(register_10011)"
   ]
  },
  {
   "cell_type": "code",
   "execution_count": 12,
   "metadata": {},
   "outputs": [],
   "source": [
    "def zero_to_one_qubit(percentage_zero,percentage_one):\n",
    "     if not percentage_zero+percentage_one==100 or percentage_zero<0 or percentage_one<0: raise Exception(\"percentages must add up to 100\\% and both be positive \")\n",
    "     return np.sqrt(percentage_zero/100.)*zero_qubit+np.sqrt(percentage_one/100.)*one_qubit\n",
    "\n",
    "forty_sixty = zero_to_one_qubit(40,60)\n",
    "sixty_forty = zero_to_one_qubit(60,40)\n",
    "\n",
    "test_register = create_quantum_state([forty_sixty,sixty_forty])\n",
    "\n",
    "get_qubits_from_state(test_register) #note how it returns nothing..."
   ]
  },
  {
   "cell_type": "markdown",
   "metadata": {},
   "source": [
    "Problem Two"
   ]
  },
  {
   "cell_type": "code",
   "execution_count": 17,
   "metadata": {},
   "outputs": [
    {
     "data": {
      "text/plain": [
       "(matrix([[0.63245553],\n",
       "         [0.77459667]]), matrix([[0.77459667],\n",
       "         [0.63245553]]))"
      ]
     },
     "execution_count": 17,
     "metadata": {},
     "output_type": "execute_result"
    }
   ],
   "source": [
    "def get_qubits_from_state(state):\n",
    "    basis_states=[zero_qubit,one_qubit,plus_qubit,minus_qubit,clockwisearrow_qubit,counterclockwisearrow_qubit,forty_sixty,sixty_forty]\n",
    "    for separated_state in itertools.product(basis_states, repeat=get_nqubits_quantum_state(state)):\n",
    "        candidate_state=create_quantum_state(separated_state)\n",
    "        if np.allclose(candidate_state,state):\n",
    "            return separated_state\n",
    "        \n",
    "get_qubits_from_state(test_register)\n",
    "\n",
    "#Finally, an answer."
   ]
  },
  {
   "cell_type": "markdown",
   "metadata": {},
   "source": [
    "Problem Three"
   ]
  },
  {
   "cell_type": "markdown",
   "metadata": {},
   "source": [
    "T1 = -t / ln(P)\n",
    "\n",
    "T1 = -10^(-7) / ln(.007)"
   ]
  },
  {
   "cell_type": "markdown",
   "metadata": {},
   "source": [
    "Problem Four"
   ]
  },
  {
   "cell_type": "markdown",
   "metadata": {},
   "source": [
    "Quantum Computer B has higher T-values, and hence less decoherence, so it is the better option."
   ]
  },
  {
   "cell_type": "markdown",
   "metadata": {},
   "source": [
    "Problem Five"
   ]
  },
  {
   "cell_type": "code",
   "execution_count": 51,
   "metadata": {},
   "outputs": [],
   "source": [
    "\"\"\"def new_measure_in_01_basis(state):\n",
    "    inp = measure_in_01_basis(state)\n",
    "    nqub = (len(inp) - 4)\n",
    "    listof = []\n",
    "    for i in range(nqub - 2):\n",
    "        if inp[i+2] == \"0\":\n",
    "            listof.append(zero_qubit)\n",
    "        else:\n",
    "            listof.append(one_qubit)\n",
    "    return create_quantum_state(listof)\"\"\""
   ]
  },
  {
   "cell_type": "code",
   "execution_count": 50,
   "metadata": {},
   "outputs": [
    {
     "data": {
      "text/plain": [
       "matrix([[0],\n",
       "        [0],\n",
       "        [0],\n",
       "        [0],\n",
       "        [1],\n",
       "        [0],\n",
       "        [0],\n",
       "        [0]])"
      ]
     },
     "execution_count": 50,
     "metadata": {},
     "output_type": "execute_result"
    }
   ],
   "source": [
    "#new_measure_in_01_basis((create_quantum_state([one_qubit,zero_qubit,zero_qubit,one_qubit,one_qubit])))\n",
    "\n",
    "#This one stumped me, unfortunately. Not sure what I could add to Andrew's answer."
   ]
  },
  {
   "cell_type": "markdown",
   "metadata": {},
   "source": [
    "Problem Six"
   ]
  },
  {
   "cell_type": "code",
   "execution_count": 22,
   "metadata": {},
   "outputs": [],
   "source": [
    "def even_newer_measure_in_01_basis(state):\n",
    "    inp = measure_in_01_basis(state)\n",
    "    nqub = len(inp) - 4\n",
    "    listof = []\n",
    "    for i in range(nqub):\n",
    "        if inp[i+2] == \"0\":\n",
    "            listof.append(zero_qubit)\n",
    "        else:\n",
    "            listof.append(one_qubit)\n",
    "            \n",
    "        #Here I would somehow refer back to the original input and change it to be == to create_quantum_state(listof)\n",
    "        #This would change the input state to return the originally-measured value 100% of the time, just like\n",
    "        #a wave function collapse would. But I can't think of a way to do this without some kind of global variable trick\n",
    "        \n",
    "        #I took a look at Andrew's code and he created a class, which looks like a good way to solve this problem.\n",
    "        #I will leave my attempt here for reference. \n",
    "\n",
    "    return measure_in_01_basis(create_quantum_state(listof))\n",
    "            "
   ]
  },
  {
   "cell_type": "code",
   "execution_count": 23,
   "metadata": {},
   "outputs": [
    {
     "name": "stdout",
     "output_type": "stream",
     "text": [
      "|\"0001\">\n",
      "|\"0100\">\n",
      "|\"0110\">\n",
      "|\"0100\">\n",
      "|\"0100\">\n",
      "|\"0000\">\n",
      "|\"0110\">\n",
      "|\"0110\">\n",
      "|\"0000\">\n",
      "|\"0100\">\n",
      "New, improved, collapsing measurement:\n",
      "|\"0011\">\n",
      "|\"0000\">\n",
      "|\"0011\">\n",
      "|\"0100\">\n",
      "|\"0000\">\n",
      "|\"0111\">\n",
      "|\"0111\">\n",
      "|\"0001\">\n",
      "|\"0111\">\n",
      "|\"0010\">\n"
     ]
    }
   ],
   "source": [
    "new_test_state = create_quantum_state([zero_qubit, plus_qubit, plus_qubit, plus_qubit])\n",
    "\n",
    "for i in range(10):\n",
    "    print(measure_in_01_basis(new_test_state))\n",
    "    \n",
    "print(\"New, improved, collapsing measurement:\")\n",
    "\n",
    "for i in range(10):\n",
    "    print(even_newer_measure_in_01_basis(new_test_state))\n"
   ]
  }
 ],
 "metadata": {
  "kernelspec": {
   "display_name": "jabberwocky",
   "language": "python",
   "name": "jabberwocky"
  },
  "language_info": {
   "codemirror_mode": {
    "name": "ipython",
    "version": 3
   },
   "file_extension": ".py",
   "mimetype": "text/x-python",
   "name": "python",
   "nbconvert_exporter": "python",
   "pygments_lexer": "ipython3",
   "version": "3.6.6"
  }
 },
 "nbformat": 4,
 "nbformat_minor": 2
}
