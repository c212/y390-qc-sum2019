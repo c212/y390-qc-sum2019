{
 "cells": [
  {
   "cell_type": "code",
   "execution_count": null,
   "metadata": {},
   "outputs": [],
   "source": [
    "#q1\n",
    "%matplotlib inline\n",
    "\n",
    "def documents_ok(passport,permanent_resident_card,drivers_license,voter_registration,under_18,report_card,doctor_record,daycare_record,school_id,social_security_card,birth_certificate):\n",
    "    return (passport or permanent_resident_card) or \\\n",
    "            ((drivers_license or school_id or voter_registration) or \\\n",
    "                (under_18 and \\\n",
    "                (report_card or doctor_record or daycare_record)) and \\\n",
    "            (social_security_card or birth_certificate))\n",
    "\n",
    "def documents_ok(passport,permanent_resident_card,drivers_license,voter_registration,under_18,report_card,doctor_record,daycare_record,school_id,social_security_card,birth_certificate):\n",
    "    return (passport or permanent_resident_card) or \\\n",
    "            ((drivers_license or school_id or voter_registration or under_18) and \\\n",
    "                (report_card or doctor_record or daycare_record) and \\\n",
    "            (social_security_card or birth_certificate))\n",
    "\n",
    "\n",
    "\n"
   ]
  },
  {
   "cell_type": "code",
   "execution_count": null,
   "metadata": {},
   "outputs": [],
   "source": [
    "#q2\n"
   ]
  }
 ],
 "metadata": {
  "kernelspec": {
   "display_name": "baozi",
   "language": "python",
   "name": "baozi"
  },
  "language_info": {
   "codemirror_mode": {
    "name": "ipython",
    "version": 3
   },
   "file_extension": ".py",
   "mimetype": "text/x-python",
   "name": "python",
   "nbconvert_exporter": "python",
   "pygments_lexer": "ipython3",
   "version": "3.6.6"
  }
 },
 "nbformat": 4,
 "nbformat_minor": 2
}
