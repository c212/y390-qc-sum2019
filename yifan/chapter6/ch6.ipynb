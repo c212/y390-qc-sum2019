{
 "cells": [
  {
   "cell_type": "code",
   "execution_count": 8,
   "metadata": {},
   "outputs": [],
   "source": [
    "%matplotlib inline\n",
    "import qiskit\n",
    "from qiskit import QuantumCircuit, execute, Aer, IBMQ\n",
    "#from qiskit.compiler import transpile, assemble\n",
    "#from qiskit.tools.jupyter import *\n",
    "#from qiskit.visualization import *\n",
    "from qiskit import QuantumCircuit, ClassicalRegister, QuantumRegister, QISKitError\n",
    "#IBMQ.load_accounts()\n",
    "#import packages\n"
   ]
  },
  {
   "cell_type": "code",
   "execution_count": 9,
   "metadata": {},
   "outputs": [
    {
     "data": {
      "text/html": [
       "<pre style=\"word-wrap: normal;white-space: pre;line-height: 15px;\">        ┌───┐     ┌─┐   \n",
       "q_0: |0>┤ H ├──■──┤M├───\n",
       "        └───┘┌─┴─┐└╥┘┌─┐\n",
       "q_1: |0>─────┤ X ├─╫─┤M├\n",
       "             └───┘ ║ └╥┘\n",
       " c_0: 0 ═══════════╩══╬═\n",
       "                      ║ \n",
       " c_1: 0 ══════════════╩═\n",
       "                        </pre>"
      ],
      "text/plain": [
       "<qiskit.tools.visualization._text.TextDrawing at 0x7f9a7503e710>"
      ]
     },
     "execution_count": 9,
     "metadata": {},
     "output_type": "execute_result"
    }
   ],
   "source": [
    "#Question 1 :\n",
    "#The code here, the picture in this folder.\n",
    "qasmCode = \"\"\"\n",
    "OPENQASM 2.0;\n",
    "include \"qelib1.inc\";\n",
    "\n",
    "qreg q[2];\n",
    "creg c[2];\n",
    "\n",
    "h q[0];\n",
    "cx q[0],q[1];\n",
    "measure q[0] -> c[0];\n",
    "measure q[1] -> c[1];\n",
    "\"\"\"\n",
    "qc = QuantumCircuit.from_qasm_str(qasmCode)\n",
    "qc.draw()\n"
   ]
  },
  {
   "cell_type": "code",
   "execution_count": 10,
   "metadata": {
    "scrolled": true
   },
   "outputs": [
    {
     "data": {
      "text/html": [
       "<pre style=\"word-wrap: normal;white-space: pre;line-height: 15px;\">        ┌───┐┌───┐┌───┐┌───┐┌───┐┌───┐┌───┐┌─────┐┌─────┐┌───┐┌───┐┌───┐\n",
       "q_0: |0>┤ X ├┤ Y ├┤ Z ├┤ S ├┤ T ├┤ H ├┤ H ├┤ Tdg ├┤ Sdg ├┤ Z ├┤ Y ├┤ X ├\n",
       "        └───┘└───┘└───┘└───┘└───┘└───┘└───┘└─────┘└─────┘└───┘└───┘└───┘\n",
       " c_0: 0 ════════════════════════════════════════════════════════════════\n",
       "                                                                        </pre>"
      ],
      "text/plain": [
       "<qiskit.tools.visualization._text.TextDrawing at 0x7f9a1cce0e80>"
      ]
     },
     "execution_count": 10,
     "metadata": {},
     "output_type": "execute_result"
    }
   ],
   "source": [
    "#Question 2 :\n",
    "#The code here, the picture in this folder.\n",
    "qasmCode = \"\"\"\n",
    "OPENQASM 2.0;\n",
    "include \"qelib1.inc\";\n",
    "\n",
    "qreg q[1];\n",
    "creg c[1];\n",
    "\n",
    "x q[0];\n",
    "y q[0];\n",
    "z q[0];\n",
    "s q[0];\n",
    "t q[0];\n",
    "h q[0];\n",
    "h q[0];\n",
    "tdg q[0];\n",
    "sdg q[0];\n",
    "z q[0];\n",
    "y q[0];\n",
    "x q[0];\n",
    "\"\"\"\n",
    "qc = QuantumCircuit.from_qasm_str(qasmCode)\n",
    "qc.draw()\n"
   ]
  },
  {
   "cell_type": "code",
   "execution_count": 11,
   "metadata": {},
   "outputs": [
    {
     "data": {
      "text/html": [
       "<pre style=\"word-wrap: normal;white-space: pre;line-height: 15px;\">                  \n",
       "q_0: |0>──────────\n",
       "             ┌───┐\n",
       "q_1: |0>─────┤ Y ├\n",
       "             └───┘\n",
       "q_2: |0>──────────\n",
       "        ┌───┐     \n",
       "q_3: |0>┤ Y ├─────\n",
       "        └───┘     \n",
       "q_4: |0>──────────\n",
       "                  \n",
       " c_0: 0 ══════════\n",
       "                  \n",
       " c_1: 0 ══════════\n",
       "                  \n",
       " c_2: 0 ══════════\n",
       "                  \n",
       " c_3: 0 ══════════\n",
       "                  \n",
       " c_4: 0 ══════════\n",
       "                  </pre>"
      ],
      "text/plain": [
       "<qiskit.tools.visualization._text.TextDrawing at 0x7f9a1cc142b0>"
      ]
     },
     "execution_count": 11,
     "metadata": {},
     "output_type": "execute_result"
    }
   ],
   "source": [
    "#Question 3:\n",
    "#The code here, the picture in this folder.\n",
    "qasmCode = \"\"\"\n",
    "OPENQASM 2.0;\n",
    "include \"qelib1.inc\";\n",
    "\n",
    "qreg q[5];\n",
    "creg c[5];\n",
    "\n",
    "y q[1];\n",
    "y q[3];\n",
    "\"\"\"\n",
    "qc = QuantumCircuit.from_qasm_str(qasmCode)\n",
    "qc.draw()\n"
   ]
  },
  {
   "cell_type": "code",
   "execution_count": 12,
   "metadata": {},
   "outputs": [
    {
     "data": {
      "text/html": [
       "<pre style=\"word-wrap: normal;white-space: pre;line-height: 15px;\">                ┌───┐┌─┐\n",
       "q_0: |0>────────┤ X ├┤M├\n",
       "        ┌───┐┌─┐└───┘└╥┘\n",
       "q_1: |0>┤ Y ├┤M├──────╫─\n",
       "        └───┘└╥┘      ║ \n",
       " c_0: 0 ══════╬═══════╩═\n",
       "              ║         \n",
       " c_1: 0 ══════╩═════════\n",
       "                        </pre>"
      ],
      "text/plain": [
       "<qiskit.tools.visualization._text.TextDrawing at 0x7f9a1cbc5cf8>"
      ]
     },
     "execution_count": 12,
     "metadata": {},
     "output_type": "execute_result"
    }
   ],
   "source": [
    "#Q4\n",
    "#The code here, the picture in this folder.\n",
    "qasmCode = \"\"\"\n",
    "OPENQASM 2.0;\n",
    "include \"qelib1.inc\";\n",
    "\n",
    "qreg q[2];\n",
    "creg c[2];\n",
    "\n",
    "y q[1];\n",
    "x q[0];\n",
    "measure q[0] -> c[0];\n",
    "measure q[1] -> c[1];\n",
    "\"\"\"\n",
    "qc = QuantumCircuit.from_qasm_str(qasmCode)\n",
    "qc.draw()\n"
   ]
  },
  {
   "cell_type": "code",
   "execution_count": null,
   "metadata": {},
   "outputs": [],
   "source": []
  }
 ],
 "metadata": {
  "kernelspec": {
   "display_name": "baozi",
   "language": "python",
   "name": "baozi"
  },
  "language_info": {
   "codemirror_mode": {
    "name": "ipython",
    "version": 3
   },
   "file_extension": ".py",
   "mimetype": "text/x-python",
   "name": "python",
   "nbconvert_exporter": "python",
   "pygments_lexer": "ipython3",
   "version": "3.6.6"
  }
 },
 "nbformat": 4,
 "nbformat_minor": 2
}
