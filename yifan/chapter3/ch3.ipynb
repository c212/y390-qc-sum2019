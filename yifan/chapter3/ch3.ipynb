{
 "cells": [
  {
   "cell_type": "code",
   "execution_count": 6,
   "metadata": {},
   "outputs": [],
   "source": [
    "%matplotlib inline\n",
    "import numpy as np\n",
    "from functools import reduce\n",
    "from math import log\n",
    "import itertools\n",
    "#codes from text book\n",
    "zero_qubit=np.matrix('1; 0')\n",
    "one_qubit=np.matrix('0; 1')\n",
    "plus_qubit=1/np.sqrt(2)*np.matrix('1; 1')\n",
    "minus_qubit=1/np.sqrt(2)*np.matrix('1; -1')\n",
    "clockwisearrow_qubit=1/np.sqrt(2)*np.matrix([[1],[np.complex(0,1)]])    \n",
    "counterclockwisearrow_qubit=1/np.sqrt(2)*np.matrix([[1],[-np.complex(0,1)]])\n",
    "\n",
    "def zero_to_one_qubit(percentage_zero,percentage_one):\n",
    "     if not percentage_zero+percentage_one==100 or percentage_zero<0 or percentage_one<0: raise Exception(\"percentages must add up to 100\\% and both be positive \")\n",
    "            return np.sqrt(percentage_zero/100.)*zero_qubit+np.sqrt(percentage_one/100.)*one_qubit\n",
    "def create_quantum_state(qubits):\n",
    "    return reduce(lambda x,y:np.kron(x,y),qubits)\n",
    "register_01=create_quantum_state([zero_qubit,one_qubit])\n",
    "\n",
    "def get_nqubits_quantum_state(state):\n",
    "    return int(log(state.size,2))\n",
    "\n"
   ]
  },
  {
   "cell_type": "code",
   "execution_count": 36,
   "metadata": {
    "scrolled": false
   },
   "outputs": [
    {
     "name": "stdout",
     "output_type": "stream",
     "text": [
      "None\n"
     ]
    }
   ],
   "source": [
    "#Question 1 \n",
    "\n",
    "def get_qubits_from_state(state):\n",
    "    basis_states=[zero_qubit,one_qubit,plus_qubit,minus_qubit,clockwisearrow_qubit,counterclockwisearrow_qubit]\n",
    "    for separated_state in itertools.product(basis_states, repeat=get_nqubits_quantum_state(state)):\n",
    "        candidate_state=create_quantum_state(separated_state)\n",
    "        if np.allclose(candidate_state,state):\n",
    "            return separated_state\n",
    "\n",
    "fifty_fifty_qubit=zero_to_one_qubit(50,50)\n",
    "twenty_eighty_qubit = zero_to_one_qubit(20,80)\n",
    "ten_ninety_qubit = zero_to_one_qubit(10,90)\n",
    "#A state of (50,50) and (10,90) failed\n",
    "print(get_qubits_from_state(create_quantum_state([ten_ninety_qubit, twenty_eighty_qubit])))"
   ]
  },
  {
   "cell_type": "code",
   "execution_count": 38,
   "metadata": {},
   "outputs": [
    {
     "name": "stdout",
     "output_type": "stream",
     "text": [
      "(matrix([[0.31622777],\n",
      "        [0.9486833 ]]), matrix([[0.4472136 ],\n",
      "        [0.89442719]]))\n"
     ]
    }
   ],
   "source": [
    "#Question 2\n",
    "\n",
    "def get_qubits_from_state_with_additional_guess(state):\n",
    "    basis_states=[zero_qubit,one_qubit,plus_qubit,minus_qubit,\n",
    "                  clockwisearrow_qubit,counterclockwisearrow_qubit,\n",
    "                  twenty_eighty_qubit, ten_ninety_qubit]\n",
    "    for separated_state in itertools.product(basis_states,\n",
    "                                             repeat=get_nqubits_quantum_state(state)):\n",
    "        candidate_state=create_quantum_state(separated_state)\n",
    "        if np.allclose(candidate_state,state):\n",
    "            return separated_state\n",
    "\n",
    "print(get_qubits_from_state_with_additional_guess(create_quantum_state([ten_ninety_qubit, twenty_eighty_qubit])))"
   ]
  },
  {
   "cell_type": "code",
   "execution_count": 40,
   "metadata": {},
   "outputs": [
    {
     "name": "stdout",
     "output_type": "stream",
     "text": [
      "0.003040061373322763\n"
     ]
    }
   ],
   "source": [
    "#Question 3:\n",
    "#reference code from book\n",
    "probability_state_one_after_point1millisecond=0.1\n",
    "t=0.007\n",
    "# probability_state_one_after_point1millisecond = np.e**(-t/T1) so T1 = -t/np.log(probability_state_one_after_point1millisecond)\n",
    "T1=-t/np.log(probability_state_one_after_point1millisecond)\n",
    "print(T1)"
   ]
  },
  {
   "cell_type": "code",
   "execution_count": null,
   "metadata": {},
   "outputs": [],
   "source": [
    "#Question 4:\n",
    "#I prefer B because it has less dedecoherence"
   ]
  },
  {
   "cell_type": "code",
   "execution_count": 42,
   "metadata": {},
   "outputs": [
    {
     "name": "stdout",
     "output_type": "stream",
     "text": [
      "10011\n"
     ]
    }
   ],
   "source": [
    "#Question 5:\n",
    "def measure_in_01_basis_new(state):\n",
    "    from random import random\n",
    "    n_qubits=int(log(state.shape[0],2))\n",
    "    probabilities=[(coeff*coeff.conjugate()).real for coeff in state.flat]\n",
    "    rand=random()\n",
    "    for idx,state_desc in enumerate([''.join(map(str,state_desc)) for state_desc in itertools.product([0, 1], repeat=n_qubits)]):\n",
    "        if rand < sum(probabilities[0:(idx+1)]):\n",
    "            #simply remove the '|\"%s\">'\n",
    "            return state_desc\n",
    "print(measure_in_01_basis_new(create_quantum_state([one_qubit,zero_qubit,zero_qubit,one_qubit,one_qubit])))\n"
   ]
  },
  {
   "cell_type": "code",
   "execution_count": 81,
   "metadata": {},
   "outputs": [
    {
     "name": "stdout",
     "output_type": "stream",
     "text": [
      "[matrix([[0],\n",
      "        [1]]), matrix([[0.70710678],\n",
      "        [0.70710678]]), matrix([[ 0.70710678],\n",
      "        [-0.70710678]]), matrix([[0],\n",
      "        [1]]), matrix([[0],\n",
      "        [1]])]\n",
      "|\"10011\">\n",
      "|\"10011\">\n",
      "|\"10011\">\n"
     ]
    }
   ],
   "source": [
    "def measure_in_01_basis(state):\n",
    "    from random import random\n",
    "    n_qubits=int(log(state.shape[0],2))\n",
    "    probabilities=[(coeff*coeff.conjugate()).real for coeff in state.flat]\n",
    "    rand=random()\n",
    "    for idx,state_desc in enumerate([''.join(map(str,state_desc)) for state_desc in itertools.product([0, 1], repeat=n_qubits)]):\n",
    "        if rand < sum(probabilities[0:(idx+1)]):\n",
    "            return '|\"%s\">' % state_desc\n",
    "\n",
    "\n",
    "#reference this part from Andrew\n",
    "class QuantumState():\n",
    "    def __init__(self, q):\n",
    "        self.state = create_quantum_state(q)\n",
    "        self._measurement = None\n",
    "        self.qubits = q\n",
    "    \n",
    "    def measure(self):\n",
    "        if self._measurement is None:\n",
    "            self._measurement = measure_in_01_basis(self.state)\n",
    "        return self._measurement\n",
    "\n",
    "#improve the measure function\n",
    "def measure_in_01_basis_same(qs):\n",
    "    from random import random\n",
    "    state = qs.state\n",
    "    n_qubits=int(log(state.shape[0],2))\n",
    "    probabilities=[(coeff*coeff.conjugate()).real for coeff in state.flat]\n",
    "    rand=random()\n",
    "    for idx,state_desc in enumerate([''.join(map(str,state_desc)) for state_desc in itertools.product([0, 1], repeat=n_qubits)]):\n",
    "        if rand < sum(probabilities[0:(idx+1)]):\n",
    "            return '|\"%s\">' % state_desc\n",
    "        \n",
    "\n",
    "a = QuantumState([one_qubit,plus_qubit,minus_qubit,one_qubit,one_qubit])\n",
    "\n",
    "print(measure_in_01_basis_same(a))\n",
    "print(measure_in_01_basis_same(a))\n",
    "print(measure_in_01_basis_same(a))\n"
   ]
  },
  {
   "cell_type": "code",
   "execution_count": null,
   "metadata": {},
   "outputs": [],
   "source": []
  }
 ],
 "metadata": {
  "kernelspec": {
   "display_name": "Python 3",
   "language": "python",
   "name": "python3"
  },
  "language_info": {
   "codemirror_mode": {
    "name": "ipython",
    "version": 3
   },
   "file_extension": ".py",
   "mimetype": "text/x-python",
   "name": "python",
   "nbconvert_exporter": "python",
   "pygments_lexer": "ipython3",
   "version": "3.6.6"
  }
 },
 "nbformat": 4,
 "nbformat_minor": 2
}
