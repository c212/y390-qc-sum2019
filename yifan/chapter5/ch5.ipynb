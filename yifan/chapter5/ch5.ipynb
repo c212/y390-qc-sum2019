{
 "cells": [
  {
   "cell_type": "code",
   "execution_count": 1,
   "metadata": {
    "scrolled": true
   },
   "outputs": [
    {
     "ename": "ModuleNotFoundError",
     "evalue": "No module named 'qiskit.compiler'",
     "output_type": "error",
     "traceback": [
      "\u001b[0;31m---------------------------------------------------------------------------\u001b[0m",
      "\u001b[0;31mModuleNotFoundError\u001b[0m                       Traceback (most recent call last)",
      "\u001b[0;32m<ipython-input-1-2affcf7fcbeb>\u001b[0m in \u001b[0;36m<module>\u001b[0;34m\u001b[0m\n\u001b[1;32m      1\u001b[0m \u001b[0mget_ipython\u001b[0m\u001b[0;34m(\u001b[0m\u001b[0;34m)\u001b[0m\u001b[0;34m.\u001b[0m\u001b[0mrun_line_magic\u001b[0m\u001b[0;34m(\u001b[0m\u001b[0;34m'matplotlib'\u001b[0m\u001b[0;34m,\u001b[0m \u001b[0;34m'inline'\u001b[0m\u001b[0;34m)\u001b[0m\u001b[0;34m\u001b[0m\u001b[0m\n\u001b[1;32m      2\u001b[0m \u001b[0;32mfrom\u001b[0m \u001b[0mqiskit\u001b[0m \u001b[0;32mimport\u001b[0m \u001b[0mQuantumCircuit\u001b[0m\u001b[0;34m,\u001b[0m \u001b[0mexecute\u001b[0m\u001b[0;34m,\u001b[0m \u001b[0mAer\u001b[0m\u001b[0;34m,\u001b[0m \u001b[0mIBMQ\u001b[0m\u001b[0;34m\u001b[0m\u001b[0m\n\u001b[0;32m----> 3\u001b[0;31m \u001b[0;32mfrom\u001b[0m \u001b[0mqiskit\u001b[0m\u001b[0;34m.\u001b[0m\u001b[0mcompiler\u001b[0m \u001b[0;32mimport\u001b[0m \u001b[0mtranspile\u001b[0m\u001b[0;34m,\u001b[0m \u001b[0massemble\u001b[0m\u001b[0;34m\u001b[0m\u001b[0m\n\u001b[0m\u001b[1;32m      4\u001b[0m \u001b[0;32mfrom\u001b[0m \u001b[0mqiskit\u001b[0m\u001b[0;34m.\u001b[0m\u001b[0mtools\u001b[0m\u001b[0;34m.\u001b[0m\u001b[0mjupyter\u001b[0m \u001b[0;32mimport\u001b[0m \u001b[0;34m*\u001b[0m\u001b[0;34m\u001b[0m\u001b[0m\n\u001b[1;32m      5\u001b[0m \u001b[0;32mfrom\u001b[0m \u001b[0mqiskit\u001b[0m\u001b[0;34m.\u001b[0m\u001b[0mvisualization\u001b[0m \u001b[0;32mimport\u001b[0m \u001b[0;34m*\u001b[0m\u001b[0;34m\u001b[0m\u001b[0m\n",
      "\u001b[0;31mModuleNotFoundError\u001b[0m: No module named 'qiskit.compiler'"
     ]
    }
   ],
   "source": [
    "%matplotlib inline\n",
    "from qiskit import QuantumCircuit, execute, Aer, IBMQ\n",
    "from qiskit.compiler import transpile, assemble\n",
    "from qiskit.tools.jupyter import *\n",
    "from qiskit.visualization import *\n",
    "import qiskit\n",
    "from qiskit import QuantumCircuit, ClassicalRegister, QuantumRegister, QISKitError\n",
    "IBMQ.load_accounts()\n",
    "#import packages"
   ]
  },
  {
   "cell_type": "code",
   "execution_count": 3,
   "metadata": {},
   "outputs": [
    {
     "data": {
      "text/html": [
       "<pre style=\"word-wrap: normal;white-space: pre;line-height: 15px;\">        ┌───┐┌───┐┌─────┐\n",
       "q_0: |0>┤ X ├┤ H ├┤ Sdg ├\n",
       "        └───┘└───┘└─────┘\n",
       "q_1: |0>─────────────────\n",
       "                         \n",
       "q_2: |0>─────────────────\n",
       "                         \n",
       "q_3: |0>─────────────────\n",
       "                         \n",
       "q_4: |0>─────────────────\n",
       "                         \n",
       " c_0: 0 ═════════════════\n",
       "                         \n",
       " c_1: 0 ═════════════════\n",
       "                         \n",
       " c_2: 0 ═════════════════\n",
       "                         \n",
       " c_3: 0 ═════════════════\n",
       "                         \n",
       " c_4: 0 ═════════════════\n",
       "                         </pre>"
      ],
      "text/plain": [
       "<qiskit.tools.visualization._text.TextDrawing at 0x7fad4089f1d0>"
      ]
     },
     "execution_count": 3,
     "metadata": {},
     "output_type": "execute_result"
    }
   ],
   "source": [
    "#Question 1 :\n",
    "#The code here, the picture in this folder.\n",
    "qasmCode = \"\"\"\n",
    "OPENQASM 2.0;\n",
    "include \"qelib1.inc\";\n",
    "\n",
    "qreg q[5];\n",
    "creg c[5];\n",
    "\n",
    "x q[0];\n",
    "h q[0];\n",
    "sdg q[0];\n",
    "\"\"\"\n",
    "qc = QuantumCircuit.from_qasm_str(qasmCode)\n",
    "qc.draw()\n"
   ]
  },
  {
   "cell_type": "code",
   "execution_count": 4,
   "metadata": {
    "scrolled": true
   },
   "outputs": [
    {
     "data": {
      "text/html": [
       "<pre style=\"word-wrap: normal;white-space: pre;line-height: 15px;\">        ┌───┐┌───┐┌─────┐┌─┐\n",
       "q_0: |0>┤ X ├┤ H ├┤ Sdg ├┤M├\n",
       "        └───┘└───┘└─────┘└╥┘\n",
       "q_1: |0>──────────────────╫─\n",
       "                          ║ \n",
       "q_2: |0>──────────────────╫─\n",
       "                          ║ \n",
       "q_3: |0>──────────────────╫─\n",
       "                          ║ \n",
       "q_4: |0>──────────────────╫─\n",
       "                          ║ \n",
       " c_0: 0 ══════════════════╩═\n",
       "                            \n",
       " c_1: 0 ════════════════════\n",
       "                            \n",
       " c_2: 0 ════════════════════\n",
       "                            \n",
       " c_3: 0 ════════════════════\n",
       "                            \n",
       " c_4: 0 ════════════════════\n",
       "                            </pre>"
      ],
      "text/plain": [
       "<qiskit.tools.visualization._text.TextDrawing at 0x7fad405752b0>"
      ]
     },
     "execution_count": 4,
     "metadata": {},
     "output_type": "execute_result"
    }
   ],
   "source": [
    "#Question 2 :\n",
    "#The code here, the picture in this folder.\n",
    "qasmCode = \"\"\"\n",
    "OPENQASM 2.0;\n",
    "include \"qelib1.inc\";\n",
    "\n",
    "qreg q[5];\n",
    "creg c[5];\n",
    "\n",
    "x q[0];\n",
    "h q[0];\n",
    "sdg q[0];\n",
    "measure q[0] -> c[0];\n",
    "\"\"\"\n",
    "qc = QuantumCircuit.from_qasm_str(qasmCode)\n",
    "qc.draw()\n"
   ]
  },
  {
   "cell_type": "code",
   "execution_count": null,
   "metadata": {},
   "outputs": [],
   "source": [
    "#Question 3:\n",
    "#qubits: q0 - q4; \n",
    "#classic bits: c0 - c4\n"
   ]
  },
  {
   "cell_type": "code",
   "execution_count": null,
   "metadata": {},
   "outputs": [],
   "source": [
    "#Q4\n",
    "#code from book, drawing XH|\"0\">\n",
    "qr = QuantumRegister(1)\n",
    "circuit = QuantumCircuit(qr)\n",
    "circuit.h(qr[0])\n",
    "circuit.x(qr[0])\n",
    "circuit.draw()\n",
    "\n",
    "#my circuit1 in python code:\n",
    "circuit1 = QuantumCircuit(qre)\n",
    "circuit1.measure(qr[0], cr[0])\n",
    "circuit1.sdg(qr[0])\n",
    "circuit1.h(qr[0])\n",
    "circuit1.x(qr[0])"
   ]
  },
  {
   "cell_type": "code",
   "execution_count": null,
   "metadata": {},
   "outputs": [],
   "source": [
    "#Q5\n",
    "#This one is a complicated one. \n",
    "#If Andrew reverse the order of the code, his answer will be correct. reference from Andrew\n",
    "circuit.x(qr[0])\n",
    "circuit.h(qr[0])\n",
    "circuit.sdg(qr[0])\n",
    "circuit.cx(qr[0], qr[1])                          ###Reverse the order!\n",
    "circuit.measure(qr[0], cr[0])\n",
    "circuit.measure(qr[1], cr[1])"
   ]
  },
  {
   "cell_type": "code",
   "execution_count": null,
   "metadata": {},
   "outputs": [],
   "source": [
    "#Q6\n",
    "#STHHS†TZSYXX"
   ]
  },
  {
   "cell_type": "code",
   "execution_count": 9,
   "metadata": {},
   "outputs": [
    {
     "data": {
      "text/html": [
       "<pre style=\"word-wrap: normal;white-space: pre;line-height: 15px;\">             ┌───┐\n",
       "q_0: |0>──■──┤ H ├\n",
       "        ┌─┴─┐└───┘\n",
       "q_1: |0>┤ X ├─────\n",
       "        └───┘     \n",
       "q_2: |0>──────────\n",
       "                  \n",
       "q_3: |0>──────────\n",
       "                  \n",
       "q_4: |0>──────────\n",
       "                  \n",
       " c_0: 0 ══════════\n",
       "                  \n",
       " c_1: 0 ══════════\n",
       "                  \n",
       " c_2: 0 ══════════\n",
       "                  \n",
       " c_3: 0 ══════════\n",
       "                  \n",
       " c_4: 0 ══════════\n",
       "                  </pre>"
      ],
      "text/plain": [
       "<qiskit.tools.visualization._text.TextDrawing at 0x7fad2c4c8198>"
      ]
     },
     "execution_count": 9,
     "metadata": {},
     "output_type": "execute_result"
    }
   ],
   "source": [
    "#Q7\n",
    "\n",
    "qasmCode = \"\"\"\n",
    "OPENQASM 2.0;\n",
    "include \"qelib1.inc\";\n",
    "\n",
    "qreg q[5];\n",
    "creg c[5];\n",
    "\n",
    "cx q[0],q[1];\n",
    "h q[0];\n",
    "\"\"\"\n",
    "qc = QuantumCircuit.from_qasm_str(qasmCode)\n",
    "qc.draw()\n"
   ]
  },
  {
   "cell_type": "code",
   "execution_count": null,
   "metadata": {},
   "outputs": [],
   "source": [
    "#Q8 a file within the folder"
   ]
  }
 ],
 "metadata": {
  "kernelspec": {
   "display_name": "baozi",
   "language": "python",
   "name": "baozi"
  },
  "language_info": {
   "codemirror_mode": {
    "name": "ipython",
    "version": 3
   },
   "file_extension": ".py",
   "mimetype": "text/x-python",
   "name": "python",
   "nbconvert_exporter": "python",
   "pygments_lexer": "ipython3",
   "version": "3.6.6"
  }
 },
 "nbformat": 4,
 "nbformat_minor": 2
}
