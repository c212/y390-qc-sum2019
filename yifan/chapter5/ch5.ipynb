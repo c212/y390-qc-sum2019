{
 "cells": [
  {
   "cell_type": "code",
   "execution_count": 10,
   "metadata": {},
   "outputs": [],
   "source": [
    "%matplotlib inline\n",
    "import qiskit\n",
    "#from qiskit import QuantumCircuit, execute, Aer, IBMQ\n",
    "#from qiskit.compiler import transpile, assemble\n",
    "#from qiskit.tools.jupyter import *\n",
    "#from qiskit.visualization import *\n",
    "from qiskit import QuantumCircuit, ClassicalRegister, QuantumRegister, QISKitError\n",
    "#IBMQ.load_accounts()\n",
    "#import packages"
   ]
  },
  {
   "cell_type": "code",
   "execution_count": 3,
   "metadata": {},
   "outputs": [
    {
     "data": {
      "text/html": [
       "<pre style=\"word-wrap: normal;white-space: pre;line-height: 15px;\">        ┌───┐┌───┐┌─────┐\n",
       "q_0: |0>┤ X ├┤ H ├┤ Sdg ├\n",
       "        └───┘└───┘└─────┘\n",
       "q_1: |0>─────────────────\n",
       "                         \n",
       "q_2: |0>─────────────────\n",
       "                         \n",
       "q_3: |0>─────────────────\n",
       "                         \n",
       "q_4: |0>─────────────────\n",
       "                         \n",
       " c_0: 0 ═════════════════\n",
       "                         \n",
       " c_1: 0 ═════════════════\n",
       "                         \n",
       " c_2: 0 ═════════════════\n",
       "                         \n",
       " c_3: 0 ═════════════════\n",
       "                         \n",
       " c_4: 0 ═════════════════\n",
       "                         </pre>"
      ],
      "text/plain": [
       "<qiskit.tools.visualization._text.TextDrawing at 0x7fad4089f1d0>"
      ]
     },
     "execution_count": 3,
     "metadata": {},
     "output_type": "execute_result"
    }
   ],
   "source": [
    "#Question 1 :\n",
    "#The code here, the picture in this folder.\n",
    "qasmCode = \"\"\"\n",
    "OPENQASM 2.0;\n",
    "include \"qelib1.inc\";\n",
    "\n",
    "qreg q[5];\n",
    "creg c[5];\n",
    "\n",
    "x q[0];\n",
    "h q[0];\n",
    "sdg q[0];\n",
    "\"\"\"\n",
    "qc = QuantumCircuit.from_qasm_str(qasmCode)\n",
    "qc.draw()\n"
   ]
  },
  {
   "cell_type": "code",
   "execution_count": 4,
   "metadata": {
    "scrolled": true
   },
   "outputs": [
    {
     "data": {
      "text/html": [
       "<pre style=\"word-wrap: normal;white-space: pre;line-height: 15px;\">        ┌───┐┌───┐┌─────┐┌─┐\n",
       "q_0: |0>┤ X ├┤ H ├┤ Sdg ├┤M├\n",
       "        └───┘└───┘└─────┘└╥┘\n",
       "q_1: |0>──────────────────╫─\n",
       "                          ║ \n",
       "q_2: |0>──────────────────╫─\n",
       "                          ║ \n",
       "q_3: |0>──────────────────╫─\n",
       "                          ║ \n",
       "q_4: |0>──────────────────╫─\n",
       "                          ║ \n",
       " c_0: 0 ══════════════════╩═\n",
       "                            \n",
       " c_1: 0 ════════════════════\n",
       "                            \n",
       " c_2: 0 ════════════════════\n",
       "                            \n",
       " c_3: 0 ════════════════════\n",
       "                            \n",
       " c_4: 0 ════════════════════\n",
       "                            </pre>"
      ],
      "text/plain": [
       "<qiskit.tools.visualization._text.TextDrawing at 0x7fad405752b0>"
      ]
     },
     "execution_count": 4,
     "metadata": {},
     "output_type": "execute_result"
    }
   ],
   "source": [
    "#Question 2 :\n",
    "#The code here, the picture in this folder.\n",
    "qasmCode = \"\"\"\n",
    "OPENQASM 2.0;\n",
    "include \"qelib1.inc\";\n",
    "\n",
    "qreg q[5];\n",
    "creg c[5];\n",
    "\n",
    "x q[0];\n",
    "h q[0];\n",
    "sdg q[0];\n",
    "measure q[0] -> c[0];\n",
    "\"\"\"\n",
    "qc = QuantumCircuit.from_qasm_str(qasmCode)\n",
    "qc.draw()\n"
   ]
  },
  {
   "cell_type": "code",
   "execution_count": 21,
   "metadata": {},
   "outputs": [],
   "source": [
    "#Question 3:\n",
    "#qubits: q0 - q4; \n",
    "#classic bits: c0 - c4"
   ]
  },
  {
   "cell_type": "code",
   "execution_count": 37,
   "metadata": {
    "scrolled": false
   },
   "outputs": [
    {
     "data": {
      "text/html": [
       "<pre style=\"word-wrap: normal;white-space: pre;line-height: 15px;\">          ┌───┐┌───┐┌─────┐┌─┐\n",
       "q28_0: |0>┤ X ├┤ H ├┤ Sdg ├┤M├\n",
       "          └───┘└───┘└─────┘└╥┘\n",
       " c18_0: 0 ══════════════════╩═\n",
       "                              </pre>"
      ],
      "text/plain": [
       "<qiskit.tools.visualization._text.TextDrawing at 0x7fad2c3ecd68>"
      ]
     },
     "execution_count": 37,
     "metadata": {},
     "output_type": "execute_result"
    }
   ],
   "source": [
    "#Q4\n",
    "#code from book, drawing XH|\"0\">\n",
    "qr = QuantumRegister(1)\n",
    "circuit = QuantumCircuit(qr)\n",
    "circuit.h(qr[0])\n",
    "circuit.x(qr[0])\n",
    "circuit.draw()\n",
    "\n",
    "#my circuit1 in python code:\n",
    "classicalR = ClassicalRegister(1)\n",
    "circuit1 = qiskit.QuantumCircuit(qr , classicalR)\n",
    "circuit1.x(qr[0])\n",
    "circuit1.h(qr[0])\n",
    "circuit1.sdg(qr[0])\n",
    "circuit1.measure(qr[0], classicalR[0])\n",
    "\n",
    "circuit1.draw()"
   ]
  },
  {
   "cell_type": "code",
   "execution_count": 38,
   "metadata": {},
   "outputs": [],
   "source": [
    "#Q5\n",
    "#This one is a complicated one. \n",
    "#I would reference Andrew's answer for this one.\n"
   ]
  },
  {
   "cell_type": "code",
   "execution_count": null,
   "metadata": {},
   "outputs": [],
   "source": [
    "#Q6\n",
    "#STHHS†TZSYXX"
   ]
  },
  {
   "cell_type": "code",
   "execution_count": 9,
   "metadata": {},
   "outputs": [
    {
     "data": {
      "text/html": [
       "<pre style=\"word-wrap: normal;white-space: pre;line-height: 15px;\">             ┌───┐\n",
       "q_0: |0>──■──┤ H ├\n",
       "        ┌─┴─┐└───┘\n",
       "q_1: |0>┤ X ├─────\n",
       "        └───┘     \n",
       "q_2: |0>──────────\n",
       "                  \n",
       "q_3: |0>──────────\n",
       "                  \n",
       "q_4: |0>──────────\n",
       "                  \n",
       " c_0: 0 ══════════\n",
       "                  \n",
       " c_1: 0 ══════════\n",
       "                  \n",
       " c_2: 0 ══════════\n",
       "                  \n",
       " c_3: 0 ══════════\n",
       "                  \n",
       " c_4: 0 ══════════\n",
       "                  </pre>"
      ],
      "text/plain": [
       "<qiskit.tools.visualization._text.TextDrawing at 0x7fad2c4c8198>"
      ]
     },
     "execution_count": 9,
     "metadata": {},
     "output_type": "execute_result"
    }
   ],
   "source": [
    "#Q7\n",
    "\n",
    "qasmCode = \"\"\"\n",
    "OPENQASM 2.0;\n",
    "include \"qelib1.inc\";\n",
    "\n",
    "qreg q[5];\n",
    "creg c[5];\n",
    "\n",
    "cx q[0],q[1];\n",
    "h q[0];\n",
    "\"\"\"\n",
    "qc = QuantumCircuit.from_qasm_str(qasmCode)\n",
    "qc.draw()\n"
   ]
  },
  {
   "cell_type": "code",
   "execution_count": null,
   "metadata": {},
   "outputs": [],
   "source": [
    "#Q8 a file within the folder"
   ]
  }
 ],
 "metadata": {
  "kernelspec": {
   "display_name": "baozi",
   "language": "python",
   "name": "baozi"
  },
  "language_info": {
   "codemirror_mode": {
    "name": "ipython",
    "version": 3
   },
   "file_extension": ".py",
   "mimetype": "text/x-python",
   "name": "python",
   "nbconvert_exporter": "python",
   "pygments_lexer": "ipython3",
   "version": "3.6.6"
  }
 },
 "nbformat": 4,
 "nbformat_minor": 2
}
