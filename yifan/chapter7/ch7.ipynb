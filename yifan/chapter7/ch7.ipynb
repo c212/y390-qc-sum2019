{
 "cells": [
  {
   "cell_type": "code",
   "execution_count": 14,
   "metadata": {},
   "outputs": [],
   "source": [
    "%matplotlib inline\n",
    "import qiskit\n",
    "from qiskit import QuantumCircuit, execute, Aer, IBMQ\n",
    "#from qiskit.compiler import transpile, assemble\n",
    "#from qiskit.tools.jupyter import *\n",
    "#from qiskit.visualization import *\n",
    "from qiskit import QuantumCircuit, ClassicalRegister, QuantumRegister, QISKitError\n",
    "#IBMQ.load_accounts()\n",
    "#import packages\n"
   ]
  },
  {
   "cell_type": "code",
   "execution_count": 15,
   "metadata": {},
   "outputs": [
    {
     "data": {
      "text/html": [
       "<pre style=\"word-wrap: normal;white-space: pre;line-height: 15px;\">                                                 \n",
       "q_0: |0>─────────────────────────────────────────\n",
       "                                                 \n",
       "q_1: |0>─────────────────────────────────────────\n",
       "                                                 \n",
       "q_2: |0>─────────────────────────────────────────\n",
       "                  ┌───┐     ┌───┐          ┌─┐   \n",
       "q_3: |0>──────────┤ H ├──■──┤ H ├───────■──┤M├───\n",
       "        ┌───┐┌───┐└───┘┌─┴─┐└───┘┌───┐┌─┴─┐└╥┘┌─┐\n",
       "q_4: |0>┤ X ├┤ H ├─────┤ X ├─────┤ H ├┤ X ├─╫─┤M├\n",
       "        └───┘└───┘     └───┘     └───┘└───┘ ║ └╥┘\n",
       " c_0: 0 ════════════════════════════════════╬══╬═\n",
       "                                            ║  ║ \n",
       " c_1: 0 ════════════════════════════════════╬══╬═\n",
       "                                            ║  ║ \n",
       " c_2: 0 ════════════════════════════════════╬══╬═\n",
       "                                            ║  ║ \n",
       " c_3: 0 ════════════════════════════════════╩══╬═\n",
       "                                               ║ \n",
       " c_4: 0 ═══════════════════════════════════════╩═\n",
       "                                                 </pre>"
      ],
      "text/plain": [
       "<qiskit.tools.visualization._text.TextDrawing at 0x7f9a1caf2d30>"
      ]
     },
     "execution_count": 15,
     "metadata": {},
     "output_type": "execute_result"
    }
   ],
   "source": [
    "#Question 1 :\n",
    "#The code here, the picture in this folder.\n",
    "qasmCode = \"\"\"\n",
    "OPENQASM 2.0;\n",
    "include \"qelib1.inc\";\n",
    "qreg q[5];\n",
    "creg c[5];\n",
    "x q[4];\n",
    "h q[3];\n",
    "h q[4];\n",
    "cx q[3],q[4];\n",
    "h q[3];\n",
    "h q[4];\n",
    "cx q[3],q[4];\n",
    "measure q[3] -> c[3];\n",
    "measure q[4] -> c[4];\n",
    "\"\"\"\n",
    "qc = QuantumCircuit.from_qasm_str(qasmCode)\n",
    "qc.draw()\n"
   ]
  },
  {
   "cell_type": "code",
   "execution_count": 16,
   "metadata": {
    "scrolled": true
   },
   "outputs": [
    {
     "data": {
      "text/html": [
       "<pre style=\"word-wrap: normal;white-space: pre;line-height: 15px;\">                                                 \n",
       "q_0: |0>─────────────────────────────────────────\n",
       "                                                 \n",
       "q_1: |0>─────────────────────────────────────────\n",
       "                                                 \n",
       "q_2: |0>─────────────────────────────────────────\n",
       "                  ┌───┐     ┌───┐             ┌─┐\n",
       "q_3: |0>──────────┤ H ├──■──┤ H ├───────■─────┤M├\n",
       "        ┌───┐┌───┐└───┘┌─┴─┐└───┘┌───┐┌─┴─┐┌─┐└╥┘\n",
       "q_4: |0>┤ X ├┤ H ├─────┤ X ├─────┤ H ├┤ X ├┤M├─╫─\n",
       "        └───┘└───┘     └───┘     └───┘└───┘└╥┘ ║ \n",
       " c_0: 0 ════════════════════════════════════╬══╬═\n",
       "                                            ║  ║ \n",
       " c_1: 0 ════════════════════════════════════╬══╬═\n",
       "                                            ║  ║ \n",
       " c_2: 0 ════════════════════════════════════╬══╬═\n",
       "                                            ║  ║ \n",
       " c_3: 0 ════════════════════════════════════╬══╩═\n",
       "                                            ║    \n",
       " c_4: 0 ════════════════════════════════════╩════\n",
       "                                                 </pre>"
      ],
      "text/plain": [
       "<qiskit.tools.visualization._text.TextDrawing at 0x7f9a1ca74f60>"
      ]
     },
     "execution_count": 16,
     "metadata": {},
     "output_type": "execute_result"
    }
   ],
   "source": [
    "#Question 2 :\n",
    "#The code here, the picture in this folder.\n",
    "qasmCode = \"\"\"\n",
    "OPENQASM 2.0;\n",
    "include \"qelib1.inc\";\n",
    "\n",
    "qreg q[5];\n",
    "creg c[5];\n",
    "\n",
    "x q[4];\n",
    "h q[4];\n",
    "h q[3];\n",
    "cx q[3],q[4];\n",
    "h q[3];\n",
    "h q[4];\n",
    "cx q[3],q[4];\n",
    "measure q[4] -> c[4];\n",
    "measure q[3] -> c[3];\n",
    "\"\"\"\n",
    "qc = QuantumCircuit.from_qasm_str(qasmCode)\n",
    "qc.draw()\n"
   ]
  },
  {
   "cell_type": "code",
   "execution_count": null,
   "metadata": {},
   "outputs": [],
   "source": [
    "#Q3\n",
    "#I include 2 result pictures within the folder\n",
    "#clearly we can see of third is |\"1\">, nearly 50% to be 0 and 50% to be 1\n",
    "#if third is |\"0\">, almost 100% (93% actually) will be 0."
   ]
  },
  {
   "cell_type": "code",
   "execution_count": 21,
   "metadata": {},
   "outputs": [
    {
     "data": {
      "text/html": [
       "<pre style=\"word-wrap: normal;white-space: pre;line-height: 15px;\">        ┌───┐┌───┐┌───┐┌───┐┌───┐┌───┐┌───┐┌─────┐┌─────┐┌───┐┌───┐┌───┐\n",
       "q_0: |0>┤ X ├┤ Y ├┤ Z ├┤ S ├┤ T ├┤ H ├┤ H ├┤ Tdg ├┤ Sdg ├┤ Z ├┤ Y ├┤ X ├\n",
       "        └───┘└───┘└───┘└───┘└───┘└───┘└───┘└─────┘└─────┘└───┘└───┘└───┘\n",
       " c_0: 0 ════════════════════════════════════════════════════════════════\n",
       "                                                                        </pre>"
      ],
      "text/plain": [
       "<qiskit.tools.visualization._text.TextDrawing at 0x7f9a1ca7cdd8>"
      ]
     },
     "execution_count": 21,
     "metadata": {},
     "output_type": "execute_result"
    }
   ],
   "source": [
    "#Q4\n",
    "#this one is similar to a question from last unit\n",
    "qasmCode = \"\"\"\n",
    "OPENQASM 2.0;\n",
    "include \"qelib1.inc\";\n",
    "\n",
    "qreg q[1];\n",
    "creg c[1];\n",
    "\n",
    "x q[0];\n",
    "y q[0];\n",
    "z q[0];\n",
    "s q[0];\n",
    "t q[0];\n",
    "h q[0];\n",
    "h q[0];\n",
    "tdg q[0];\n",
    "sdg q[0];\n",
    "z q[0];\n",
    "y q[0];\n",
    "x q[0];\n",
    "\"\"\"\n",
    "qc = QuantumCircuit.from_qasm_str(qasmCode)\n",
    "qc.draw()\n"
   ]
  },
  {
   "cell_type": "code",
   "execution_count": 19,
   "metadata": {},
   "outputs": [
    {
     "data": {
      "text/html": [
       "<pre style=\"word-wrap: normal;white-space: pre;line-height: 15px;\">                                                                           »\n",
       "q_0: |0>───────────────────────────────────────────────────────────────────»\n",
       "                                                                 ┌───┐┌───┐»\n",
       "q_1: |0>─────────────────────────────────────────────────────────┤ H ├┤ Z ├»\n",
       "                                             ┌───┐┌───┐          └───┘└───┘»\n",
       "q_2: |0>─────────────────────────────────────┤ X ├┤ X ├────────────────────»\n",
       "                             ┌───┐┌────┐┌───┐└─┬─┘└─┬─┘┌───┐               »\n",
       "q_3: |0>─────────────────────┤ H ├┤ Id ├┤ H ├──┼────■──┤ H ├───────────────»\n",
       "        ┌───┐┌───┐┌────┐┌───┐└───┘└────┘└───┘  │       └───┘┌───┐          »\n",
       "q_4: |0>┤ H ├┤ Z ├┤ Id ├┤ H ├──────────────────■────────────┤ H ├──────────»\n",
       "        └───┘└───┘└────┘└───┘                               └───┘          »\n",
       " c_0: 0 ═══════════════════════════════════════════════════════════════════»\n",
       "                                                                           »\n",
       "«                ┌───┐┌────┐┌───┐                  ┌───┐\n",
       "«q_0: ───────────┤ H ├┤ Id ├┤ H ├──■───────────────┤ H ├\n",
       "«     ┌────┐┌───┐└───┘└────┘└───┘  │       ┌───┐   └───┘\n",
       "«q_1: ┤ Id ├┤ H ├──────────────────┼────■──┤ H ├────────\n",
       "«     └────┘└───┘                ┌─┴─┐┌─┴─┐└───┘┌─┐     \n",
       "«q_2: ───────────────────────────┤ X ├┤ X ├─────┤M├─────\n",
       "«                                └───┘└───┘     └╥┘     \n",
       "«q_3: ───────────────────────────────────────────╫──────\n",
       "«                                                ║      \n",
       "«q_4: ───────────────────────────────────────────╫──────\n",
       "«                                                ║      \n",
       "«c_0: ═══════════════════════════════════════════╩══════\n",
       "«                                                       </pre>"
      ],
      "text/plain": [
       "<qiskit.tools.visualization._text.TextDrawing at 0x7f9a1c814da0>"
      ]
     },
     "execution_count": 19,
     "metadata": {},
     "output_type": "execute_result"
    }
   ],
   "source": [
    "#Q5\n",
    "#The code here, the picture in this folder.\n",
    "qasmCode = \"\"\"\n",
    "OPENQASM 2.0;\n",
    "include \"qelib1.inc\";\n",
    "qreg q[5];\n",
    "creg c[1];\n",
    "h q[0];\n",
    "h q[1];\n",
    "h q[3];\n",
    "h q[4];\n",
    "z q[1];\n",
    "z q[4];\n",
    "id q[0];\n",
    "id q[1];\n",
    "id q[3];\n",
    "id q[4];\n",
    "h q[0];\n",
    "h q[1];\n",
    "h q[3];\n",
    "h q[4];\n",
    "cx q[4], q[2];\n",
    "cx q[3], q[2];\n",
    "cx q[0], q[2];\n",
    "cx q[1], q[2];\n",
    "h q[0];\n",
    "h q[1];\n",
    "h q[3];\n",
    "h q[4];\n",
    "measure q[2] -> c[0];\n",
    "\"\"\"\n",
    "qc = QuantumCircuit.from_qasm_str(qasmCode)\n",
    "qc.draw()\n"
   ]
  },
  {
   "cell_type": "code",
   "execution_count": 22,
   "metadata": {},
   "outputs": [
    {
     "data": {
      "text/html": [
       "<pre style=\"word-wrap: normal;white-space: pre;line-height: 15px;\">                                    ┌───┐                                     »\n",
       "q_0: |0>────────────────────────────┤ X ├──■─────────────────────■────────────»\n",
       "                   ┌───┐            └───┘  │                     │            »\n",
       "q_1: |0>───────────┤ X ├──■────────────────┼─────────■───────────┼────────────»\n",
       "        ┌────┐┌───┐└───┘┌─┴─┐┌─────┐     ┌─┴─┐┌───┐┌─┴─┐┌─────┐┌─┴─┐┌───┐┌───┐»\n",
       "q_2: |0>┤ Id ├┤ H ├─────┤ X ├┤ Tdg ├─────┤ X ├┤ T ├┤ X ├┤ Tdg ├┤ X ├┤ T ├┤ H ├»\n",
       "        └────┘└───┘     └───┘└─────┘     └───┘└───┘└───┘└─────┘└───┘└───┘└───┘»\n",
       "q_3: |0>──────────────────────────────────────────────────────────────────────»\n",
       "                                                                              »\n",
       "q_4: |0>──────────────────────────────────────────────────────────────────────»\n",
       "                                                                              »\n",
       " c_0: 0 ══════════════════════════════════════════════════════════════════════»\n",
       "                                                                              »\n",
       " c_1: 0 ══════════════════════════════════════════════════════════════════════»\n",
       "                                                                              »\n",
       " c_2: 0 ══════════════════════════════════════════════════════════════════════»\n",
       "                                                                              »\n",
       " c_3: 0 ══════════════════════════════════════════════════════════════════════»\n",
       "                                                                              »\n",
       " c_4: 0 ══════════════════════════════════════════════════════════════════════»\n",
       "                                                                              »\n",
       "«                                                  ┌───┐            ┌─┐      \n",
       "«q_0: ──────────────────────────────────────────■──┤ T ├─────────■──┤M├──────\n",
       "«     ┌───┐     ┌───┐          ┌───┐            │  └───┘         │  └╥┘   ┌─┐\n",
       "«q_1: ┤ T ├──■──┤ H ├───────■──┤ H ├───────■────┼────────────────┼───╫────┤M├\n",
       "«     └───┘┌─┴─┐└───┘┌───┐┌─┴─┐└───┘┌───┐┌─┴─┐┌─┴─┐     ┌─────┐┌─┴─┐ ║ ┌─┐└╥┘\n",
       "«q_2: ─────┤ X ├─────┤ H ├┤ X ├─────┤ H ├┤ X ├┤ X ├─────┤ Tdg ├┤ X ├─╫─┤M├─╫─\n",
       "«          └───┘     └───┘└───┘     └───┘└───┘└───┘     └─────┘└───┘ ║ └╥┘ ║ \n",
       "«q_3: ───────────────────────────────────────────────────────────────╫──╫──╫─\n",
       "«                                                                    ║  ║  ║ \n",
       "«q_4: ───────────────────────────────────────────────────────────────╫──╫──╫─\n",
       "«                                                                    ║  ║  ║ \n",
       "«c_0: ═══════════════════════════════════════════════════════════════╩══╬══╬═\n",
       "«                                                                       ║  ║ \n",
       "«c_1: ══════════════════════════════════════════════════════════════════╬══╩═\n",
       "«                                                                       ║    \n",
       "«c_2: ══════════════════════════════════════════════════════════════════╩════\n",
       "«                                                                            \n",
       "«c_3: ═══════════════════════════════════════════════════════════════════════\n",
       "«                                                                            \n",
       "«c_4: ═══════════════════════════════════════════════════════════════════════\n",
       "«                                                                            </pre>"
      ],
      "text/plain": [
       "<qiskit.tools.visualization._text.TextDrawing at 0x7f9a1c82e9b0>"
      ]
     },
     "execution_count": 22,
     "metadata": {},
     "output_type": "execute_result"
    }
   ],
   "source": [
    "#Q6\n",
    "#The code here, the picture in this folder.\n",
    "qasmCode = \"\"\"\n",
    "OPENQASM 2.0;\n",
    "include \"qelib1.inc\";\n",
    "qreg q[5];\n",
    "creg c[5];\n",
    "x q[0];\n",
    "x q[1];\n",
    "id q[2];\n",
    "h q[2];\n",
    "cx q[1],q[2];\n",
    "tdg q[2];\n",
    "cx q[0],q[2];\n",
    "t q[2];\n",
    "cx q[1],q[2];\n",
    "tdg q[2];\n",
    "cx q[0],q[2];\n",
    "t q[1];\n",
    "t q[2];\n",
    "h q[2];\n",
    "cx q[1],q[2];\n",
    "h q[1];\n",
    "h q[2];\n",
    "cx q[1],q[2];\n",
    "h q[1];\n",
    "h q[2];\n",
    "cx q[1],q[2];\n",
    "cx q[0],q[2];\n",
    "t q[0];\n",
    "tdg q[2];\n",
    "cx q[0],q[2];\n",
    "measure q[0] -> c[0];\n",
    "measure q[1] -> c[1];\n",
    "measure q[2] -> c[2];\n",
    "\"\"\"\n",
    "qc = QuantumCircuit.from_qasm_str(qasmCode)\n",
    "qc.draw()\n"
   ]
  },
  {
   "cell_type": "code",
   "execution_count": null,
   "metadata": {},
   "outputs": [],
   "source": []
  }
 ],
 "metadata": {
  "kernelspec": {
   "display_name": "baozi",
   "language": "python",
   "name": "baozi"
  },
  "language_info": {
   "codemirror_mode": {
    "name": "ipython",
    "version": 3
   },
   "file_extension": ".py",
   "mimetype": "text/x-python",
   "name": "python",
   "nbconvert_exporter": "python",
   "pygments_lexer": "ipython3",
   "version": "3.6.6"
  }
 },
 "nbformat": 4,
 "nbformat_minor": 2
}
