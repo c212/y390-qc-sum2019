{
 "cells": [
  {
   "cell_type": "code",
   "execution_count": 5,
   "metadata": {},
   "outputs": [
    {
     "ename": "SyntaxError",
     "evalue": "invalid syntax (<ipython-input-5-6697bbe2ca99>, line 12)",
     "traceback": [
      "\u001b[0;36m  File \u001b[0;32m\"<ipython-input-5-6697bbe2ca99>\"\u001b[0;36m, line \u001b[0;32m12\u001b[0m\n\u001b[0;31m    OPENQASM 2.0;\u001b[0m\n\u001b[0m               ^\u001b[0m\n\u001b[0;31mSyntaxError\u001b[0m\u001b[0;31m:\u001b[0m invalid syntax\n"
     ],
     "output_type": "error"
    }
   ],
   "source": [
    "#Question 1 :\n",
    "#The code here, the picture in this folder.\n",
    "OPENQASM 2.0;\n",
    "include \"qelib1.inc\";\n",
    "\n",
    "qreg q[5];\n",
    "creg c[5];\n",
    "\n",
    "h q[0];\n",
    "cx q[0],q[1];\n",
    "measure q[0] -> c[0];\n",
    "measure q[1] -> c[1];"
   ]
  },
  {
   "cell_type": "code",
   "execution_count": null,
   "metadata": {},
   "outputs": [],
   "source": [
    "#Question 2:\n",
    "#The result will be 00."
   ]
  },
  {
   "cell_type": "code",
   "execution_count": null,
   "metadata": {},
   "outputs": [],
   "source": [
    "#Question 3:\n",
    "#I tried to run it but it shows pending result for a long time. There must be somewhere \n",
    "#that went wrong. I am going  to fix it soon."
   ]
  },
  {
   "cell_type": "code",
   "execution_count": null,
   "metadata": {},
   "outputs": [],
   "source": [
    "#Question 4:\n",
    "#It should lie inside the globe: not on the surface.sss"
   ]
  }
 ],
 "metadata": {
  "kernelspec": {
   "display_name": "baozi",
   "language": "python",
   "name": "baozi"
  },
  "language_info": {
   "codemirror_mode": {
    "name": "ipython",
    "version": 3
   },
   "file_extension": ".py",
   "mimetype": "text/x-python",
   "name": "python",
   "nbconvert_exporter": "python",
   "pygments_lexer": "ipython3",
   "version": "3.6.6"
  }
 },
 "nbformat": 4,
 "nbformat_minor": 2
}
