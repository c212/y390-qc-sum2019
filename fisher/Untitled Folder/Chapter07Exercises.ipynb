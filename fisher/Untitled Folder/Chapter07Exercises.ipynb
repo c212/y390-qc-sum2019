{
 "cells": [
  {
   "cell_type": "markdown",
   "metadata": {},
   "source": [
    "1. Translate the following OpenQASM program into a quantum score:\n",
    "OPENQASM 2.0;\n",
    "include \"qelib1.inc\";\n",
    "qreg q[5];\n",
    "creg c[5];\n",
    "x q[4];\n",
    "h q[3];\n",
    "h q[4];\n",
    "cx q[3],q[4];\n",
    "h q[3];\n",
    "h q[4];\n",
    "cx q[3],q[4];\n",
    "measure q[3] -> c[3];\n",
    "measure q[4] -> c[4];"
   ]
  },
  {
   "cell_type": "markdown",
   "metadata": {},
   "source": [
    "<img src = \"ch07q1.png\">"
   ]
  },
  {
   "cell_type": "markdown",
   "metadata": {},
   "source": [
    "2. Translate the following quantum score to an OpenQASM program:"
   ]
  },
  {
   "cell_type": "code",
   "execution_count": null,
   "metadata": {},
   "outputs": [],
   "source": [
    "\"\"\"OPENQASM 2.0;\n",
    "include \"qelib1.inc\";\n",
    "qreg q[5];\n",
    "creg c[5];\n",
    "\n",
    "x q[4];\n",
    "h q[3];\n",
    "h q[4];\n",
    "cx q[3],q[4];\n",
    "h q[3];\n",
    "h q[4];\n",
    "cx q[3], q[4];\n",
    "measure q[4] -> c[4];\n",
    "measure q[3] -> c[3];\"\"\""
   ]
  },
  {
   "cell_type": "markdown",
   "metadata": {},
   "source": [
    "3. Challenge problem: run the following OpenQASM program on IBM QX twice in\n",
    "the simulator, once with the third q[2] qubit initialized to |\"1\">, as in the\n",
    "following example code, and once with the third qubit initialized to |\"0\"> (hint:\n",
    "remove the x q[2]; line to do this). Make sure to set the parameters of the\n",
    "simulator, or of the experiment, to do as many shots as possible to get as close to\n",
    "the theoretical result as possible. What does the program return? What is its\n",
    "purpose? Refer to the following OpenQASM code:\n",
    "include \"qelib1.inc\";\n",
    "qreg q[5];\n",
    "creg c[5];\n",
    "x q[2];\n",
    "h q[1];\n",
    "sdg q[1];\n",
    "cx q[2],q[1];\n",
    "h q[1];\n",
    "t q[1];\n",
    "cx q[2],q[1];\n",
    "t q[1];\n",
    "h q[1];\n",
    "s q[1];\n",
    "x q[1];\n",
    "s q[2];\n",
    "measure q[1] -> c[1];"
   ]
  },
  {
   "cell_type": "code",
   "execution_count": null,
   "metadata": {},
   "outputs": [],
   "source": [
    "#the first run gives 00000 and 000010 with roughly equal probability. That means this circuit can be reduced to\n",
    "#an H gate on q[1]\n",
    "#the second run gives 92.6% 00000 and 7.4% 00010. I think this circuit is equivalent to measuring five |\"0\"> qubits with decoherence\n",
    "#since even though q[1] is the target of two cx gates, q[2] is |\"0\"> so it should not affect the computation. "
   ]
  },
  {
   "cell_type": "markdown",
   "metadata": {},
   "source": [
    "4. Implement the XYZS†T†HHTSZY X |\"0\"〉 circuit in OpenQASM."
   ]
  },
  {
   "cell_type": "code",
   "execution_count": null,
   "metadata": {},
   "outputs": [],
   "source": [
    "\"\"\"OPENQASM 2.0;\n",
    "include \"qelib1.inc\";\n",
    "qreg q[1];\n",
    "creg c[1];\n",
    "\n",
    "x q[0];\n",
    "y q[0];\n",
    "z q[0];\n",
    "s q[0];\n",
    "t q[0];\n",
    "h q[0];\n",
    "h q[0];\n",
    "tdg q[0];\n",
    "sdg q[0];\n",
    "z q[0];\n",
    "y q[0];\n",
    "x q[0];\"\"\""
   ]
  },
  {
   "cell_type": "markdown",
   "metadata": {},
   "source": [
    "5. Translate the following circuit to OpenQASM:"
   ]
  },
  {
   "cell_type": "code",
   "execution_count": null,
   "metadata": {},
   "outputs": [],
   "source": [
    "\"\"\"OPENQASM 2.0;\n",
    "include \"qelib1.inc\";\n",
    "qreg q[5];\n",
    "creg c[5];\n",
    "\n",
    "h q[0];\n",
    "h q[1];\n",
    "h q[3];\n",
    "h q[4];\n",
    "\n",
    "z q[1];\n",
    "z q[4];\n",
    "\n",
    "id q[0];\n",
    "id q[1];\n",
    "\n",
    "id q[3];\n",
    "id q[4];\n",
    "\n",
    "cx q[4], q[2];\n",
    "cx q[3], q[2];\n",
    "cx q[0], q[2];\n",
    "cx q[1], q[2];\n",
    "\n",
    "h q[0];\n",
    "h q[1];\n",
    "h q[3];\n",
    "h q[4];\n",
    "\n",
    "measure q[2] -> c[2];\n",
    "\n",
    "\"\"\""
   ]
  },
  {
   "cell_type": "markdown",
   "metadata": {},
   "source": [
    "6. Draw the quantum score that corresponds to the following OpenQASM program:"
   ]
  },
  {
   "cell_type": "markdown",
   "metadata": {},
   "source": [
    "<img src = \"ch07q6.png\">"
   ]
  },
  {
   "cell_type": "code",
   "execution_count": null,
   "metadata": {},
   "outputs": [],
   "source": []
  }
 ],
 "metadata": {
  "kernelspec": {
   "display_name": "bookkernel",
   "language": "python",
   "name": "bookkernel"
  },
  "language_info": {
   "codemirror_mode": {
    "name": "ipython",
    "version": 3
   },
   "file_extension": ".py",
   "mimetype": "text/x-python",
   "name": "python",
   "nbconvert_exporter": "python",
   "pygments_lexer": "ipython3",
   "version": "3.6.6"
  }
 },
 "nbformat": 4,
 "nbformat_minor": 2
}
