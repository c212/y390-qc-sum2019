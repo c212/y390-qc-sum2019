{
 "cells": [
  {
   "cell_type": "markdown",
   "metadata": {},
   "source": [
    " 1. Run Grover's algorithm using different iteration numbers to solve\n",
    "3sat_mystery(a,b,c). What happens when we use only one iteration? Zero\n",
    "iterations? More than the recommended number?"
   ]
  },
  {
   "cell_type": "code",
   "execution_count": null,
   "metadata": {},
   "outputs": [],
   "source": [
    "#we get the same answer but with less certainty\n",
    "#result appears to be random\n",
    "#we get the same answer but with far less certainty"
   ]
  },
  {
   "cell_type": "markdown",
   "metadata": {},
   "source": [
    "2. Switch variables b and c in the 3sat_mystery(a,b,c) function to create a new\n",
    "mystery function. What result do you expect? Verify that you get this result\n",
    "classically, and that Grover's algorithm works for this new function to reproduce\n",
    "the classic result."
   ]
  },
  {
   "cell_type": "code",
   "execution_count": null,
   "metadata": {},
   "outputs": [],
   "source": [
    "#result should be (1,0,1) instead of (1,1,0) because we switched the last two parameters, b and c\n"
   ]
  },
  {
   "cell_type": "markdown",
   "metadata": {},
   "source": [
    "3. Challenge problem: modify the implementation of 3sat_mystery(a,b,c) to\n",
    "use at least one fewer temporary qubits. Verify your modification still produces\n",
    "the correct result. Continue modifying the code to use as few temporary qubits as\n",
    "possible while producing the correct result. What is the smallest number you can\n",
    "possibly use? The fewer qubits used, the smaller the number of qubits in the\n",
    "quantum computer necessary to solve the problem."
   ]
  },
  {
   "cell_type": "code",
   "execution_count": null,
   "metadata": {},
   "outputs": [],
   "source": [
    "#TODO"
   ]
  },
  {
   "cell_type": "markdown",
   "metadata": {},
   "source": [
    ". 2SAT Grover:\n",
    "1. Implement the following 2SAT function classically, where each clause\n",
    "contains the OR of two variables, and the clauses are combined with\n",
    "an AND: . Verify your function returns\n",
    "true only for the case of =True, =False. How many inputs did you\n",
    "need to check classically?\n",
    "2. Implement your function on a quantum computer using multi-qubit\n",
    "AND and multi-qubit OR.\n",
    "3. Modify the code in this chapter to execute Grover's algorithm to find\n",
    "the input for this 2SAT function that satisfies it. How many iterations\n",
    "did you need? What happens if you increase or decrease the number of\n",
    "iterations?\n",
    "4. Challenge problem: modify the code to run on IBM QX hardware. You\n",
    "will need to make sure to use no more than the number of qubits\n",
    "available on the current hardware you have access to, to make sure the\n",
    "program is of the appropriate length, and to take care that, on IBM\n",
    "hardware, it is in general possible to compute a CNOT gate between\n",
    "two qubits only for some pairs of qubits."
   ]
  },
  {
   "cell_type": "code",
   "execution_count": 4,
   "metadata": {},
   "outputs": [
    {
     "name": "stdout",
     "output_type": "stream",
     "text": [
      "(0, 0) -> 0\n",
      "(0, 1) -> 0\n",
      "(1, 0) -> 1\n",
      "(1, 1) -> 0\n"
     ]
    }
   ],
   "source": [
    "import itertools\n",
    "def _2sat_mystery_classical(a,b):\n",
    "    return int((a or b) and (not a or not b) and (a or not b))\n",
    "\n",
    "for combo in itertools.product([0,1], repeat=2):\n",
    "    print(combo, '->', _2sat_mystery_classical(combo[0], combo[1]))\n",
    "#we had to check 2^2 combinations of inputs\n"
   ]
  },
  {
   "cell_type": "code",
   "execution_count": 14,
   "metadata": {},
   "outputs": [
    {
     "name": "stdout",
     "output_type": "stream",
     "text": [
      "(0, 0) -> 0 (measured bits: 0001100)\n",
      "(0, 1) -> 0 (measured bits: 0111010)\n",
      "(1, 0) -> 1 (measured bits: 1011111)\n",
      "(1, 1) -> 0 (measured bits: 1110100)\n"
     ]
    }
   ],
   "source": [
    "from qiskit import IBMQ\n",
    "from qiskit import Aer\n",
    "import qiskit\n",
    "import matplotlib\n",
    "from qiskit import QuantumCircuit, ClassicalRegister, QuantumRegister\n",
    "from  qiskit.tools.visualization  import circuit_drawer\n",
    "from qiskit.extensions.standard import ccx\n",
    "IBMQ.enable_account('407e9bae3b7dcde32639a7dcedf05ae6d7a0bed5c1a328e149afd88e5a6584d3776bfa94fdbcad4de27402abf2ed41b183ba3e6877fd64b80917cc06c4e820ae','https://api.quantum-computing.ibm.com/api/Hubs/ibm-q/Groups/open/Projects/main')# To store your credentials locally you can run:\n",
    "\n",
    "\n",
    "def quantumand_2(qr,qc,w,x,t1):\n",
    "    qc.ccx(qr[w],qr[x],qr[t1])\n",
    "    return t1\n",
    "\n",
    "def quantumor_2(qr,qc,w,x,t1):\n",
    "    qc.x(qr[w])\n",
    "    qc.x(qr[x])\n",
    "    qc.x(qr[t1])\n",
    "    qc.ccx(qr[w],qr[x],qr[t1])\n",
    "    qc.x(qr[w])\n",
    "    qc.x(qr[x])\n",
    "    return t1\n",
    "\n",
    "def quantumor_2_reverse(qr,qc,w,x,t1):\n",
    "    qc.x(qr[x])\n",
    "    qc.x(qr[w])\n",
    "    qc.ccx(qr[w],qr[x],qr[t1])\n",
    "    qc.x(qr[t1])\n",
    "    qc.x(qr[x])\n",
    "    qc.x(qr[w])\n",
    "    return t1\n",
    "def setup_or_teardown_logic(qr,qc,is_a,is_b): \n",
    "    \"\"\"    \n",
    "    is_a,is_b,and : False indicates the variable should be negated, True left as is.\n",
    "    Negation is done with the X gate.\n",
    "\n",
    "    \"\"\"    \n",
    "    if not is_a:\n",
    "        qc.x(qr[0])\n",
    "    if not is_b:\n",
    "        qc.x(qr[1])\n",
    "def _2sat_mystery_2(qr,qc):\n",
    "    #a or b\n",
    "    setup_or_teardown_logic(qr,qc,True, True)\n",
    "    first_clause = quantumor_2(qr,qc,0,1,2)\n",
    "    setup_or_teardown_logic(qr,qc,True, True)\n",
    "    \n",
    "    #not a or not b\n",
    "    setup_or_teardown_logic(qr,qc,False,False)\n",
    "    second_clause = quantumor_2(qr,qc,0,1,3)\n",
    "    setup_or_teardown_logic(qr,qc,False,False)\n",
    "    \n",
    "\n",
    "    #a or not b\n",
    "    setup_or_teardown_logic(qr,qc,True,False)\n",
    "    third_clause= quantumor_2(qr,qc,0,1,4)\n",
    "    setup_or_teardown_logic(qr,qc,True,False)\n",
    "    \n",
    "    intermediate_and_1 = quantumand_2(qr,qc,first_clause,second_clause,5)\n",
    "    final = quantumand_2(qr,qc, third_clause, intermediate_and_1,6)\n",
    "\n",
    "import time\n",
    "from qiskit.tools.visualization import plot_histogram\n",
    "def try_input_combination(input_combination,shots=1):\n",
    "    \n",
    "    backend = IBMQ.get_backend('ibmq_qasm_simulator') # remote simulator\n",
    "    qr = QuantumRegister(7)\n",
    "    cr = ClassicalRegister(7)\n",
    "    qc = QuantumCircuit(qr,cr)\n",
    "    # setting up the input\n",
    "    for i in range(2):\n",
    "        if input_combination[i]:\n",
    "            qc.x(qr[i])\n",
    "    # calling the function on that input\n",
    "    _2sat_mystery_2(qr,qc)\n",
    "    # measuring every qubit as we will want to verify reversibility \n",
    "    for i in range(7):\n",
    "        qc.measure(qr[i],cr[i])\n",
    "\n",
    "    # Executing the job on IBM QX\n",
    "    job_exp = qiskit.execute(qc, backend=backend,shots=shots)\n",
    "    result = job_exp.result()\n",
    "    final=result.get_counts(qc)\n",
    "    if not len(final)==1:\n",
    "        print(input_combination,final)\n",
    "    else:\n",
    "        # note that due to IBM's choice the result returned is in opposite order with last register coming first \n",
    "        # and the first register coming last. For clarity we reverse the output so the first register is first\n",
    "        # and the last register is last.\n",
    "\n",
    "        result_in_order=list(final.keys())[0][::-1]\n",
    "        print(input_combination,'->',result_in_order[-1],'(measured bits: '+result_in_order+')')  \n",
    "        \n",
    "import itertools\n",
    "for combo in itertools.product([0,1],repeat=2):\n",
    "    try_input_combination(combo)"
   ]
  },
  {
   "cell_type": "code",
   "execution_count": 20,
   "metadata": {
    "scrolled": true
   },
   "outputs": [
    {
     "name": "stdout",
     "output_type": "stream",
     "text": [
      "Running Grover's algorithm for 0 iterations\n",
      "{'0000011': 9, '0000010': 13, '0000000': 14, '0000001': 14}\n",
      "Running Grover's algorithm for 1 iterations\n",
      "{'0000011': 12, '0000010': 13, '0000000': 13, '0000001': 12}\n",
      "Running Grover's algorithm for 2 iterations\n",
      "{'0000011': 9, '0000010': 13, '0000000': 4, '0000001': 24}\n",
      "Running Grover's algorithm for 3 iterations\n",
      "{'0000011': 14, '0000010': 12, '0000000': 17, '0000001': 7}\n",
      "Running Grover's algorithm for 4 iterations\n",
      "{'0000011': 8, '0000010': 14, '0000000': 11, '0000001': 17}\n",
      "Running Grover's algorithm for 5 iterations\n",
      "{'0000011': 8, '0000010': 6, '0000000': 12, '0000001': 24}\n",
      "Running Grover's algorithm for 6 iterations\n",
      "{'0000011': 10, '0000010': 21, '0000000': 11, '0000001': 8}\n"
     ]
    }
   ],
   "source": [
    "def grovers_algorithm(checker,num_inputs,num_registers,num_iterations=None):\n",
    "    if num_iterations == None:\n",
    "        from math import floor,sqrt\n",
    "        iterations=floor(sqrt(2**num_inputs))\n",
    "    else:\n",
    "        iterations=num_iterations\n",
    "    print(\"Running Grover's algorithm for %d iterations\"%iterations)\n",
    "    qr = QuantumRegister(num_registers)\n",
    "    cr = ClassicalRegister(num_registers)\n",
    "    qc = QuantumCircuit(qr,cr)\n",
    "    # Configuring the input\n",
    "    for i in range(num_inputs):\n",
    "        qc.h(qr[i])\n",
    "    # Setting up the output of the checker function\n",
    "    qc.x(qr[num_registers-1])\n",
    "    qc.h(qr[num_registers-1])\n",
    "    \n",
    "    # Do the Grovers steps\n",
    "    for it in range(iterations):\n",
    "        checker(qr,qc)\n",
    "        mover(qr,qc,num_inputs)\n",
    "    # Measure the inputs\n",
    "    for j in range(num_inputs):\n",
    "        qc.measure(qr[j], cr[j])\n",
    "    return cr,qr,qc\n",
    "\n",
    "    \n",
    "def control_Z(qr,qc,num_inputs):\n",
    "    if num_inputs not in [2,3]:\n",
    "        raise Exception(\"currently only supports 2 or 3 inputs\")\n",
    "    if num_inputs==2:\n",
    "        qc.h(qr[1])\n",
    "        qc.cx(qr[0],qr[1])\n",
    "        qc.h(qr[1])\n",
    "    elif num_inputs==3:\n",
    "        qc.h(qr[2])\n",
    "        qc.ccx(qr[0],qr[1],qr[2])    \n",
    "        qc.h(qr[2])\n",
    "    \n",
    "def mover(qr,qc,num_inputs):\n",
    "    if num_inputs not in [2,3]:\n",
    "        raise Exception(\"currently only supports 2 or 3 inputs\")\n",
    "    for i in range(num_inputs):\n",
    "        qc.h(qr[i])\n",
    "    for i in range(num_inputs): # D matrix\n",
    "        qc.x(qr[i]) \n",
    "    control_Z(qr,qc,num_inputs)\n",
    "    for i in range(num_inputs):\n",
    "        qc.x(qr[i])\n",
    "    for i in range(num_inputs):\n",
    "        qc.h(qr[i])\n",
    "        \n",
    "def run_2sat_mystery_grover_ibm_sim(num_iterations=None,backend=None):\n",
    "    if not backend:\n",
    "        backend=IBMQ.get_backend('ibmq_qasm_simulator')\n",
    "    import time\n",
    "    from qiskit.tools.visualization import plot_histogram\n",
    "    shots=50\n",
    "    cr,qr,qc = grovers_algorithm(_2sat_mystery_2,2,7,num_iterations=num_iterations)\n",
    "    job_exp = qiskit.execute(qc, backend=backend,shots=shots)\n",
    "    result = job_exp.result()\n",
    "    final=result.get_counts(qc)\n",
    "    print(final)\n",
    "    return final\n",
    "for i in range(0,7):\n",
    "    final = run_2sat_mystery_grover_ibm_sim(num_iterations=i)\n",
    "    plot_histogram(final)\n",
    "#two iterations seems best, but we come back around with five iterations"
   ]
  },
  {
   "cell_type": "code",
   "execution_count": null,
   "metadata": {},
   "outputs": [],
   "source": [
    "#TODO"
   ]
  },
  {
   "cell_type": "markdown",
   "metadata": {},
   "source": [
    "5. Apply the mover and checker functions once more to the output by manually\n",
    "calculating their results:"
   ]
  },
  {
   "cell_type": "code",
   "execution_count": null,
   "metadata": {},
   "outputs": [],
   "source": [
    "#mover(checker(previous_result)) = .1855(|000>+|001>+|010>+|011>+|100>+|101>+|111>+)+ .9923|110> "
   ]
  }
 ],
 "metadata": {
  "kernelspec": {
   "display_name": "bookkernel",
   "language": "python",
   "name": "bookkernel"
  },
  "language_info": {
   "codemirror_mode": {
    "name": "ipython",
    "version": 3
   },
   "file_extension": ".py",
   "mimetype": "text/x-python",
   "name": "python",
   "nbconvert_exporter": "python",
   "pygments_lexer": "ipython3",
   "version": "3.6.6"
  }
 },
 "nbformat": 4,
 "nbformat_minor": 2
}
