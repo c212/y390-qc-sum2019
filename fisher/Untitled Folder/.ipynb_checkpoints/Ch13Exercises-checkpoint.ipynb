{
 "cells": [
  {
   "cell_type": "markdown",
   "metadata": {},
   "source": [
    "1. Draw the circuit for the phase flip error correction code."
   ]
  },
  {
   "cell_type": "raw",
   "metadata": {},
   "source": [
    "#from Circuit composer\n",
    "OPENQASM 2.0;\n",
    "include \"qelib1.inc\";\n",
    "qreg qr[5];\n",
    "creg er[2];\n",
    "creg result[3];\n",
    "\n",
    "cx qr[0], qr[1];\n",
    "cx qr[1], qr[2];\n",
    "\n",
    "h qr[0];\n",
    "h qr[1];\n",
    "h qr[2];\n",
    "\n",
    "h qr[0];\n",
    "h qr[1];\n",
    "h qr[2];\n",
    "\n",
    "cx qr[0],qr[3];\n",
    "cx qr[1],qr[3];\n",
    "cx qr[0],qr[4];\n",
    "cx qr[2],qr[4];\n",
    "\n",
    "measure qr[3]->er[1];\n",
    "measure qr[4]->er[0];\n",
    "\n",
    "if(er==3)\n",
    "z qr[0];\n",
    "\n",
    "if(er==2)\n",
    "z qr[1];\n",
    "\n",
    "if(er==1)\n",
    "z qr[2];\n",
    "\n",
    "measure qr[0]->result[0];\n",
    "measure qr[1]->result[1];\n",
    "measure qr[2]->result[2];"
   ]
  },
  {
   "cell_type": "markdown",
   "metadata": {},
   "source": [
    "2. Implement the phase flip error correction code."
   ]
  },
  {
   "cell_type": "code",
   "execution_count": 6,
   "metadata": {},
   "outputs": [
    {
     "name": "stdout",
     "output_type": "stream",
     "text": [
      "{'000 00': 1024}\n"
     ]
    }
   ],
   "source": [
    "%matplotlib inline\n",
    "import qiskit\n",
    "import time\n",
    "from qiskit import IBMQ\n",
    "from qiskit import Aer\n",
    "\n",
    "# Authenticate an account and add for use during this session. Replace string\n",
    "# argument with your private token.\n",
    "IBMQ.enable_account('407e9bae3b7dcde32639a7dcedf05ae6d7a0bed5c1a328e149afd88e5a6584d3776bfa94fdbcad4de27402abf2ed41b183ba3e6877fd64b80917cc06c4e820ae','https://api.quantum-computing.ibm.com/api/Hubs/ibm-q/Groups/open/Projects/main')\n",
    "import random\n",
    "from qiskit import QuantumCircuit\n",
    "shots = 1024\n",
    "qasm_string = \"\"\"OPENQASM 2.0;\n",
    "include \"qelib1.inc\";\n",
    "qreg qr[5];\n",
    "creg er[2];\n",
    "creg result[3];\n",
    "\n",
    "cx qr[0], qr[1];\n",
    "cx qr[1], qr[2];\n",
    "\n",
    "h qr[0];\n",
    "h qr[1];\n",
    "h qr[2];\n",
    "\n",
    "h qr[0];\n",
    "h qr[1];\n",
    "h qr[2];\n",
    "\n",
    "cx qr[0],qr[3];\n",
    "cx qr[1],qr[3];\n",
    "cx qr[0],qr[4];\n",
    "cx qr[2],qr[4];\n",
    "\n",
    "measure qr[3]->er[1];\n",
    "measure qr[4]->er[0];\n",
    "\n",
    "if(er==3)\n",
    "z qr[0];\n",
    "\n",
    "if(er==2)\n",
    "z qr[1];\n",
    "\n",
    "if(er==1)\n",
    "z qr[2];\n",
    "\n",
    "measure qr[0]->result[0];\n",
    "measure qr[1]->result[1];\n",
    "measure qr[2]->result[2];\"\"\"\n",
    "\n",
    "backend = Aer.get_backend('qasm_simulator')\n",
    "qc = QuantumCircuit.from_qasm_str(qasm_string)\n",
    "exp_job = qiskit.execute(qc, backend, shots=shots)\n",
    "exp_result = exp_job.result()\n",
    "final = exp_result.get_counts(qc)\n",
    "print(final)\n"
   ]
  },
  {
   "cell_type": "markdown",
   "metadata": {},
   "source": [
    "3. What happens in the bit flip error correction code if we had, instead of a single\n",
    "qubit error, an error in two qubits?"
   ]
  },
  {
   "cell_type": "code",
   "execution_count": null,
   "metadata": {},
   "outputs": [],
   "source": [
    "#any combination of two qubits with errors gives back the not of each qubit, ie if original was \n",
    "#111 we'd get 000, and vice versa"
   ]
  },
  {
   "cell_type": "markdown",
   "metadata": {},
   "source": [
    "4. For the bit flip error correction code, instead of simulating noise ourselves by\n",
    "introducing an X gate, run on a quantum simulator with noise included. Does the\n",
    "error correction code function well in this environment?"
   ]
  },
  {
   "cell_type": "code",
   "execution_count": null,
   "metadata": {},
   "outputs": [],
   "source": [
    "#NOTE: additional import req'd \n",
    "from qiskit.providers.aer import noise\n",
    "#no, it does not function well in this environment."
   ]
  },
  {
   "cell_type": "markdown",
   "metadata": {},
   "source": [
    "5. At the time of writing this book, the IBM QX devices did not support if\n",
    "statements conditioned on classical bits. However, we can still perform\n",
    "measurements to diagnose the types and locations of errors on the actual\n",
    "hardware, even if we can't implement the if statements that will allow us to\n",
    "correct those errors. Take out the if statements in the bit flip error correction code\n",
    "and run it on hardware. How often did a bit flip error on the second qubit occur\n",
    "during that run?"
   ]
  },
  {
   "cell_type": "code",
   "execution_count": null,
   "metadata": {},
   "outputs": [],
   "source": [
    "#NOTE we don't need to comment out the if statements anymore\n",
    "#.031+.103+.042+.156+.028+.017+.062+.016+.012+.017+.016+.014+.023+.02\n",
    "#55.7% of the time"
   ]
  }
 ],
 "metadata": {
  "kernelspec": {
   "display_name": "bookkernel",
   "language": "python",
   "name": "bookkernel"
  },
  "language_info": {
   "codemirror_mode": {
    "name": "ipython",
    "version": 3
   },
   "file_extension": ".py",
   "mimetype": "text/x-python",
   "name": "python",
   "nbconvert_exporter": "python",
   "pygments_lexer": "ipython3",
   "version": "3.6.6"
  }
 },
 "nbformat": 4,
 "nbformat_minor": 2
}
