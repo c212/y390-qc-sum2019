{
 "cells": [
  {
   "cell_type": "markdown",
   "metadata": {},
   "source": [
    "1. Find at least one other state that is a separable state, but for which\n",
    "get_qubits_from_state fails to work."
   ]
  },
  {
   "cell_type": "code",
   "execution_count": 8,
   "metadata": {},
   "outputs": [
    {
     "name": "stdout",
     "output_type": "stream",
     "text": [
      "None\n"
     ]
    }
   ],
   "source": [
    "%matplotlib inline\n",
    "import numpy as np\n",
    "from functools import reduce\n",
    "from math import log\n",
    "import itertools\n",
    "zero_qubit=np.matrix('1; 0')\n",
    "one_qubit=np.matrix('0; 1')\n",
    "plus_qubit=1/np.sqrt(2)*np.matrix('1; 1')\n",
    "minus_qubit=1/np.sqrt(2)*np.matrix('1; -1')\n",
    "clockwisearrow_qubit=1/np.sqrt(2)*np.matrix([[1],[np.complex(0,1)]])    \n",
    "counterclockwisearrow_qubit=1/np.sqrt(2)*np.matrix([[1],[-np.complex(0,1)]])\n",
    "ten_ninety_qubit=np.sqrt(0.1)*zero_qubit+np.sqrt(0.9)*one_qubit\n",
    "def get_nqubits_quantum_state(state):\n",
    "    return int(log(state.size,2))\n",
    "\n",
    "def get_qubits_from_state(state):\n",
    "    basis_states=[zero_qubit,one_qubit,plus_qubit,minus_qubit,clockwisearrow_qubit,counterclockwisearrow_qubit]\n",
    "    for separated_state in itertools.product(basis_states, repeat=get_nqubits_quantum_state(state)):\n",
    "        candidate_state=create_quantum_state(separated_state)\n",
    "        if np.allclose(candidate_state,state):\n",
    "            return separated_state\n",
    "        \n",
    "def create_quantum_state(qubits):\n",
    "    return reduce(lambda x,y:np.kron(x,y),qubits)\n",
    "newstate = create_quantum_state([zero_qubit,clockwisearrow_qubit,counterclockwisearrow_qubit, one_qubit,ten_ninety_qubit])\n",
    "print(get_qubits_from_state(newstate))\n",
    "\n"
   ]
  },
  {
   "cell_type": "markdown",
   "metadata": {},
   "source": [
    "2. For the state you found in question 1, modify the code in\n",
    "get_qubits_from_state to work."
   ]
  },
  {
   "cell_type": "code",
   "execution_count": 9,
   "metadata": {},
   "outputs": [
    {
     "name": "stdout",
     "output_type": "stream",
     "text": [
      "(matrix([[1],\n",
      "        [0]]), matrix([[0.70710678+0.j        ],\n",
      "        [0.        +0.70710678j]]), matrix([[0.70710678+0.j        ],\n",
      "        [0.        -0.70710678j]]), matrix([[0],\n",
      "        [1]]), matrix([[0.31622777],\n",
      "        [0.9486833 ]]))\n"
     ]
    }
   ],
   "source": [
    "def get_qubits_from_state_mod(state):\n",
    "    basis_states=[zero_qubit,one_qubit,plus_qubit,minus_qubit,clockwisearrow_qubit,counterclockwisearrow_qubit,ten_ninety_qubit]\n",
    "    for separated_state in itertools.product(basis_states, repeat=get_nqubits_quantum_state(state)):\n",
    "        candidate_state=create_quantum_state(separated_state)\n",
    "        if np.allclose(candidate_state,state):\n",
    "            return separated_state\n",
    "print(get_qubits_from_state_mod(newstate))"
   ]
  },
  {
   "cell_type": "markdown",
   "metadata": {},
   "source": [
    "3. You have designed a new quantum computer, and the probability of finding a\n",
    "qubit still in state |\"1\"> after 0.1 milliseconds is 0.7%. What is T1 for this\n",
    "computer?"
   ]
  },
  {
   "cell_type": "code",
   "execution_count": 10,
   "metadata": {},
   "outputs": [],
   "source": [
    "T1 = -0.0001/np.log(0.007)"
   ]
  },
  {
   "cell_type": "markdown",
   "metadata": {},
   "source": [
    "4. Quantum computer A has a T1 of 63 μs and a T2 of 60 μs, while quantum\n",
    "computer B has a T1 of 70 μs and a T2 of 78 μs. Both A and B can operate on the\n",
    "same number of qubits. In the absence of further information, which quantum\n",
    "computer would you prefer?"
   ]
  },
  {
   "cell_type": "code",
   "execution_count": null,
   "metadata": {},
   "outputs": [],
   "source": [
    "#Since T1B > T1A and T2B > T2A, we'd prefer computer B since it can operate longer without\n",
    "#experiencing noise that affects frequency (T1) or phase (T2)"
   ]
  },
  {
   "cell_type": "markdown",
   "metadata": {},
   "source": [
    "5. Change the measure_in_01_basis algorithm to measure a state in the |\"0\">\n",
    "and |\"1\"> basis to return the state itself, instead of printing the string\n",
    "(mathematical) description of the state."
   ]
  },
  {
   "cell_type": "code",
   "execution_count": 11,
   "metadata": {},
   "outputs": [],
   "source": [
    "def measure_in_01_basis_1(state):\n",
    "    from random import random\n",
    "    n_qubits=int(log(state.shape[0],2))\n",
    "    probabilities=[(coeff*coeff.conjugate()).real for coeff in state.flat]\n",
    "    rand=random()\n",
    "    for idx,state_desc in enumerate([''.join(map(str,state_desc)) for state_desc in itertools.product([0, 1], repeat=n_qubits)]):\n",
    "        if rand < sum(probabilities[0:(idx+1)]):\n",
    "            return '|\"%s\">' % create_quantum_state(list(map(int,state_desc)))"
   ]
  },
  {
   "cell_type": "markdown",
   "metadata": {},
   "source": [
    "6. Create a class or a function that ensures that once a state is measured, any\n",
    "subsequent measurement always returns the same result. This function should\n",
    "follow the specifications of measure_in_01_basis_collapse given in this\n",
    "chapter."
   ]
  },
  {
   "cell_type": "code",
   "execution_count": 15,
   "metadata": {},
   "outputs": [
    {
     "name": "stdout",
     "output_type": "stream",
     "text": [
      "|\"11\">\n",
      "|\"11\">\n",
      "|\"00\">\n",
      "|\"00\">\n"
     ]
    }
   ],
   "source": [
    "#anybody find a better way to do this?\n",
    "cache = {}\n",
    "def measure_in_01_basis_collapse(state):\n",
    "    from random import random\n",
    "    n_qubits=int(log(state.shape[0],2))\n",
    "    probabilities=[(coeff*coeff.conjugate()).real for coeff in state.flat]\n",
    "    rand=random()\n",
    "    hexaddress = hex(id(state))\n",
    "    if hexaddress in cache:\n",
    "        return '|\"%s\">' % cache[hexaddress]\n",
    "    else:\n",
    "        for idx,state_desc in enumerate([''.join(map(str,state_desc)) for state_desc in itertools.product([0, 1], repeat=n_qubits)]):\n",
    "            if rand < sum(probabilities[0:(idx+1)]):\n",
    "                cache[hexaddress] = state_desc\n",
    "                return '|\"%s\">' % state_desc\n",
    "            \n",
    "bell_state_phi_plus=(create_quantum_state([zero_qubit,zero_qubit])+create_quantum_state([one_qubit,one_qubit]))/np.sqrt(2)\n",
    "print(measure_in_01_basis_collapse(bell_state_phi_plus))\n",
    "print(measure_in_01_basis_collapse(bell_state_phi_plus))\n",
    "bell_state_phi_plus=(create_quantum_state([zero_qubit,zero_qubit])+create_quantum_state([one_qubit,one_qubit]))/np.sqrt(2)\n",
    "print(measure_in_01_basis_collapse(bell_state_phi_plus))\n",
    "print(measure_in_01_basis_collapse(bell_state_phi_plus))          \n",
    "            \n",
    "            "
   ]
  },
  {
   "cell_type": "code",
   "execution_count": null,
   "metadata": {},
   "outputs": [],
   "source": []
  },
  {
   "cell_type": "code",
   "execution_count": null,
   "metadata": {},
   "outputs": [],
   "source": []
  }
 ],
 "metadata": {
  "kernelspec": {
   "display_name": "bookkernel",
   "language": "python",
   "name": "bookkernel"
  },
  "language_info": {
   "codemirror_mode": {
    "name": "ipython",
    "version": 3
   },
   "file_extension": ".py",
   "mimetype": "text/x-python",
   "name": "python",
   "nbconvert_exporter": "python",
   "pygments_lexer": "ipython3",
   "version": "3.6.6"
  }
 },
 "nbformat": 4,
 "nbformat_minor": 2
}
