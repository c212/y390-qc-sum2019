{
 "cells": [
  {
   "cell_type": "markdown",
   "metadata": {},
   "source": [
    "1. Try the zero_to_one_qubit function out with different percentages. What do\n",
    "you get for 100% zero_qubit? For 100% one_qubit?"
   ]
  },
  {
   "cell_type": "code",
   "execution_count": null,
   "metadata": {},
   "outputs": [],
   "source": [
    "[1,0];[0,1]"
   ]
  },
  {
   "cell_type": "markdown",
   "metadata": {},
   "source": [
    "2. Write a function to go from the qubit back to your original percentages, and call\n",
    "it qubit_to_percentages."
   ]
  },
  {
   "cell_type": "code",
   "execution_count": null,
   "metadata": {},
   "outputs": [],
   "source": [
    "#question: I wrote the formula assuming we're in the 0,1 basis. Should it give percentages in\n",
    "#all basis sets?\n",
    "def qubit_to_percentages(qubit):\n",
    "    zero = 100*qubit.item(0)*qubit.item(0)\n",
    "    one = 100*qubit.item(1)*qubit.item(1)\n",
    "    return (zero,one)"
   ]
  },
  {
   "cell_type": "markdown",
   "metadata": {},
   "source": [
    "3. Using the definition of in words/algebra given in the chapter,\n",
    "rewrite clockwisearrow_qubit to be a sum of zero_qubit and one_qubit."
   ]
  },
  {
   "cell_type": "code",
   "execution_count": 7,
   "metadata": {},
   "outputs": [
    {
     "name": "stdout",
     "output_type": "stream",
     "text": [
      "[[ True]\n",
      " [ True]]\n"
     ]
    }
   ],
   "source": [
    "import numpy as np\n",
    "zero_qubit=np.matrix('1; 0')\n",
    "one_qubit=np.matrix('0; 1')\n",
    "clockwisearrow_qubit=1/np.sqrt(2)*np.matrix([[1],[np.complex(0,1)]])   \n",
    "\n",
    "clockwisearrow_zero_one = 1/np.sqrt(2)*np.matrix(zero_qubit + np.complex(0,1)*one_qubit)\n",
    "print(clockwisearrow_qubit == clockwisearrow_zero_one)"
   ]
  },
  {
   "cell_type": "markdown",
   "metadata": {},
   "source": [
    "4. Use get_bloch_coordinates to check the coordinates of all the basis qubits we\n",
    "have learned in this chapter. Verify that they match the diagram."
   ]
  },
  {
   "cell_type": "code",
   "execution_count": 10,
   "metadata": {},
   "outputs": [
    {
     "name": "stdout",
     "output_type": "stream",
     "text": [
      "|\"0\"> coordinates are: (0.0, 0.0, 1)\n",
      "|\"1\"> coordinates are: (0.0, 0.0, -1)\n",
      "|\"+\"> coordinates are: (0.9999999999999996, 0.0, 0.0)\n",
      "|\"-\"> coordinates are: (-0.9999999999999996, 0.0, 0.0)\n",
      "|\"↻\"> coordinates are: (0.0, 0.9999999999999996, 0.0)\n",
      "|\"↺\"> coordinates are: (0.0, -0.9999999999999996, 0.0)\n"
     ]
    }
   ],
   "source": [
    "plus_qubit=1/np.sqrt(2)*np.matrix('1; 1')\n",
    "minus_qubit=1/np.sqrt(2)*np.matrix('1; -1')\n",
    "clockwisearrow_qubit=1/np.sqrt(2)*np.matrix([[1],[np.complex(0,1)]])    \n",
    "counterclockwisearrow_qubit=1/np.sqrt(2)*np.matrix([[1],[-np.complex(0,1)]])\n",
    "def get_bloch_coordinates(qubit):\n",
    "    def get_x_bloch(qubit):\n",
    "        qubit_x_basis=1./np.sqrt(2)*np.matrix('1 1; 1 -1')*qubit \n",
    "        prob_zero_qubit=(qubit_x_basis.item(0)*qubit_x_basis.item(0).conjugate()).real\n",
    "        prob_one_qubit=(qubit_x_basis.item(1)*qubit_x_basis.item(1).conjugate()).real\n",
    "        return prob_zero_qubit-prob_one_qubit\n",
    "        \n",
    "    def get_y_bloch(qubit):\n",
    "        qubit_y_basis=1./np.sqrt(2)*np.matrix('1 1; 1 -1')*np.matrix([[1,0],[0,-np.complex(0,1)]])*qubit\n",
    "        prob_zero_qubit=(qubit_y_basis.item(0)*qubit_y_basis.item(0).conjugate()).real\n",
    "        prob_one_qubit=(qubit_y_basis.item(1)*qubit_y_basis.item(1).conjugate()).real\n",
    "        return prob_zero_qubit-prob_one_qubit\n",
    "    \n",
    "    def get_z_bloch(qubit):\n",
    "        qubit_z_basis=qubit\n",
    "        prob_zero_qubit=(qubit_z_basis.item(0)*qubit_z_basis.item(0).conjugate()).real\n",
    "        prob_one_qubit=(qubit_z_basis.item(1)*qubit_z_basis.item(1).conjugate()).real\n",
    "        return prob_zero_qubit-prob_one_qubit\n",
    "    return (get_x_bloch(qubit),get_y_bloch(qubit),get_z_bloch(qubit))\n",
    "\n",
    "print('|\"0\"> coordinates are:',get_bloch_coordinates(zero_qubit))\n",
    "print('|\"1\"> coordinates are:',get_bloch_coordinates(one_qubit))\n",
    "print('|\"+\"> coordinates are:',get_bloch_coordinates(plus_qubit))\n",
    "print('|\"-\"> coordinates are:',get_bloch_coordinates(minus_qubit))\n",
    "print('|\"↻\"> coordinates are:',get_bloch_coordinates(clockwisearrow_qubit))\n",
    "print('|\"↺\"> coordinates are:',get_bloch_coordinates(counterclockwisearrow_qubit))"
   ]
  },
  {
   "cell_type": "markdown",
   "metadata": {},
   "source": [
    "5. Use plot_bloch and zero_to_one_qubit to plot a qubit that is 50% |\"0\"> and\n",
    "50% |\"1\">. Notice that you only see one of the four possible options with the\n",
    "code in this chapter. This is because whenever you take a square root, it could be\n",
    "either a positive or a negative value (for example, 4 is both 22 and -22 so ).\n",
    "Our existing functions, zero_to_one_qubit and qubit, only consider the case\n",
    "where the square roots are both positive values, when in fact there are four\n",
    "possibilities: positive/positive, positive/negative, negative/positive and\n",
    "negative/negative. Change the code to take in an argument indicating which of\n",
    "the possibilities you would like. Now, plot all possible qubits that are\n",
    "50% |\"0\"> and 50% |\"1\"> using your new code."
   ]
  },
  {
   "cell_type": "code",
   "execution_count": 12,
   "metadata": {},
   "outputs": [
    {
     "name": "stdout",
     "output_type": "stream",
     "text": [
      "[[0.70710678]\n",
      " [0.70710678]]\n",
      "[[ 0.70710678]\n",
      " [-0.70710678]]\n",
      "[[-0.70710678]\n",
      " [ 0.70710678]]\n",
      "[[-0.70710678]\n",
      " [-0.70710678]]\n"
     ]
    }
   ],
   "source": [
    "def zero_to_one_qubit_all(percentage_zero,percentage_one,which):\n",
    "    if not percentage_zero+percentage_one==100 or percentage_zero<0 or percentage_one<0: raise Exception(\"percentages must add up to 100\\% and both be positive \")\n",
    "    qu = np.sqrt(percentage_zero/100.)*zero_qubit+np.sqrt(percentage_one/100.)*one_qubit\n",
    "    if which == 2:\n",
    "        qu.put(1,qu.item(1)*-1)\n",
    "    if which == 3:\n",
    "        qu.put(0,qu.item(0)*-1)\n",
    "    if which == 4:\n",
    "        qu = qu * -1\n",
    "    return qu\n",
    "\n",
    "def plot_bloch(qubit,color='b',ax=None):\n",
    "    import matplotlib.pyplot as plt\n",
    "    from mpl_toolkits.mplot3d import Axes3D\n",
    "    if not ax:\n",
    "        fig = plt.figure()\n",
    "        ax = fig.add_subplot(111, projection='3d')\n",
    "        \n",
    "        # draw sphere\n",
    "        u, v = np.mgrid[0:2*np.pi:20j, 0:np.pi:10j]\n",
    "        x = np.cos(u)*np.sin(v)\n",
    "        y = np.sin(u)*np.sin(v)\n",
    "        z = np.cos(v)\n",
    "        ax.plot_wireframe(x, y, z, color=\"k\",alpha=.1)\n",
    "        ax.grid(False)\n",
    "\n",
    "    coordinates=get_bloch_coordinates(qubit)\n",
    "    ax.quiver([0],[0],[0],[coordinates[0]],[coordinates[1]],[coordinates[2]],length=1,color=color,arrow_length_ratio=0.3)\n",
    "    ax.set_xlim([-1,1])\n",
    "    ax.set_ylim([-1,1])\n",
    "    ax.set_zlim([-1,1])\n",
    "    ax.set_xlabel('x: |\"-\"> to |\"+\">')\n",
    "    ax.set_ylabel('y: |\"↺\"> to |\"↻\">')\n",
    "    ax.set_zlabel('z: |\"1\"> to |\"0\">')\n",
    "    ax.view_init(azim=20)\n",
    "    return ax\n",
    "\n",
    "\n",
    "for i in range(1,5):\n",
    "    print(zero_to_one_qubit_all(50,50,i))\n",
    "    plot_bloch(zero_to_one_qubit_all(50,50,i),color='xkcd:black')\n",
    "    i = i"
   ]
  },
  {
   "cell_type": "markdown",
   "metadata": {},
   "source": [
    "6. Write |\"counterclockwisearrow_qubit\"> and |\"clockwisearrow_qubit\"> as a superposition between |\"+\">, |\"-\"> either in\n",
    "words/algebra or in code."
   ]
  },
  {
   "cell_type": "code",
   "execution_count": 15,
   "metadata": {},
   "outputs": [
    {
     "name": "stdout",
     "output_type": "stream",
     "text": [
      "[[ True]\n",
      " [ True]]\n",
      "[[ True]\n",
      " [ True]]\n"
     ]
    }
   ],
   "source": [
    "clockwise_plus_minus = 1/2*(1+np.complex(0,1))*plus_qubit + 1/2*(1-np.complex(0,1))*minus_qubit\n",
    "print(clockwise_plus_minus == clockwisearrow_qubit)\n",
    "\n",
    "counterclockwise_plus_minus = 1/2*(1-np.complex(0,1))*plus_qubit + 1/2*(1+np.complex(0,1))*minus_qubit\n",
    "print(counterclockwise_plus_minus == counterclockwisearrow_qubit)"
   ]
  },
  {
   "cell_type": "markdown",
   "metadata": {},
   "source": [
    "7. Measuring 1,000 identically prepared |\"ten_ninety\"> qubits in the |\"+\"> and |\"-\n",
    "\"> basis will return |\"+\"> approximately what percentage of the time, and |\"-\n",
    "\"> what percentage of the time?"
   ]
  },
  {
   "cell_type": "code",
   "execution_count": null,
   "metadata": {},
   "outputs": [],
   "source": [
    "#Assuming these ten_ninety qubits are 10% |\"+\"> and 90% |\"- \">, |\"+\"> will be returned 10% of the time\n",
    "# and |\"- \"> 90% of the time. However if ten_ninety qubits were prepared in the 0/1 basis and measured in the +/-\n",
    "#basis, they would be 50% |\"+\"> and 50% |\"- \">, since the z axis is orthagonal to the x axis, and thus measuring any qubits\n",
    "#generated as percentages of 0 and 1 would give this result"
   ]
  }
 ],
 "metadata": {
  "kernelspec": {
   "display_name": "bookkernel",
   "language": "python",
   "name": "bookkernel"
  },
  "language_info": {
   "codemirror_mode": {
    "name": "ipython",
    "version": 3
   },
   "file_extension": ".py",
   "mimetype": "text/x-python",
   "name": "python",
   "nbconvert_exporter": "python",
   "pygments_lexer": "ipython3",
   "version": "3.6.6"
  }
 },
 "nbformat": 4,
 "nbformat_minor": 2
}
