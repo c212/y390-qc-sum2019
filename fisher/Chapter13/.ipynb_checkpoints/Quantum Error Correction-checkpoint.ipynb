{
 "cells": [
  {
   "cell_type": "code",
   "execution_count": 13,
   "metadata": {},
   "outputs": [],
   "source": [
    "%matplotlib inline\n",
    "import qiskit\n",
    "import time\n",
    "from qiskit import IBMQ\n",
    "from qiskit import Aer\n",
    "\n",
    "# Authenticate an account and add for use during this session. Replace string\n",
    "# argument with your private token.\n",
    "IBMQ.enable_account('407e9bae3b7dcde32639a7dcedf05ae6d7a0bed5c1a328e149afd88e5a6584d3776bfa94fdbcad4de27402abf2ed41b183ba3e6877fd64b80917cc06c4e820ae','https://api.quantum-computing.ibm.com/api/Hubs/ibm-q/Groups/open/Projects/main')# To store your credentials locally you can run:\n"
   ]
  },
  {
   "cell_type": "code",
   "execution_count": 14,
   "metadata": {},
   "outputs": [
    {
     "name": "stdout",
     "output_type": "stream",
     "text": [
      "[<IBMQSimulator('ibmq_qasm_simulator') from IBMQ(ibm-q, open, main)>, <IBMQBackend('ibmqx4') from IBMQ(ibm-q, open, main)>, <IBMQBackend('ibmqx2') from IBMQ(ibm-q, open, main)>, <IBMQBackend('ibmq_16_melbourne') from IBMQ(ibm-q, open, main)>]\n",
      "[<QasmSimulator('qasm_simulator') from AerProvider()>, <StatevectorSimulator('statevector_simulator') from AerProvider()>, <UnitarySimulator('unitary_simulator') from AerProvider()>]\n"
     ]
    }
   ],
   "source": [
    "print(IBMQ.backends())\n",
    "print(Aer.backends())"
   ]
  },
  {
   "cell_type": "markdown",
   "metadata": {},
   "source": [
    "# Showing errors introduced by repeated application of I gate, IBM QX Device"
   ]
  },
  {
   "cell_type": "code",
   "execution_count": 15,
   "metadata": {},
   "outputs": [
    {
     "name": "stdout",
     "output_type": "stream",
     "text": [
      "{'1': 808, '0': 192}\n"
     ]
    }
   ],
   "source": [
    "import time\n",
    "from qiskit import Aer\n",
    "from qiskit.tools.visualization import plot_histogram, plot_state_city\n",
    "from qiskit import compile,execute\n",
    "\n",
    "def apply_identity_gate(qubit_val,apply_times=10,noisy=True,simulator=True):\n",
    "    shots=1000\n",
    "    qr = qiskit.QuantumRegister(1)\n",
    "    cr = qiskit.ClassicalRegister(1)\n",
    "    qc = qiskit.QuantumCircuit(qr, cr)\n",
    "    if qubit_val not in [0,1]:\n",
    "        raise Exception(\"initial qubit must be either 0 or 1\")\n",
    "    if qubit_val==1:\n",
    "        # Setting q0=|\"1\">\n",
    "        qc.x(qr[0])\n",
    "\n",
    "    # Applying the identity gate 10 times. \n",
    "    for i in range(apply_times):\n",
    "        qc.iden(qr[0])\n",
    "\n",
    "    # Measuring the result. If our hardware was perfect, it should always yield the same value as qubit_val\n",
    "    qc.measure(qr[0],cr[0])\n",
    "\n",
    "    if simulator:\n",
    "        backend = Aer.get_backend('qasm_simulator') # Local simulator\n",
    "        if noisy:\n",
    "            device = IBMQ.get_backend('ibmqx4')\n",
    "            properties = device.properties()\n",
    "            coupling_map = device.configuration().coupling_map\n",
    "            noise_model = noise.device.basic_device_noise_model(properties)\n",
    "            basis_gates = noise_model.basis_gates\n",
    "            exp_job = execute(qc, backend,\n",
    "                                coupling_map=coupling_map,\n",
    "                                noise_model=noise_model,\n",
    "                                basis_gates=basis_gates)\n",
    "        else:\n",
    "            exp_job = execute(qc,backend,shots=shots)\n",
    "    else:\n",
    "        if noisy:\n",
    "    # Preparing to run\n",
    "            backend = IBMQ.backends(name='ibmqx4')[0] # remote hardware\n",
    "            exp_job = execute(qc,backend,shots=shots)\n",
    "        else:\n",
    "            raise Exception(\"Hardware is always noisy, to use hardware keep noise=True\")\n",
    "\n",
    "    exp_result = exp_job.result()\n",
    "    final=exp_result.get_counts(qc)\n",
    "    print(final)\n",
    "    plot_histogram(final)\n",
    "    \n",
    "apply_identity_gate(1,noisy=True,simulator=False)\n"
   ]
  },
  {
   "cell_type": "markdown",
   "metadata": {},
   "source": [
    "# Bit flip code"
   ]
  },
  {
   "cell_type": "code",
   "execution_count": 18,
   "metadata": {},
   "outputs": [
    {
     "name": "stdout",
     "output_type": "stream",
     "text": [
      "[<IBMQSimulator('ibmq_qasm_simulator') from IBMQ(ibm-q, open, main)>, <IBMQBackend('ibmqx4') from IBMQ(ibm-q, open, main)>, <IBMQBackend('ibmqx2') from IBMQ(ibm-q, open, main)>, <IBMQBackend('ibmq_16_melbourne') from IBMQ(ibm-q, open, main)>]\n",
      "{'01 000': 14, '00 101': 42, '10 101': 17, '10 100': 5, '11 110': 34, '01 100': 16, '11 011': 16, '00 110': 98, '10 001': 16, '11 010': 10, '01 111': 62, '10 111': 16, '00 010': 45, '11 100': 17, '11 101': 20, '10 000': 8, '01 010': 20, '01 110': 43, '11 000': 10, '00 011': 103, '00 000': 27, '00 001': 31, '01 001': 22, '00 111': 156, '01 011': 43, '11 001': 14, '10 011': 12, '10 010': 9, '11 111': 20, '01 101': 17, '10 110': 8, '00 100': 29}\n"
     ]
    },
    {
     "data": {
      "image/png": "[encoded data removed]",
      "text/plain": [
       "<Figure size 504x360 with 1 Axes>"
      ]
     },
     "execution_count": 18,
     "metadata": {},
     "output_type": "execute_result"
    }
   ],
   "source": [
    "# Simulating a simple error\n",
    "import random\n",
    "from qiskit import QuantumCircuit\n",
    "shots=1000\n",
    "qasm_string=\"\"\"\n",
    "include \"qelib1.inc\";\n",
    "qreg qr[5];\n",
    "creg result[3];\n",
    "//// these will serve as the bits that will help us figure out if we have errors\n",
    "creg er[2];\n",
    "\n",
    "//// First qubit is |\"0\"> unless you uncomment the following line \n",
    "//// to initialize to |\"1\">:\n",
    "//x qr[0];\n",
    "\n",
    "////See figure 3 of https://arxiv.org/pdf/0905.2794.pdf for circuit\n",
    "////Desire: If first qubit was |\"0\"> we now have |\"000\">. If first qubit was |\"1\"> we now have |\"111\">\n",
    "////To reach this: entangle the original qubit across 3 qubits:\n",
    "cx qr[0], qr[1];\n",
    "cx qr[1], qr[2];\n",
    "\n",
    "\n",
    "//// Modeling an error by uncommenting just ONE of the following suggestions:\n",
    "//// (if you uncomment more than 1 the error correction is ambiguous)\n",
    "//// Uncomment the following to model a single bit flip error by flipping 0th qubit:\n",
    "// x qr[0];\n",
    "//// If our initial state was |\"0\"> we now have |\"100\"> because of error on 0th qubit\n",
    "//// if our initial state was |\"1\"> we now have |\"011\"> because of error on 0th qubit\n",
    "\n",
    "// Uncomment the following to model a single bit flip error by flipping 1th qubit:\n",
    "//x qr[1];\n",
    "//// If our initial state was |\"0\"> we now have |\"010\"> because of error on 1th qubit\n",
    "//// if our initial state was |\"1\"> we now have |\"101\"> because of error on 1th qubit\n",
    "\n",
    "// Uncomment the following to model a single bit flip error by flipping 2th qubit:\n",
    "//x qr[2];\n",
    "//// If our initial state was |\"0\"> we now have |\"001\"> because of error on 2th qubit\n",
    "//// if our initial state was |\"1\"> we now have |\"110\"> because of error on 2th qubit\n",
    "\n",
    "\n",
    "//// Now: our goal is to recover the original state. \n",
    "///// To do this we entangle with a few extra qubits (3th and 4th qubit):\n",
    "cx qr[0],qr[3];\n",
    "cx qr[1],qr[3];\n",
    "cx qr[0],qr[4];\n",
    "cx qr[2],qr[4];\n",
    "\n",
    "//// Now we can make measurements of 3th and 4th qubit to get information about our 3 qubit without disturbing it\n",
    "measure qr[3]->er[1];\n",
    "measure qr[4]->er[0];\n",
    "\n",
    "////\n",
    "//// See table 1 of https://arxiv.org/pdf/0905.2794.pdf for how to correct\n",
    "////case: 11 (3 in decimal), 0th qubit has error so flip back\n",
    "//if(er==3)\n",
    "x qr[0];\n",
    "\n",
    "////case: 10 (2 in decimal), 1th qubit has error so flip back\n",
    "//if(er==2)\n",
    "x qr[1];\n",
    "\n",
    "////case: 01 (1 in decimal), 2th qubit has error so flip back\n",
    "//if(er==1)\n",
    "x qr[2];\n",
    "//// 00 do nothing, there wer no errors\n",
    "\n",
    "measure qr[0]->result[0];\n",
    "measure qr[1]->result[1];\n",
    "measure qr[2]->result[2];\n",
    "\n",
    "\"\"\"\n",
    "print(IBMQ.backends())\n",
    "backend = IBMQ.get_backend('ibmqx4')\n",
    "qc = QuantumCircuit.from_qasm_str(qasm_string)\n",
    "exp_job = execute(qc,backend,shots=shots)\n",
    "exp_result = exp_job.result()\n",
    "final=exp_result.get_counts(qc)\n",
    "print(final)\n",
    "plot_histogram(final)"
   ]
  },
  {
   "cell_type": "raw",
   "metadata": {},
   "source": []
  },
  {
   "cell_type": "code",
   "execution_count": 19,
   "metadata": {},
   "outputs": [
    {
     "ename": "TranspilerError",
     "evalue": "'internal error'",
     "output_type": "error",
     "traceback": [
      "\u001b[0;31m---------------------------------------------------------------------------\u001b[0m",
      "\u001b[0;31mTranspilerError\u001b[0m                           Traceback (most recent call last)",
      "\u001b[0;32m<ipython-input-19-0f8058dc2e72>\u001b[0m in \u001b[0;36m<module>\u001b[0;34m\u001b[0m\n\u001b[1;32m     79\u001b[0m \u001b[0mbackend\u001b[0m \u001b[0;34m=\u001b[0m \u001b[0mIBMQ\u001b[0m\u001b[0;34m.\u001b[0m\u001b[0mget_backend\u001b[0m\u001b[0;34m(\u001b[0m\u001b[0;34m'ibmq_16_melbourne'\u001b[0m\u001b[0;34m)\u001b[0m\u001b[0;34m\u001b[0m\u001b[0m\n\u001b[1;32m     80\u001b[0m \u001b[0mqc\u001b[0m \u001b[0;34m=\u001b[0m \u001b[0mQuantumCircuit\u001b[0m\u001b[0;34m.\u001b[0m\u001b[0mfrom_qasm_str\u001b[0m\u001b[0;34m(\u001b[0m\u001b[0mqasm_string\u001b[0m\u001b[0;34m)\u001b[0m\u001b[0;34m\u001b[0m\u001b[0m\n\u001b[0;32m---> 81\u001b[0;31m \u001b[0mexp_job\u001b[0m \u001b[0;34m=\u001b[0m \u001b[0mqiskit\u001b[0m\u001b[0;34m.\u001b[0m\u001b[0mexecute\u001b[0m\u001b[0;34m(\u001b[0m\u001b[0mqc\u001b[0m\u001b[0;34m,\u001b[0m\u001b[0mbackend\u001b[0m\u001b[0;34m,\u001b[0m\u001b[0mshots\u001b[0m\u001b[0;34m=\u001b[0m\u001b[0mshots\u001b[0m\u001b[0;34m)\u001b[0m\u001b[0;34m\u001b[0m\u001b[0m\n\u001b[0m\u001b[1;32m     82\u001b[0m \u001b[0mexp_result\u001b[0m \u001b[0;34m=\u001b[0m \u001b[0mexp_job\u001b[0m\u001b[0;34m.\u001b[0m\u001b[0mresult\u001b[0m\u001b[0;34m(\u001b[0m\u001b[0;34m)\u001b[0m\u001b[0;34m\u001b[0m\u001b[0m\n\u001b[1;32m     83\u001b[0m \u001b[0mfinal\u001b[0m\u001b[0;34m=\u001b[0m\u001b[0mexp_result\u001b[0m\u001b[0;34m.\u001b[0m\u001b[0mget_counts\u001b[0m\u001b[0;34m(\u001b[0m\u001b[0mqc\u001b[0m\u001b[0;34m)\u001b[0m\u001b[0;34m\u001b[0m\u001b[0m\n",
      "\u001b[0;32m/nfs/nfs7/home/fcherech/MoranQC/lib/python3.6/site-packages/qiskit/execute.py\u001b[0m in \u001b[0;36mexecute\u001b[0;34m(experiments, backend, basis_gates, coupling_map, backend_properties, initial_layout, seed_transpiler, optimization_level, pass_manager, qobj_id, qobj_header, shots, memory, max_credits, seed_simulator, default_qubit_los, default_meas_los, schedule_los, meas_level, meas_return, memory_slots, memory_slot_size, rep_time, parameter_binds, seed, seed_mapper, config, circuits, **run_config)\u001b[0m\n\u001b[1;32m    219\u001b[0m                             \u001b[0mbackend\u001b[0m\u001b[0;34m=\u001b[0m\u001b[0mbackend\u001b[0m\u001b[0;34m,\u001b[0m\u001b[0;34m\u001b[0m\u001b[0m\n\u001b[1;32m    220\u001b[0m                             \u001b[0mpass_manager\u001b[0m\u001b[0;34m=\u001b[0m\u001b[0mpass_manager\u001b[0m\u001b[0;34m,\u001b[0m\u001b[0;34m\u001b[0m\u001b[0m\n\u001b[0;32m--> 221\u001b[0;31m                             \u001b[0mseed_mapper\u001b[0m\u001b[0;34m=\u001b[0m\u001b[0mseed_mapper\u001b[0m\u001b[0;34m,\u001b[0m  \u001b[0;31m# deprecated\u001b[0m\u001b[0;34m\u001b[0m\u001b[0m\n\u001b[0m\u001b[1;32m    222\u001b[0m                             )\n\u001b[1;32m    223\u001b[0m \u001b[0;34m\u001b[0m\u001b[0m\n",
      "\u001b[0;32m/nfs/nfs7/home/fcherech/MoranQC/lib/python3.6/site-packages/qiskit/compiler/transpile.py\u001b[0m in \u001b[0;36mtranspile\u001b[0;34m(circuits, backend, basis_gates, coupling_map, backend_properties, initial_layout, seed_transpiler, optimization_level, pass_manager, seed_mapper)\u001b[0m\n\u001b[1;32m    148\u001b[0m \u001b[0;34m\u001b[0m\u001b[0m\n\u001b[1;32m    149\u001b[0m     \u001b[0;31m# Transpile circuits in parallel\u001b[0m\u001b[0;34m\u001b[0m\u001b[0;34m\u001b[0m\u001b[0m\n\u001b[0;32m--> 150\u001b[0;31m     \u001b[0mcircuits\u001b[0m \u001b[0;34m=\u001b[0m \u001b[0mparallel_map\u001b[0m\u001b[0;34m(\u001b[0m\u001b[0m_transpile_circuit\u001b[0m\u001b[0;34m,\u001b[0m \u001b[0mlist\u001b[0m\u001b[0;34m(\u001b[0m\u001b[0mzip\u001b[0m\u001b[0;34m(\u001b[0m\u001b[0mcircuits\u001b[0m\u001b[0;34m,\u001b[0m \u001b[0mtranspile_configs\u001b[0m\u001b[0;34m)\u001b[0m\u001b[0;34m)\u001b[0m\u001b[0;34m)\u001b[0m\u001b[0;34m\u001b[0m\u001b[0m\n\u001b[0m\u001b[1;32m    151\u001b[0m \u001b[0;34m\u001b[0m\u001b[0m\n\u001b[1;32m    152\u001b[0m     \u001b[0;32mif\u001b[0m \u001b[0mlen\u001b[0m\u001b[0;34m(\u001b[0m\u001b[0mcircuits\u001b[0m\u001b[0;34m)\u001b[0m \u001b[0;34m==\u001b[0m \u001b[0;36m1\u001b[0m\u001b[0;34m:\u001b[0m\u001b[0;34m\u001b[0m\u001b[0m\n",
      "\u001b[0;32m/nfs/nfs7/home/fcherech/MoranQC/lib/python3.6/site-packages/qiskit/tools/parallel.py\u001b[0m in \u001b[0;36mparallel_map\u001b[0;34m(task, values, task_args, task_kwargs, num_processes)\u001b[0m\n\u001b[1;32m     98\u001b[0m     \"\"\"\n\u001b[1;32m     99\u001b[0m     \u001b[0;32mif\u001b[0m \u001b[0mlen\u001b[0m\u001b[0;34m(\u001b[0m\u001b[0mvalues\u001b[0m\u001b[0;34m)\u001b[0m \u001b[0;34m==\u001b[0m \u001b[0;36m1\u001b[0m\u001b[0;34m:\u001b[0m\u001b[0;34m\u001b[0m\u001b[0m\n\u001b[0;32m--> 100\u001b[0;31m         \u001b[0;32mreturn\u001b[0m \u001b[0;34m[\u001b[0m\u001b[0mtask\u001b[0m\u001b[0;34m(\u001b[0m\u001b[0mvalues\u001b[0m\u001b[0;34m[\u001b[0m\u001b[0;36m0\u001b[0m\u001b[0;34m]\u001b[0m\u001b[0;34m,\u001b[0m \u001b[0;34m*\u001b[0m\u001b[0mtask_args\u001b[0m\u001b[0;34m,\u001b[0m \u001b[0;34m**\u001b[0m\u001b[0mtask_kwargs\u001b[0m\u001b[0;34m)\u001b[0m\u001b[0;34m]\u001b[0m\u001b[0;34m\u001b[0m\u001b[0m\n\u001b[0m\u001b[1;32m    101\u001b[0m \u001b[0;34m\u001b[0m\u001b[0m\n\u001b[1;32m    102\u001b[0m     \u001b[0mPublisher\u001b[0m\u001b[0;34m(\u001b[0m\u001b[0;34m)\u001b[0m\u001b[0;34m.\u001b[0m\u001b[0mpublish\u001b[0m\u001b[0;34m(\u001b[0m\u001b[0;34m\"terra.parallel.start\"\u001b[0m\u001b[0;34m,\u001b[0m \u001b[0mlen\u001b[0m\u001b[0;34m(\u001b[0m\u001b[0mvalues\u001b[0m\u001b[0;34m)\u001b[0m\u001b[0;34m)\u001b[0m\u001b[0;34m\u001b[0m\u001b[0m\n",
      "\u001b[0;32m/nfs/nfs7/home/fcherech/MoranQC/lib/python3.6/site-packages/qiskit/compiler/transpile.py\u001b[0m in \u001b[0;36m_transpile_circuit\u001b[0;34m(circuit_config_tuple)\u001b[0m\n\u001b[1;32m    169\u001b[0m     \u001b[0mcircuit\u001b[0m\u001b[0;34m,\u001b[0m \u001b[0mtranspile_config\u001b[0m \u001b[0;34m=\u001b[0m \u001b[0mcircuit_config_tuple\u001b[0m\u001b[0;34m\u001b[0m\u001b[0m\n\u001b[1;32m    170\u001b[0m \u001b[0;34m\u001b[0m\u001b[0m\n\u001b[0;32m--> 171\u001b[0;31m     \u001b[0;32mreturn\u001b[0m \u001b[0mtranspile_circuit\u001b[0m\u001b[0;34m(\u001b[0m\u001b[0mcircuit\u001b[0m\u001b[0;34m,\u001b[0m \u001b[0mtranspile_config\u001b[0m\u001b[0;34m)\u001b[0m\u001b[0;34m\u001b[0m\u001b[0m\n\u001b[0m\u001b[1;32m    172\u001b[0m \u001b[0;34m\u001b[0m\u001b[0m\n\u001b[1;32m    173\u001b[0m \u001b[0;34m\u001b[0m\u001b[0m\n",
      "\u001b[0;32m/nfs/nfs7/home/fcherech/MoranQC/lib/python3.6/site-packages/qiskit/transpiler/transpile_circuit.py\u001b[0m in \u001b[0;36mtranspile_circuit\u001b[0;34m(circuit, transpile_config)\u001b[0m\n\u001b[1;32m     60\u001b[0m         \u001b[0mpass_manager\u001b[0m \u001b[0;34m=\u001b[0m \u001b[0mdefault_pass_manager_simulator\u001b[0m\u001b[0;34m(\u001b[0m\u001b[0mtranspile_config\u001b[0m\u001b[0;34m)\u001b[0m\u001b[0;34m\u001b[0m\u001b[0m\n\u001b[1;32m     61\u001b[0m \u001b[0;34m\u001b[0m\u001b[0m\n\u001b[0;32m---> 62\u001b[0;31m     \u001b[0;32mreturn\u001b[0m \u001b[0mpass_manager\u001b[0m\u001b[0;34m.\u001b[0m\u001b[0mrun\u001b[0m\u001b[0;34m(\u001b[0m\u001b[0mcircuit\u001b[0m\u001b[0;34m)\u001b[0m\u001b[0;34m\u001b[0m\u001b[0m\n\u001b[0m",
      "\u001b[0;32m/nfs/nfs7/home/fcherech/MoranQC/lib/python3.6/site-packages/qiskit/transpiler/passmanager.py\u001b[0m in \u001b[0;36mrun\u001b[0;34m(***failed resolving arguments***)\u001b[0m\n\u001b[1;32m    144\u001b[0m         \u001b[0;32mfor\u001b[0m \u001b[0mpassset\u001b[0m \u001b[0;32min\u001b[0m \u001b[0mself\u001b[0m\u001b[0;34m.\u001b[0m\u001b[0mworking_list\u001b[0m\u001b[0;34m:\u001b[0m\u001b[0;34m\u001b[0m\u001b[0m\n\u001b[1;32m    145\u001b[0m             \u001b[0;32mfor\u001b[0m \u001b[0mpass_\u001b[0m \u001b[0;32min\u001b[0m \u001b[0mpassset\u001b[0m\u001b[0;34m:\u001b[0m\u001b[0;34m\u001b[0m\u001b[0m\n\u001b[0;32m--> 146\u001b[0;31m                 \u001b[0mdag\u001b[0m \u001b[0;34m=\u001b[0m \u001b[0mself\u001b[0m\u001b[0;34m.\u001b[0m\u001b[0m_do_pass\u001b[0m\u001b[0;34m(\u001b[0m\u001b[0mpass_\u001b[0m\u001b[0;34m,\u001b[0m \u001b[0mdag\u001b[0m\u001b[0;34m,\u001b[0m \u001b[0mpassset\u001b[0m\u001b[0;34m.\u001b[0m\u001b[0moptions\u001b[0m\u001b[0;34m)\u001b[0m\u001b[0;34m\u001b[0m\u001b[0m\n\u001b[0m\u001b[1;32m    147\u001b[0m \u001b[0;34m\u001b[0m\u001b[0m\n\u001b[1;32m    148\u001b[0m         \u001b[0mcircuit\u001b[0m \u001b[0;34m=\u001b[0m \u001b[0mdag_to_circuit\u001b[0m\u001b[0;34m(\u001b[0m\u001b[0mdag\u001b[0m\u001b[0;34m)\u001b[0m\u001b[0;34m\u001b[0m\u001b[0m\n",
      "\u001b[0;32m/nfs/nfs7/home/fcherech/MoranQC/lib/python3.6/site-packages/qiskit/transpiler/passmanager.py\u001b[0m in \u001b[0;36m_do_pass\u001b[0;34m(self, pass_, dag, options)\u001b[0m\n\u001b[1;32m    173\u001b[0m             \u001b[0;32mif\u001b[0m \u001b[0mpass_\u001b[0m\u001b[0;34m.\u001b[0m\u001b[0mis_transformation_pass\u001b[0m\u001b[0;34m:\u001b[0m\u001b[0;34m\u001b[0m\u001b[0m\n\u001b[1;32m    174\u001b[0m                 \u001b[0mpass_\u001b[0m\u001b[0;34m.\u001b[0m\u001b[0mproperty_set\u001b[0m \u001b[0;34m=\u001b[0m \u001b[0mself\u001b[0m\u001b[0;34m.\u001b[0m\u001b[0mfenced_property_set\u001b[0m\u001b[0;34m\u001b[0m\u001b[0m\n\u001b[0;32m--> 175\u001b[0;31m                 \u001b[0mnew_dag\u001b[0m \u001b[0;34m=\u001b[0m \u001b[0mpass_\u001b[0m\u001b[0;34m.\u001b[0m\u001b[0mrun\u001b[0m\u001b[0;34m(\u001b[0m\u001b[0mdag\u001b[0m\u001b[0;34m)\u001b[0m\u001b[0;34m\u001b[0m\u001b[0m\n\u001b[0m\u001b[1;32m    176\u001b[0m                 \u001b[0;32mif\u001b[0m \u001b[0;32mnot\u001b[0m \u001b[0misinstance\u001b[0m\u001b[0;34m(\u001b[0m\u001b[0mnew_dag\u001b[0m\u001b[0;34m,\u001b[0m \u001b[0mDAGCircuit\u001b[0m\u001b[0;34m)\u001b[0m\u001b[0;34m:\u001b[0m\u001b[0;34m\u001b[0m\u001b[0m\n\u001b[1;32m    177\u001b[0m                     raise TranspilerError(\"Transformation passes should return a transformed dag.\"\n",
      "\u001b[0;32m/nfs/nfs7/home/fcherech/MoranQC/lib/python3.6/site-packages/qiskit/transpiler/passes/optimize_1q_gates.py\u001b[0m in \u001b[0;36mrun\u001b[0;34m(self, dag)\u001b[0m\n\u001b[1;32m     51\u001b[0m                         \u001b[0;32mor\u001b[0m \u001b[0mlen\u001b[0m\u001b[0;34m(\u001b[0m\u001b[0mcurrent_node\u001b[0m\u001b[0;34m.\u001b[0m\u001b[0mqargs\u001b[0m\u001b[0;34m)\u001b[0m \u001b[0;34m!=\u001b[0m \u001b[0;36m1\u001b[0m\u001b[0;34m\u001b[0m\u001b[0m\n\u001b[1;32m     52\u001b[0m                         or left_name not in [\"u1\", \"u2\", \"u3\", \"id\"]):\n\u001b[0;32m---> 53\u001b[0;31m                     \u001b[0;32mraise\u001b[0m \u001b[0mTranspilerError\u001b[0m\u001b[0;34m(\u001b[0m\u001b[0;34m\"internal error\"\u001b[0m\u001b[0;34m)\u001b[0m\u001b[0;34m\u001b[0m\u001b[0m\n\u001b[0m\u001b[1;32m     54\u001b[0m                 \u001b[0;32mif\u001b[0m \u001b[0mleft_name\u001b[0m \u001b[0;34m==\u001b[0m \u001b[0;34m\"u1\"\u001b[0m\u001b[0;34m:\u001b[0m\u001b[0;34m\u001b[0m\u001b[0m\n\u001b[1;32m     55\u001b[0m                     \u001b[0mleft_parameters\u001b[0m \u001b[0;34m=\u001b[0m \u001b[0;34m(\u001b[0m\u001b[0;36m0\u001b[0m\u001b[0;34m,\u001b[0m \u001b[0;36m0\u001b[0m\u001b[0;34m,\u001b[0m \u001b[0mcurrent_node\u001b[0m\u001b[0;34m.\u001b[0m\u001b[0mop\u001b[0m\u001b[0;34m.\u001b[0m\u001b[0mparams\u001b[0m\u001b[0;34m[\u001b[0m\u001b[0;36m0\u001b[0m\u001b[0;34m]\u001b[0m\u001b[0;34m)\u001b[0m\u001b[0;34m\u001b[0m\u001b[0m\n",
      "\u001b[0;31mTranspilerError\u001b[0m: 'internal error'"
     ]
    }
   ],
   "source": [
    "# Simulating a simple error\n",
    "import random\n",
    "from qiskit import QuantumCircuit\n",
    "shots=1000\n",
    "qasm_string=\"\"\"\n",
    "include \"qelib1.inc\";\n",
    "qreg qr[5];\n",
    "creg result[3];\n",
    "//// these will serve as the bits that will help us figure out if we have errors\n",
    "creg er[2];\n",
    "\n",
    "//// First qubit is |\"0\"> unless you uncomment the following line \n",
    "//// to initialize to |\"1\">:\n",
    "//x qr[0];\n",
    "\n",
    "////See figure 3 of https://arxiv.org/pdf/0905.2794.pdf for circuit\n",
    "////Desire: If first qubit was |\"0\"> we now have |\"000\">. If first qubit was |\"1\"> we now have |\"111\">\n",
    "////To reach this: entangle the original qubit across 3 qubits:\n",
    "cx qr[0], qr[1];\n",
    "cx qr[1], qr[2];\n",
    "\n",
    "h qr[0];\n",
    "h qr[1];\n",
    "h qr[2];\n",
    "\n",
    "//// Modeling an error by uncommenting just ONE of the following suggestions:\n",
    "//// (if you uncomment more than 1 the error correction is ambiguous)\n",
    "//// Uncomment the following to model a single phase flip error by flipping 0th qubit:\n",
    "// z qr[0];\n",
    "//// If our initial state was |\"0\"> we now have |\"100\"> because of error on 0th qubit\n",
    "//// if our initial state was |\"1\"> we now have |\"011\"> because of error on 0th qubit\n",
    "\n",
    "// Uncomment the following to model a single phase flip error by flipping 1th qubit:\n",
    "//z qr[1];\n",
    "//// If our initial state was |\"0\"> we now have |\"010\"> because of error on 1th qubit\n",
    "//// if our initial state was |\"1\"> we now have |\"101\"> because of error on 1th qubit\n",
    "\n",
    "// Uncomment the following to model a single phas flip error by flipping 2th qubit:\n",
    "//z qr[2];\n",
    "//// If our initial state was |\"0\"> we now have |\"001\"> because of error on 2th qubit\n",
    "//// if our initial state was |\"1\"> we now have |\"110\"> because of error on 2th qubit\n",
    "h qr[0];\n",
    "h qr[1];\n",
    "h qr[2];\n",
    "\n",
    "\n",
    "//// Now: our goal is to recover the original state. \n",
    "///// To do this we entangle with a few extra qubits (3th and 4th qubit):\n",
    "cx qr[0],qr[3];\n",
    "cx qr[1],qr[3];\n",
    "cx qr[0],qr[4];\n",
    "cx qr[2],qr[4];\n",
    "\n",
    "//// Now we can make measurements of 3th and 4th qubit to get information about our 3 qubit without disturbing it\n",
    "measure qr[3]->er[1];\n",
    "measure qr[4]->er[0];\n",
    "\n",
    "////\n",
    "//// See table 1 of https://arxiv.org/pdf/0905.2794.pdf for how to correct\n",
    "////case: 11 (3 in decimal), 0th qubit has error so flip back\n",
    "if(er==3)\n",
    "z qr[0];\n",
    "\n",
    "////case: 10 (2 in decimal), 1th qubit has error so flip back\n",
    "if(er==2)\n",
    "z qr[1];\n",
    "\n",
    "////case: 01 (1 in decimal), 2th qubit has error so flip back\n",
    "if(er==1)\n",
    "z qr[2];\n",
    "//// 00 do nothing, there were no errors\n",
    "\n",
    "measure qr[0]->result[0];\n",
    "measure qr[1]->result[1];\n",
    "measure qr[2]->result[2];\n",
    "\n",
    "\"\"\"\n",
    "\n",
    "backend = Aer.get_backend('qasm_simulator')\n",
    "qc = QuantumCircuit.from_qasm_str(qasm_string)\n",
    "exp_job = execute(qc,backend,shots=shots)\n",
    "exp_result = exp_job.result()\n",
    "final=exp_result.get_counts(qc)\n",
    "print(final)\n",
    "plot_histogram(final)"
   ]
  },
  {
   "cell_type": "code",
   "execution_count": null,
   "metadata": {},
   "outputs": [],
   "source": []
  }
 ],
 "metadata": {
  "kernelspec": {
   "display_name": "bookkernel",
   "language": "python",
   "name": "bookkernel"
  },
  "language_info": {
   "codemirror_mode": {
    "name": "ipython",
    "version": 3
   },
   "file_extension": ".py",
   "mimetype": "text/x-python",
   "name": "python",
   "nbconvert_exporter": "python",
   "pygments_lexer": "ipython3",
   "version": "3.6.6"
  }
 },
 "nbformat": 4,
 "nbformat_minor": 2
}
