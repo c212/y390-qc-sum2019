{
 "cells": [
  {
   "cell_type": "code",
   "execution_count": 3,
   "metadata": {},
   "outputs": [
    {
     "ename": "ImportError",
     "evalue": "cannot import name 'QISKitError'",
     "output_type": "error",
     "traceback": [
      "\u001b[0;31m---------------------------------------------------------------------------\u001b[0m",
      "\u001b[0;31mImportError\u001b[0m                               Traceback (most recent call last)",
      "\u001b[0;32m<ipython-input-3-21e1007cc6dd>\u001b[0m in \u001b[0;36m<module>\u001b[0;34m\u001b[0m\n\u001b[1;32m      1\u001b[0m \u001b[0mget_ipython\u001b[0m\u001b[0;34m(\u001b[0m\u001b[0;34m)\u001b[0m\u001b[0;34m.\u001b[0m\u001b[0mrun_line_magic\u001b[0m\u001b[0;34m(\u001b[0m\u001b[0;34m'matplotlib'\u001b[0m\u001b[0;34m,\u001b[0m \u001b[0;34m'inline'\u001b[0m\u001b[0;34m)\u001b[0m\u001b[0;34m\u001b[0m\u001b[0m\n\u001b[0;32m----> 2\u001b[0;31m \u001b[0;32mfrom\u001b[0m \u001b[0mqiskit\u001b[0m \u001b[0;32mimport\u001b[0m \u001b[0mQuantumCircuit\u001b[0m\u001b[0;34m,\u001b[0m \u001b[0mClassicalRegister\u001b[0m\u001b[0;34m,\u001b[0m \u001b[0mQuantumRegister\u001b[0m\u001b[0;34m,\u001b[0m \u001b[0mQISKitError\u001b[0m\u001b[0;34m\u001b[0m\u001b[0m\n\u001b[0m\u001b[1;32m      3\u001b[0m \u001b[0;34m\u001b[0m\u001b[0m\n\u001b[1;32m      4\u001b[0m \u001b[0;34m\u001b[0m\u001b[0m\n",
      "\u001b[0;31mImportError\u001b[0m: cannot import name 'QISKitError'"
     ]
    }
   ],
   "source": [
    "%matplotlib inline\n",
    "from qiskit import QuantumCircuit, ClassicalRegister, QuantumRegister\n",
    "\n",
    "\n"
   ]
  },
  {
   "cell_type": "markdown",
   "metadata": {},
   "source": [
    "1. Draw the quantum circuit for S†| \"_\">."
   ]
  },
  {
   "cell_type": "code",
   "execution_count": 5,
   "metadata": {},
   "outputs": [
    {
     "data": {
      "text/html": [
       "<pre style=\"word-wrap: normal;white-space: pre;line-height: 15px;\">         ┌───┐┌───┐┌─────┐\n",
       "q1_0: |0>┤ H ├┤ Z ├┤ Sdg ├\n",
       "         └───┘└───┘└─────┘</pre>"
      ],
      "text/plain": [
       "<qiskit.visualization.text.TextDrawing at 0x7fb145487f28>"
      ]
     },
     "execution_count": 5,
     "metadata": {},
     "output_type": "execute_result"
    }
   ],
   "source": [
    "#assuming underscore means minus_qubit\n",
    "qr = QuantumRegister(1)\n",
    "circuit = QuantumCircuit(qr)\n",
    "circuit.h(qr[0])\n",
    "circuit.z(qr[0]) #minus qubit\n",
    "circuit.sdg(qr[0])\n",
    "circuit.draw()"
   ]
  },
  {
   "cell_type": "markdown",
   "metadata": {},
   "source": [
    "2. Draw the quantum circuit for measuring S†| \"_\"> ."
   ]
  },
  {
   "cell_type": "code",
   "execution_count": 15,
   "metadata": {},
   "outputs": [
    {
     "data": {
      "text/html": [
       "<pre style=\"word-wrap: normal;white-space: pre;line-height: 15px;\">         ┌───┐┌───┐┌─────┐┌─┐\n",
       "q8_0: |0>┤ H ├┤ Z ├┤ Sdg ├┤M├\n",
       "         └───┘└───┘└─────┘└╥┘\n",
       " c5_0: 0 ══════════════════╩═\n",
       "                             </pre>"
      ],
      "text/plain": [
       "<qiskit.visualization.text.TextDrawing at 0x7fb145334a58>"
      ]
     },
     "execution_count": 15,
     "metadata": {},
     "output_type": "execute_result"
    }
   ],
   "source": [
    "#assuming underscore means minus_qubit\n",
    "qr = QuantumRegister(1)\n",
    "cr = ClassicalRegister(1)\n",
    "circuit = QuantumCircuit(qr,cr)\n",
    "circuit.h(qr[0])\n",
    "circuit.z(qr[0]) #minus qubit\n",
    "circuit.sdg(qr[0])\n",
    "circuit.measure(qr, cr)\n",
    "circuit.draw()"
   ]
  },
  {
   "cell_type": "markdown",
   "metadata": {},
   "source": [
    "3. Give labels to your qubits and bits in the circuit for measuring S†| \"_\">."
   ]
  },
  {
   "cell_type": "code",
   "execution_count": 16,
   "metadata": {},
   "outputs": [
    {
     "data": {
      "text/html": [
       "<pre style=\"word-wrap: normal;white-space: pre;line-height: 15px;\">                  ┌───┐┌───┐┌─────┐┌─┐\n",
       "cool dagger_0: |0>┤ H ├┤ Z ├┤ Sdg ├┤M├\n",
       "                  └───┘└───┘└─────┘└╥┘\n",
       "     classic_0: 0 ══════════════════╩═\n",
       "                                      </pre>"
      ],
      "text/plain": [
       "<qiskit.visualization.text.TextDrawing at 0x7fb145334860>"
      ]
     },
     "execution_count": 16,
     "metadata": {},
     "output_type": "execute_result"
    }
   ],
   "source": [
    "#assuming underscore means minus_qubit\n",
    "qr = QuantumRegister(1,'cool dagger')\n",
    "cr = ClassicalRegister(1, 'classic')\n",
    "circuit = QuantumCircuit(qr,cr)\n",
    "circuit.h(qr[0])\n",
    "circuit.z(qr[0]) #minus qubit\n",
    "circuit.sdg(qr[0])\n",
    "circuit.measure(qr, cr)\n",
    "circuit.draw()"
   ]
  },
  {
   "cell_type": "markdown",
   "metadata": {},
   "source": [
    "4. Write a Python program using qiskit to generate the circuit for S†| \"_\">."
   ]
  },
  {
   "cell_type": "code",
   "execution_count": null,
   "metadata": {},
   "outputs": [],
   "source": [
    "#oops ive been drawing them w/qiskit the whole time, so same as above\n",
    "#assuming underscore means minus_qubit\n",
    "qr = QuantumRegister(1,'cool dagger')\n",
    "cr = ClassicalRegister(1, 'classic')\n",
    "circuit = QuantumCircuit(qr,cr)\n",
    "circuit.h(qr[0])\n",
    "circuit.z(qr[0]) #minus qubit\n",
    "circuit.sdg(qr[0])\n",
    "circuit.measure(qr, cr)\n",
    "circuit.draw()"
   ]
  },
  {
   "cell_type": "markdown",
   "metadata": {},
   "source": [
    "5. Write a Python program using qiskit to measure a CNOT gate acting with a\n",
    "control qubit of S†| \"_\"> and a target qubit of |\"0\">."
   ]
  },
  {
   "cell_type": "code",
   "execution_count": 17,
   "metadata": {},
   "outputs": [
    {
     "data": {
      "text/html": [
       "<pre style=\"word-wrap: normal;white-space: pre;line-height: 15px;\">                     ┌───┐┌───┐┌─────┐     ┌─┐   \n",
       "dagger control_0: |0>┤ H ├┤ Z ├┤ Sdg ├──■──┤M├───\n",
       "                     └───┘└───┘└─────┘┌─┴─┐└╥┘┌─┐\n",
       "dagger control_1: |0>─────────────────┤ X ├─╫─┤M├\n",
       "                                      └───┘ ║ └╥┘\n",
       "             c6_0: 0 ═══════════════════════╩══╬═\n",
       "                                               ║ \n",
       "             c6_1: 0 ══════════════════════════╩═\n",
       "                                                 </pre>"
      ],
      "text/plain": [
       "<qiskit.visualization.text.TextDrawing at 0x7fb145334c88>"
      ]
     },
     "execution_count": 17,
     "metadata": {},
     "output_type": "execute_result"
    }
   ],
   "source": [
    "qr = QuantumRegister(2, 'dagger control')\n",
    "cr = ClassicalRegister(2)\n",
    "circuit = QuantumCircuit(qr,cr)\n",
    "circuit.h(qr[0])\n",
    "circuit.z(qr[0]) #minus qubit\n",
    "circuit.sdg(qr[0])#control\n",
    "circuit.cx(qr[0],qr[1])\n",
    "circuit.measure(qr,cr)\n",
    "circuit.draw()"
   ]
  },
  {
   "cell_type": "markdown",
   "metadata": {},
   "source": [
    "6. Reverse the computation XXYSZTS†HHTS |\"+\"> in words/algebra."
   ]
  },
  {
   "cell_type": "code",
   "execution_count": 20,
   "metadata": {},
   "outputs": [
    {
     "data": {
      "text/html": [
       "<pre style=\"word-wrap: normal;white-space: pre;line-height: 15px;\">          ┌───┐┌───┐┌───┐┌───┐┌───┐┌─────┐┌───┐┌───┐┌───┐┌───┐┌───┐┌───┐┌───┐»\n",
       "q11_0: |0>┤ H ├┤ S ├┤ T ├┤ H ├┤ H ├┤ Sdg ├┤ T ├┤ Z ├┤ S ├┤ Y ├┤ X ├┤ X ├┤ X ├»\n",
       "          └───┘└───┘└───┘└───┘└───┘└─────┘└───┘└───┘└───┘└───┘└───┘└───┘└───┘»\n",
       "  c9_0: 0 ═══════════════════════════════════════════════════════════════════»\n",
       "                                                                             »\n",
       "«       ┌───┐┌───┐┌─────┐┌───┐┌─────┐┌───┐┌───┐┌───┐┌─────┐┌─────┐┌─┐\n",
       "«q11_0: ┤ X ├┤ Y ├┤ Sdg ├┤ Z ├┤ Tdg ├┤ S ├┤ H ├┤ H ├┤ Tdg ├┤ Sdg ├┤M├\n",
       "«       └───┘└───┘└─────┘└───┘└─────┘└───┘└───┘└───┘└─────┘└─────┘└╥┘\n",
       "« c9_0: ═══════════════════════════════════════════════════════════╩═\n",
       "«                                                                    </pre>"
      ],
      "text/plain": [
       "<qiskit.visualization.text.TextDrawing at 0x7fb1452dab38>"
      ]
     },
     "execution_count": 20,
     "metadata": {},
     "output_type": "execute_result"
    }
   ],
   "source": [
    "#XXYSdgZTdgSHHTdgSdg\n",
    "qr = QuantumRegister(1)\n",
    "cr = ClassicalRegister(1)\n",
    "circuit = QuantumCircuit(qr,cr)\n",
    "circuit.h(qr[0])#plus qubit\n",
    "\n",
    "circuit.s(qr[0])\n",
    "circuit.t(qr[0])\n",
    "circuit.h(qr[0])\n",
    "circuit.h(qr[0])\n",
    "circuit.sdg(qr[0])\n",
    "circuit.t(qr[0])\n",
    "circuit.z(qr[0])\n",
    "circuit.s(qr[0])\n",
    "circuit.y(qr[0])\n",
    "circuit.x(qr[0])\n",
    "circuit.x(qr[0])\n",
    "#now reverse\n",
    "circuit.x(qr[0])\n",
    "circuit.x(qr[0])\n",
    "circuit.y(qr[0])\n",
    "circuit.sdg(qr[0])\n",
    "circuit.z(qr[0])\n",
    "circuit.tdg(qr[0])\n",
    "circuit.s(qr[0])\n",
    "circuit.h(qr[0])\n",
    "circuit.h(qr[0])\n",
    "circuit.tdg(qr[0])\n",
    "circuit.sdg(qr[0])\n",
    "\n",
    "circuit.measure(qr,cr)\n",
    "circuit.draw()"
   ]
  },
  {
   "cell_type": "markdown",
   "metadata": {},
   "source": [
    "Draw a quantum circuit that reverses [two qubits, the first with an H followed by the control of CNOT, the second as the target of CNOT]"
   ]
  },
  {
   "cell_type": "code",
   "execution_count": null,
   "metadata": {},
   "outputs": [],
   "source": [
    "qr = QuantumRegister(2)\n",
    "cr = ClassicalRegister(2)\n",
    "circuit = QuantumCircuit(qr,cr)\n",
    "circuit.h(qr[0])#plus qubit\n",
    "circuit.cx(qr[0],qr[1])\n",
    "#now reverse\n",
    "circuit.cx(qr[0],qr[1])\n",
    "circuit.h(qr[0])\n",
    "circuit.measure(qr,cr)\n",
    "circuit.draw()"
   ]
  },
  {
   "cell_type": "markdown",
   "metadata": {},
   "source": [
    "8. Prepare the |\"01011101\"> state in an 8-qubit quantum circuit. Then perform,\n",
    "either in code in words/algebra on paper, a computation on the state using the\n",
    "gates of your choice. Next add gates to reverse your computation. Finally,\n",
    "imagine you measure each qubit in the |\"0\"> and |\"1\"> basis and place the result\n",
    "in a classical register. What would this register contain?"
   ]
  },
  {
   "cell_type": "code",
   "execution_count": 28,
   "metadata": {},
   "outputs": [
    {
     "name": "stdout",
     "output_type": "stream",
     "text": [
      "(ClassicalRegister(8, 'c16'), 0)\n",
      "(ClassicalRegister(8, 'c16'), 1)\n",
      "(ClassicalRegister(8, 'c16'), 2)\n",
      "(ClassicalRegister(8, 'c16'), 3)\n",
      "(ClassicalRegister(8, 'c16'), 4)\n",
      "(ClassicalRegister(8, 'c16'), 5)\n",
      "(ClassicalRegister(8, 'c16'), 6)\n",
      "(ClassicalRegister(8, 'c16'), 7)\n"
     ]
    },
    {
     "data": {
      "text/html": [
       "<pre style=\"word-wrap: normal;white-space: pre;line-height: 15px;\">                                                         ┌─┐   \n",
       "q18_0: |0>───────────────────■────────────────────────■──┤M├───\n",
       "                ┌───┐      ┌─┴─┐                    ┌─┴─┐└╥┘┌─┐\n",
       "q18_1: |0>──────┤ X ├──────┤ X ├──■──────────────■──┤ X ├─╫─┤M├\n",
       "          ┌─┐   └───┘      └───┘  │              │  └───┘ ║ └╥┘\n",
       "q18_2: |0>┤M├─────────────────────┼──────────────┼────────╫──╫─\n",
       "          └╥┘   ┌───┐           ┌─┴─┐          ┌─┴─┐ ┌─┐  ║  ║ \n",
       "q18_3: |0>─╫────┤ X ├───────────┤ X ├──■────■──┤ X ├─┤M├──╫──╫─\n",
       "           ║    ├───┤           └───┘┌─┴─┐┌─┴─┐└┬─┬┘ └╥┘  ║  ║ \n",
       "q18_4: |0>─╫────┤ X ├────────────────┤ X ├┤ X ├─┤M├───╫───╫──╫─\n",
       "           ║    ├───┤┌─┐             └───┘└───┘ └╥┘   ║   ║  ║ \n",
       "q18_5: |0>─╫────┤ X ├┤M├─────────────────────────╫────╫───╫──╫─\n",
       "           ║ ┌─┐└───┘└╥┘                         ║    ║   ║  ║ \n",
       "q18_6: |0>─╫─┤M├──────╫──────────────────────────╫────╫───╫──╫─\n",
       "           ║ └╥┘┌───┐ ║ ┌─┐                      ║    ║   ║  ║ \n",
       "q18_7: |0>─╫──╫─┤ X ├─╫─┤M├──────────────────────╫────╫───╫──╫─\n",
       "           ║  ║ └───┘ ║ └╥┘                      ║    ║   ║  ║ \n",
       " c16_0: 0 ═╬══╬═══════╬══╬═══════════════════════╬════╬═══╩══╬═\n",
       "           ║  ║       ║  ║                       ║    ║      ║ \n",
       " c16_1: 0 ═╬══╬═══════╬══╬═══════════════════════╬════╬══════╩═\n",
       "           ║  ║       ║  ║                       ║    ║        \n",
       " c16_2: 0 ═╩══╬═══════╬══╬═══════════════════════╬════╬════════\n",
       "              ║       ║  ║                       ║    ║        \n",
       " c16_3: 0 ════╬═══════╬══╬═══════════════════════╬════╩════════\n",
       "              ║       ║  ║                       ║             \n",
       " c16_4: 0 ════╬═══════╬══╬═══════════════════════╩═════════════\n",
       "              ║       ║  ║                                     \n",
       " c16_5: 0 ════╬═══════╩══╬═════════════════════════════════════\n",
       "              ║          ║                                     \n",
       " c16_6: 0 ════╩══════════╬═════════════════════════════════════\n",
       "                         ║                                     \n",
       " c16_7: 0 ═══════════════╩═════════════════════════════════════\n",
       "                                                               </pre>"
      ],
      "text/plain": [
       "<qiskit.visualization.text.TextDrawing at 0x7fb1453417f0>"
      ]
     },
     "execution_count": 28,
     "metadata": {},
     "output_type": "execute_result"
    }
   ],
   "source": [
    "qr = QuantumRegister(8)\n",
    "cr = ClassicalRegister(8)\n",
    "circuit = QuantumCircuit(qr,cr)\n",
    "circuit.x(1)\n",
    "circuit.x(3)\n",
    "circuit.x(4)\n",
    "circuit.x(5)\n",
    "circuit.x(7)\n",
    "#perform computation\n",
    "circuit.cx(qr[0],qr[1])\n",
    "circuit.cx(qr[1],qr[3])\n",
    "circuit.cx(qr[3],qr[4])\n",
    "#reverse\n",
    "circuit.cx(qr[3],qr[4])\n",
    "circuit.cx(qr[1],qr[3])\n",
    "circuit.cx(qr[0],qr[1])\n",
    "circuit.measure(qr,cr)\n",
    "#this register contains the eight bits corresponding to the measurement of the eight qubits\n",
    "circuit.draw()\n",
    "#"
   ]
  },
  {
   "cell_type": "code",
   "execution_count": null,
   "metadata": {},
   "outputs": [],
   "source": []
  }
 ],
 "metadata": {
  "kernelspec": {
   "display_name": "bookkernel",
   "language": "python",
   "name": "bookkernel"
  },
  "language_info": {
   "codemirror_mode": {
    "name": "ipython",
    "version": 3
   },
   "file_extension": ".py",
   "mimetype": "text/x-python",
   "name": "python",
   "nbconvert_exporter": "python",
   "pygments_lexer": "ipython3",
   "version": "3.6.6"
  }
 },
 "nbformat": 4,
 "nbformat_minor": 2
}
