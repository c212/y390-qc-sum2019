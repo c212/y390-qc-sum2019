{
 "cells": [
  {
   "cell_type": "code",
   "execution_count": 1,
   "metadata": {},
   "outputs": [
    {
     "ename": "ImportError",
     "evalue": "cannot import name 'QISKitError'",
     "output_type": "error",
     "traceback": [
      "\u001b[0;31m---------------------------------------------------------------------------\u001b[0m",
      "\u001b[0;31mImportError\u001b[0m                               Traceback (most recent call last)",
      "\u001b[0;32m<ipython-input-1-ee50784e4c76>\u001b[0m in \u001b[0;36m<module>\u001b[0;34m\u001b[0m\n\u001b[1;32m      1\u001b[0m \u001b[0mget_ipython\u001b[0m\u001b[0;34m(\u001b[0m\u001b[0;34m)\u001b[0m\u001b[0;34m.\u001b[0m\u001b[0mrun_line_magic\u001b[0m\u001b[0;34m(\u001b[0m\u001b[0;34m'matplotlib'\u001b[0m\u001b[0;34m,\u001b[0m \u001b[0;34m'inline'\u001b[0m\u001b[0;34m)\u001b[0m\u001b[0;34m\u001b[0m\u001b[0m\n\u001b[0;32m----> 2\u001b[0;31m \u001b[0;32mfrom\u001b[0m \u001b[0mqiskit\u001b[0m \u001b[0;32mimport\u001b[0m \u001b[0mQuantumCircuit\u001b[0m\u001b[0;34m,\u001b[0m \u001b[0mClassicalRegister\u001b[0m\u001b[0;34m,\u001b[0m \u001b[0mQuantumRegister\u001b[0m\u001b[0;34m,\u001b[0m \u001b[0mQISKitError\u001b[0m\u001b[0;34m\u001b[0m\u001b[0m\n\u001b[0m",
      "\u001b[0;31mImportError\u001b[0m: cannot import name 'QISKitError'"
     ]
    }
   ],
   "source": [
    "%matplotlib inline\n",
    "from qiskit import QuantumCircuit, ClassicalRegister, QuantumRegister, QISKitError"
   ]
  },
  {
   "cell_type": "markdown",
   "metadata": {},
   "source": [
    "# $X\\left | \"0\" \\right \\rangle $"
   ]
  },
  {
   "cell_type": "code",
   "execution_count": null,
   "metadata": {},
   "outputs": [],
   "source": [
    "qr = QuantumRegister(1)\n",
    "circuit = QuantumCircuit(qr)\n",
    "circuit.x(qr[0])\n",
    "circuit.draw()"
   ]
  },
  {
   "cell_type": "markdown",
   "metadata": {},
   "source": [
    "# $XH\\left | \"0\" \\right \\rangle $"
   ]
  },
  {
   "cell_type": "code",
   "execution_count": null,
   "metadata": {},
   "outputs": [],
   "source": [
    "qr = QuantumRegister(1)\n",
    "circuit = QuantumCircuit(qr)\n",
    "circuit.h(qr[0])\n",
    "circuit.x(qr[0])\n",
    "circuit.draw()"
   ]
  },
  {
   "cell_type": "markdown",
   "metadata": {},
   "source": [
    "# CNOT using $\\left | \"+\" \\right \\rangle$  as control and $\\left | \"0\" \\right \\rangle $ as target\n"
   ]
  },
  {
   "cell_type": "code",
   "execution_count": null,
   "metadata": {},
   "outputs": [],
   "source": [
    "qr = QuantumRegister(2)\n",
    "circuit = QuantumCircuit(qr)\n",
    "circuit.h(qr[0])\n",
    "circuit.cx(qr[0],qr[1])\n",
    "circuit.draw()"
   ]
  },
  {
   "cell_type": "markdown",
   "metadata": {
    "collapsed": true
   },
   "source": [
    "# CNOT using $\\left | \"+\" \\right \\rangle$  as control and $\\left | \"0\" \\right \\rangle $ as target with classical register"
   ]
  },
  {
   "cell_type": "code",
   "execution_count": null,
   "metadata": {},
   "outputs": [],
   "source": [
    "qr = QuantumRegister(2)\n",
    "cr = ClassicalRegister(2)\n",
    "circuit = QuantumCircuit(qr, cr)\n",
    "circuit.h(qr[0])\n",
    "circuit.cx(qr[0],qr[1])\n",
    "circuit.draw()"
   ]
  },
  {
   "cell_type": "markdown",
   "metadata": {},
   "source": [
    "# CNOT using $\\left | \"+\" \\right \\rangle$  as control and $\\left | \"0\" \\right \\rangle $ as target with measurement "
   ]
  },
  {
   "cell_type": "code",
   "execution_count": null,
   "metadata": {},
   "outputs": [],
   "source": [
    "qr = QuantumRegister(2)\n",
    "cr = ClassicalRegister(2)\n",
    "circuit = QuantumCircuit(qr, cr)\n",
    "circuit.h(qr[0])\n",
    "circuit.cx(qr[0],qr[1])\n",
    "circuit.measure(qr,cr)\n",
    "circuit.draw()"
   ]
  },
  {
   "cell_type": "markdown",
   "metadata": {},
   "source": [
    "# Reversible Circuit Example"
   ]
  },
  {
   "cell_type": "code",
   "execution_count": null,
   "metadata": {},
   "outputs": [],
   "source": [
    "qr = QuantumRegister(5)\n",
    "cr = ClassicalRegister(5)\n",
    "circuit = QuantumCircuit(qr)\n",
    "circuit.cx(qr[2],qr[1])\n",
    "circuit.x(qr[1])\n",
    "circuit.h(qr[2])\n",
    "circuit.s(qr[3])\n",
    "circuit.y(qr[4])\n",
    "circuit.z(qr[3])\n",
    "circuit.t(qr[2])\n",
    "circuit.tdg(qr[2])\n",
    "circuit.z(qr[3])\n",
    "\n",
    "circuit.y(qr[4])\n",
    "circuit.sdg(qr[3])\n",
    "circuit.h(qr[2])\n",
    "circuit.x(qr[1])\n",
    "circuit.cx(qr[2],qr[1])\n",
    "circuit.draw()"
   ]
  },
  {
   "cell_type": "code",
   "execution_count": null,
   "metadata": {},
   "outputs": [],
   "source": []
  }
 ],
 "metadata": {
  "kernelspec": {
   "display_name": "bookkernel",
   "language": "python",
   "name": "bookkernel"
  },
  "language_info": {
   "codemirror_mode": {
    "name": "ipython",
    "version": 3
   },
   "file_extension": ".py",
   "mimetype": "text/x-python",
   "name": "python",
   "nbconvert_exporter": "python",
   "pygments_lexer": "ipython3",
   "version": "3.6.6"
  }
 },
 "nbformat": 4,
 "nbformat_minor": 2
}
