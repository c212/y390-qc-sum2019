{
 "cells": [
  {
   "cell_type": "markdown",
   "metadata": {},
   "source": [
    "1. Find another classic universal gate set."
   ]
  },
  {
   "cell_type": "code",
   "execution_count": null,
   "metadata": {},
   "outputs": [],
   "source": [
    "#{not, or}"
   ]
  },
  {
   "cell_type": "code",
   "execution_count": 45,
   "metadata": {},
   "outputs": [],
   "source": [
    "%matplotlib inline\n",
    "import numpy as np\n",
    "from functools import reduce\n",
    "from math import log\n",
    "import itertools\n",
    "\n",
    "zero_qubit=np.matrix('1; 0')\n",
    "one_qubit=np.matrix('0; 1')\n",
    "plus_qubit=1/np.sqrt(2)*np.matrix('1; 1')\n",
    "minus_qubit=1/np.sqrt(2)*np.matrix('1; -1')\n",
    "clockwisearrow_qubit=1/np.sqrt(2)*np.matrix([[1],[np.complex(0,1)]])    \n",
    "counterclockwisearrow_qubit=1/np.sqrt(2)*np.matrix([[1],[-np.complex(0,1)]])\n",
    "\n",
    "import matplotlib.pyplot as plt\n",
    "from mpl_toolkits.mplot3d import Axes3D\n",
    "def get_bloch_coordinates(qubit):\n",
    "    def get_x_bloch(qubit):\n",
    "        qubit_x_basis=1./np.sqrt(2)*np.matrix('1 1; 1 -1')*qubit \n",
    "        prob_zero_qubit=(qubit_x_basis.item(0)*qubit_x_basis.item(0).conjugate()).real\n",
    "        prob_one_qubit=(qubit_x_basis.item(1)*qubit_x_basis.item(1).conjugate()).real\n",
    "        return prob_zero_qubit-prob_one_qubit\n",
    "\n",
    "    def get_y_bloch(qubit):\n",
    "        qubit_y_basis=1./np.sqrt(2)*np.matrix('1 1; 1 -1')*np.matrix([[1,0],[0,-np.complex(0,1)]])*qubit\n",
    "        prob_zero_qubit=(qubit_y_basis.item(0)*qubit_y_basis.item(0).conjugate()).real\n",
    "        prob_one_qubit=(qubit_y_basis.item(1)*qubit_y_basis.item(1).conjugate()).real\n",
    "        return prob_zero_qubit-prob_one_qubit\n",
    "\n",
    "    def get_z_bloch(qubit):\n",
    "        qubit_z_basis=qubit\n",
    "        prob_zero_qubit=(qubit_z_basis.item(0)*qubit_z_basis.item(0).conjugate()).real\n",
    "        prob_one_qubit=(qubit_z_basis.item(1)*qubit_z_basis.item(1).conjugate()).real\n",
    "        return prob_zero_qubit-prob_one_qubit\n",
    "    return (get_x_bloch(qubit),get_y_bloch(qubit),get_z_bloch(qubit))\n",
    "\n",
    "def plot_bloch(qubit,color='b',ax=None):\n",
    "    if not ax:\n",
    "        fig = plt.figure()\n",
    "        ax = fig.add_subplot(111, projection='3d')\n",
    "        \n",
    "        # draw sphere\n",
    "        u, v = np.mgrid[0:2*np.pi:20j, 0:np.pi:10j]\n",
    "        x = np.cos(u)*np.sin(v)\n",
    "        y = np.sin(u)*np.sin(v)\n",
    "        z = np.cos(v)\n",
    "        ax.plot_wireframe(x, y, z, color=\"k\",alpha=.1)\n",
    "        ax.grid(False)\n",
    "\n",
    "    coordinates=get_bloch_coordinates(qubit)\n",
    "    ax.quiver([0],[0],[0],[coordinates[0]],[coordinates[1]],[coordinates[2]],length=1,color=color,arrow_length_ratio=0.3)\n",
    "    ax.set_xlim([-1,1])\n",
    "    ax.set_ylim([-1,1])\n",
    "    ax.set_zlim([-1,1])\n",
    "    ax.set_xlabel('x: |\"-\"> to |\"+\">')\n",
    "    ax.set_ylabel('y: |\"↺\"> to |\"↻\">')\n",
    "    ax.set_zlabel('z: |\"1\"> to |\"0\">')\n",
    "    ax.view_init(azim=20)\n",
    "    return ax\n",
    "i_ = np.complex(0,1)\n",
    "H=1./np.sqrt(2)*np.matrix('1 1; 1 -1') \n",
    "X=np.matrix('0 1; 1 0')\n",
    "Y=np.matrix([[0, -i_],[i_, 0]])\n",
    "Z=np.matrix([[1,0],[0,-1]])\n",
    "S=np.matrix([[1,0],[0,np.e**(i_*np.pi/2.)]])\n",
    "T=np.matrix([[1,0],[0, np.e**(i_*np.pi/4.)]])\n",
    "Sdagger = S.conjugate().transpose()\n",
    "Tdagger= T.conjugate().transpose()\n",
    "CNOT=np.matrix('1 0 0 0; 0 1 0 0; 0 0 0 1; 0 0 1 0')\n"
   ]
  },
  {
   "cell_type": "markdown",
   "metadata": {},
   "source": [
    "2. |\"0\">I is not an allowed operation. Try applying the gate after the qubit in\n",
    "Python; what happens?"
   ]
  },
  {
   "cell_type": "code",
   "execution_count": 11,
   "metadata": {},
   "outputs": [
    {
     "ename": "ValueError",
     "evalue": "shapes (2,1) and (2,2) not aligned: 1 (dim 1) != 2 (dim 0)",
     "output_type": "error",
     "traceback": [
      "\u001b[0;31m---------------------------------------------------------------------------\u001b[0m",
      "\u001b[0;31mValueError\u001b[0m                                Traceback (most recent call last)",
      "\u001b[0;32m<ipython-input-11-152fb5b4d0af>\u001b[0m in \u001b[0;36m<module>\u001b[0;34m\u001b[0m\n\u001b[1;32m      1\u001b[0m \u001b[0midentity_gate\u001b[0m \u001b[0;34m=\u001b[0m \u001b[0mnp\u001b[0m\u001b[0;34m.\u001b[0m\u001b[0meye\u001b[0m\u001b[0;34m(\u001b[0m\u001b[0;36m2\u001b[0m\u001b[0;34m,\u001b[0m\u001b[0;36m2\u001b[0m\u001b[0;34m)\u001b[0m\u001b[0;34m\u001b[0m\u001b[0m\n\u001b[0;32m----> 2\u001b[0;31m \u001b[0mprint\u001b[0m\u001b[0;34m(\u001b[0m\u001b[0mnp\u001b[0m\u001b[0;34m.\u001b[0m\u001b[0marray_equal\u001b[0m\u001b[0;34m(\u001b[0m\u001b[0mzero_qubit\u001b[0m\u001b[0;34m,\u001b[0m\u001b[0mzero_qubit\u001b[0m\u001b[0;34m*\u001b[0m\u001b[0midentity_gate\u001b[0m\u001b[0;34m)\u001b[0m\u001b[0;34m)\u001b[0m\u001b[0;34m\u001b[0m\u001b[0m\n\u001b[0m\u001b[1;32m      3\u001b[0m \u001b[0;31m#since the identity gate is 2x2 but zero_qubit is 2x1, right multiplication by the identity gate is not possible\u001b[0m\u001b[0;34m\u001b[0m\u001b[0;34m\u001b[0m\u001b[0m\n\u001b[1;32m      4\u001b[0m \u001b[0;31m#we could fix this by making the identity gate a 1x1 matrix\u001b[0m\u001b[0;34m\u001b[0m\u001b[0;34m\u001b[0m\u001b[0m\n",
      "\u001b[0;32m/nfs/nfs7/home/fcherech/MoranQC/lib/python3.6/site-packages/numpy/matrixlib/defmatrix.py\u001b[0m in \u001b[0;36m__mul__\u001b[0;34m(self, other)\u001b[0m\n\u001b[1;32m    218\u001b[0m         \u001b[0;32mif\u001b[0m \u001b[0misinstance\u001b[0m\u001b[0;34m(\u001b[0m\u001b[0mother\u001b[0m\u001b[0;34m,\u001b[0m \u001b[0;34m(\u001b[0m\u001b[0mN\u001b[0m\u001b[0;34m.\u001b[0m\u001b[0mndarray\u001b[0m\u001b[0;34m,\u001b[0m \u001b[0mlist\u001b[0m\u001b[0;34m,\u001b[0m \u001b[0mtuple\u001b[0m\u001b[0;34m)\u001b[0m\u001b[0;34m)\u001b[0m \u001b[0;34m:\u001b[0m\u001b[0;34m\u001b[0m\u001b[0m\n\u001b[1;32m    219\u001b[0m             \u001b[0;31m# This promotes 1-D vectors to row vectors\u001b[0m\u001b[0;34m\u001b[0m\u001b[0;34m\u001b[0m\u001b[0m\n\u001b[0;32m--> 220\u001b[0;31m             \u001b[0;32mreturn\u001b[0m \u001b[0mN\u001b[0m\u001b[0;34m.\u001b[0m\u001b[0mdot\u001b[0m\u001b[0;34m(\u001b[0m\u001b[0mself\u001b[0m\u001b[0;34m,\u001b[0m \u001b[0masmatrix\u001b[0m\u001b[0;34m(\u001b[0m\u001b[0mother\u001b[0m\u001b[0;34m)\u001b[0m\u001b[0;34m)\u001b[0m\u001b[0;34m\u001b[0m\u001b[0m\n\u001b[0m\u001b[1;32m    221\u001b[0m         \u001b[0;32mif\u001b[0m \u001b[0misscalar\u001b[0m\u001b[0;34m(\u001b[0m\u001b[0mother\u001b[0m\u001b[0;34m)\u001b[0m \u001b[0;32mor\u001b[0m \u001b[0;32mnot\u001b[0m \u001b[0mhasattr\u001b[0m\u001b[0;34m(\u001b[0m\u001b[0mother\u001b[0m\u001b[0;34m,\u001b[0m \u001b[0;34m'__rmul__'\u001b[0m\u001b[0;34m)\u001b[0m \u001b[0;34m:\u001b[0m\u001b[0;34m\u001b[0m\u001b[0m\n\u001b[1;32m    222\u001b[0m             \u001b[0;32mreturn\u001b[0m \u001b[0mN\u001b[0m\u001b[0;34m.\u001b[0m\u001b[0mdot\u001b[0m\u001b[0;34m(\u001b[0m\u001b[0mself\u001b[0m\u001b[0;34m,\u001b[0m \u001b[0mother\u001b[0m\u001b[0;34m)\u001b[0m\u001b[0;34m\u001b[0m\u001b[0m\n",
      "\u001b[0;31mValueError\u001b[0m: shapes (2,1) and (2,2) not aligned: 1 (dim 1) != 2 (dim 0)"
     ]
    }
   ],
   "source": [
    "identity_gate = np.eye(2,2)\n",
    "print(np.array_equal(zero_qubit,zero_qubit*identity_gate))\n",
    "#since the identity gate is 2x2 but zero_qubit is 2x1, right multiplication by the identity gate is not possible\n",
    "#we could fix this by making the identity gate a 1x1 matrix"
   ]
  },
  {
   "cell_type": "markdown",
   "metadata": {},
   "source": [
    "3. What would be the result of IIII|\"0\">? What would be the result of I|\"+\">?"
   ]
  },
  {
   "cell_type": "code",
   "execution_count": 12,
   "metadata": {},
   "outputs": [],
   "source": [
    "#|\"0\"> and |\"+\">, respectively"
   ]
  },
  {
   "cell_type": "markdown",
   "metadata": {},
   "source": [
    "4. Visualize XH|\"0\"> on the Bloch sphere. What gate would you have to apply to\n",
    "|\"1\"> to get the same result?"
   ]
  },
  {
   "cell_type": "code",
   "execution_count": 41,
   "metadata": {},
   "outputs": [
    {
     "name": "stdout",
     "output_type": "stream",
     "text": [
      "[[ True]\n",
      " [ True]]\n"
     ]
    },
    {
     "data": {
      "image/png": "[encoded data removed]",
      "text/plain": [
       "<Figure size 432x288 with 1 Axes>"
      ]
     },
     "metadata": {
      "needs_background": "light"
     },
     "output_type": "display_data"
    }
   ],
   "source": [
    "xh0 = X*H*zero_qubit\n",
    "get_bloch_coordinates(xh0)\n",
    "plot_bloch(xh0)\n",
    "xhx1 = X*H*X*one_qubit\n",
    "print(xh0 == xhx1)\n"
   ]
  },
  {
   "cell_type": "code",
   "execution_count": 42,
   "metadata": {},
   "outputs": [
    {
     "ename": "SyntaxError",
     "evalue": "invalid syntax (<ipython-input-42-9275035ad38f>, line 1)",
     "output_type": "error",
     "traceback": [
      "\u001b[0;36m  File \u001b[0;32m\"<ipython-input-42-9275035ad38f>\"\u001b[0;36m, line \u001b[0;32m1\u001b[0m\n\u001b[0;31m    5. Starting out with a |\"+\"> qubit, which gate(s) could you apply to get |\"0\"> as a\u001b[0m\n\u001b[0m              ^\u001b[0m\n\u001b[0;31mSyntaxError\u001b[0m\u001b[0;31m:\u001b[0m invalid syntax\n"
     ]
    }
   ],
   "source": [
    "5. Starting out with a |\"+\"> qubit, which gate(s) could you apply to get |\"0\"> as a\n",
    "result? To get |\"counterclockwisearrow_qubit\"> as a result?"
   ]
  },
  {
   "cell_type": "code",
   "execution_count": 44,
   "metadata": {},
   "outputs": [
    {
     "name": "stdout",
     "output_type": "stream",
     "text": [
      "[[1]\n",
      " [0]]\n",
      "[[1.]\n",
      " [0.]]\n",
      "[[0.70710678+0.j        ]\n",
      " [0.        -0.70710678j]]\n",
      "[[ 7.07106781e-01+0.j        ]\n",
      " [-4.32978028e-17-0.70710678j]]\n"
     ]
    }
   ],
   "source": [
    "\n",
    "hp = H*plus_qubit\n",
    "#note == won't work int float\n",
    "#print(zero_qubit == hxp.astype(int)) doesn't work either\n",
    "print(zero_qubit)\n",
    "print(hp)\n",
    "\n",
    "zsp = Z*S*plus_qubit\n",
    "print(counterclockwisearrow_qubit)\n",
    "print(zsp)"
   ]
  },
  {
   "cell_type": "markdown",
   "metadata": {},
   "source": [
    "6. What gate do you get if you apply the X gate twice? The Y gate twice? The Z gate\n",
    "twice?"
   ]
  },
  {
   "cell_type": "code",
   "execution_count": null,
   "metadata": {},
   "outputs": [],
   "source": [
    "#the gate you started with; each gate is its own inverse"
   ]
  },
  {
   "cell_type": "markdown",
   "metadata": {},
   "source": [
    "7. What is SS†|\"+\">? What is TT†|\"+\">?"
   ]
  },
  {
   "cell_type": "code",
   "execution_count": null,
   "metadata": {},
   "outputs": [],
   "source": [
    "#|\"+\"> and |\"+\"> "
   ]
  },
  {
   "cell_type": "markdown",
   "metadata": {},
   "source": [
    "8. What would you get by applying the CNOT gate to the state |\"++\">?"
   ]
  },
  {
   "cell_type": "code",
   "execution_count": 53,
   "metadata": {},
   "outputs": [
    {
     "name": "stdout",
     "output_type": "stream",
     "text": [
      "[[0.5]\n",
      " [0.5]\n",
      " [0.5]\n",
      " [0.5]]\n",
      "[[0.5]\n",
      " [0.5]\n",
      " [0.5]\n",
      " [0.5]]\n"
     ]
    }
   ],
   "source": [
    "#you would get |\"++\">\n",
    "def create_quantum_state(qubits):\n",
    "    return reduce(lambda x,y:np.kron(x,y),qubits)\n",
    "pp = create_quantum_state([plus_qubit, plus_qubit])\n",
    "print(pp)\n",
    "out = CNOT *pp\n",
    "print(out)"
   ]
  },
  {
   "cell_type": "code",
   "execution_count": null,
   "metadata": {},
   "outputs": [],
   "source": []
  },
  {
   "cell_type": "code",
   "execution_count": null,
   "metadata": {},
   "outputs": [],
   "source": []
  }
 ],
 "metadata": {
  "kernelspec": {
   "display_name": "bookkernel",
   "language": "python",
   "name": "bookkernel"
  },
  "language_info": {
   "codemirror_mode": {
    "name": "ipython",
    "version": 3
   },
   "file_extension": ".py",
   "mimetype": "text/x-python",
   "name": "python",
   "nbconvert_exporter": "python",
   "pygments_lexer": "ipython3",
   "version": "3.6.6"
  }
 },
 "nbformat": 4,
 "nbformat_minor": 2
}
