{
 "cells": [
  {
   "cell_type": "markdown",
   "metadata": {},
   "source": [
    "1. Create a new quantum score called Playing Around and drag some boxes from\n",
    "the user interface to the wires. Then add in measurement boxes for each of the\n",
    "wires and click Simulate. What was your result?"
   ]
  },
  {
   "cell_type": "code",
   "execution_count": 8,
   "metadata": {},
   "outputs": [
    {
     "data": {
      "text/plain": [
       "'\\nOPENQASM 2.0;\\ninclude \"qelib1.inc\";\\n\\nqreg q[5];\\ncreg c[5];\\n\\nrx(pi/2) q[0];\\nrz(pi/2) q[1];\\nry(pi/2) q[2];\\ntdg q[3];\\nrz(pi/2) q[4];\\nu2(pi/2,pi/2) q[0];\\ny q[3];\\ny q[0];\\nmeasure q[3] -> c[3];\\nmeasure q[0] -> c[0];\\nmeasure q[2] -> c[2];\\nmeasure q[1] -> c[1];\\nmeasure q[4] -> c[4];\\nmeasure q[4] -> c[4];'"
      ]
     },
     "execution_count": 8,
     "metadata": {},
     "output_type": "execute_result"
    }
   ],
   "source": [
    "# Simulate button not available in IBMQ web UI, so output is same as question 3's. \n",
    "\n",
    "# OPENQASM 2.0;\n",
    "# include \"qelib1.inc\";\n",
    "\n",
    "# qreg q[5];\n",
    "# creg c[5];\n",
    "\n",
    "# rx(pi/2) q[0];\n",
    "# rz(pi/2) q[1];\n",
    "# ry(pi/2) q[2];\n",
    "# tdg q[3];\n",
    "# rz(pi/2) q[4];\n",
    "# u2(pi/2,pi/2) q[0];\n",
    "# y q[3];\n",
    "# y q[0];\n",
    "# measure q[3] -> c[3];\n",
    "# measure q[0] -> c[0];\n",
    "# measure q[2] -> c[2];\n",
    "# measure q[1] -> c[1];\n",
    "# measure q[4] -> c[4];\n",
    "# measure q[4] -> c[4];\n",
    "\n"
   ]
  },
  {
   "cell_type": "markdown",
   "metadata": {},
   "source": [
    "2. Try changing the number of qubits and classic bits in your first quantum program from five to two. When you run it, what are your results?\n"
   ]
  },
  {
   "cell_type": "code",
   "execution_count": null,
   "metadata": {},
   "outputs": [],
   "source": [
    "import time\n",
    "%matplotlib inline\n",
    "import qiskit\n",
    "from qiskit import IBMQ\n",
    "IBMQ.enable_account('407e9bae3b7dcde32639a7dcedf05ae6d7a0bed5c1a328e149afd88e5a6584d3776bfa94fdbcad4de27402abf2ed41b183ba3e6877fd64b80917cc06c4e820ae','https://api.quantum-computing.ibm.com/api/Hubs/ibm-q/Groups/open/Projects/main')# To store your credentials locally you can run:\n",
    "backend = IBMQ.get_backend('ibmqx2')\n",
    "q = qiskit.QuantumRegister(2)\n",
    "c = qiskit.ClassicalRegister(2)\n",
    "qc = qiskit.QuantumCircuit(q, c)\n",
    "qc.measure(q, c)\n",
    "job_exp = qiskit.execute(qc, backend=backend)\n",
    "\n",
    "from qiskit.tools.visualization import plot_histogram\n",
    "print(job_exp.result())\n",
    "plot_histogram(job_exp.result().get_counts(qc))"
   ]
  },
  {
   "cell_type": "markdown",
   "metadata": {},
   "source": [
    "3. Let's run your first quantum program on an actual quantum computer instead of\n",
    "a simulator! You can choose to do this either from the quantum composer user\n",
    "interface, or from Qiskit. If you choose to do from the quantum composer user\n",
    "interface, do as you did in the Hello quantum world section, only, this time, instead\n",
    "of clicking Simulate, click Run. If you choose to do this from Qiskit, then change\n",
    "the backend to an option beginning with ibmq_5_, and then Run. Note that, in\n",
    "either case, the run will take a lot longer. What is your result? Why do you think\n",
    "it is different from the simulation?\n"
   ]
  },
  {
   "cell_type": "markdown",
   "metadata": {},
   "source": [
    "<img src=\"q3.png\">"
   ]
  },
  {
   "cell_type": "code",
   "execution_count": null,
   "metadata": {},
   "outputs": [],
   "source": [
    "#The result is different from simulation because it is a probabilistic calculation and there are errors involved in quantum computation."
   ]
  },
  {
   "cell_type": "markdown",
   "metadata": {},
   "source": [
    "4. If you wanted a qubit halfway between 0 and 1, where would it lie on the sphere\n",
    "we have used to visualize a qubit?"
   ]
  },
  {
   "cell_type": "code",
   "execution_count": null,
   "metadata": {},
   "outputs": [],
   "source": [
    "#in the x-y plane"
   ]
  }
 ],
 "metadata": {
  "kernelspec": {
   "display_name": "bookkernel",
   "language": "python",
   "name": "bookkernel"
  },
  "language_info": {
   "codemirror_mode": {
    "name": "ipython",
    "version": 3
   },
   "file_extension": ".py",
   "mimetype": "text/x-python",
   "name": "python",
   "nbconvert_exporter": "python",
   "pygments_lexer": "ipython3",
   "version": "3.6.6"
  }
 },
 "nbformat": 4,
 "nbformat_minor": 2
}
